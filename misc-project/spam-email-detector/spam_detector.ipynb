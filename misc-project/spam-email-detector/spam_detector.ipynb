{
 "cells": [
  {
   "cell_type": "markdown",
   "id": "69fa97cb",
   "metadata": {},
   "source": [
    "## Spam Email Detector"
   ]
  },
  {
   "cell_type": "markdown",
   "id": "ff456517",
   "metadata": {},
   "source": [
    "Import Libraries"
   ]
  },
  {
   "cell_type": "code",
   "execution_count": 23,
   "id": "9a78ed77",
   "metadata": {},
   "outputs": [],
   "source": [
    "from sklearn.ensemble import IsolationForest\n",
    "from sklearn.model_selection import train_test_split\n",
    "import pandas as pd"
   ]
  },
  {
   "cell_type": "markdown",
   "id": "dd53b906",
   "metadata": {},
   "source": [
    "load dataset"
   ]
  },
  {
   "cell_type": "code",
   "execution_count": 24,
   "id": "fdb72036",
   "metadata": {},
   "outputs": [
    {
     "name": "stdout",
     "output_type": "stream",
     "text": [
      "Training data shape: (67,), (67,)\n",
      "Testing data shape: (17,), (17,)\n"
     ]
    }
   ],
   "source": [
    "df = pd.read_csv(\n",
    "    \"hf://datasets/TrainingDataPro/email-spam-classification/email_spam.csv\"\n",
    ")\n",
    "df.head()\n",
    "# assign X and y\n",
    "X = df[\"title\"] + \" \" + df[\"text\"]\n",
    "y = df[\"type\"]\n",
    "\n",
    "# split into train and test sets\n",
    "X_train, X_test, y_train, y_test = train_test_split(\n",
    "    X, y, test_size=0.2, random_state=42\n",
    ")\n",
    "\n",
    "# view shape\n",
    "print(f\"Training data shape: {X_train.shape}, {y_train.shape}\")\n",
    "print(f\"Testing data shape: {X_test.shape}, {y_test.shape}\")"
   ]
  },
  {
   "cell_type": "markdown",
   "id": "7143cd99",
   "metadata": {},
   "source": [
    "Preprocess the text"
   ]
  },
  {
   "cell_type": "code",
   "execution_count": null,
   "id": "bbfc0ab2",
   "metadata": {},
   "outputs": [
    {
     "name": "stdout",
     "output_type": "stream",
     "text": [
      "Training data shape: (67, 2065), (67,)\n",
      "Testing data shape: (17, 2065), (17,)\n"
     ]
    }
   ],
   "source": [
    "# convert all text to lowercase\n",
    "X_train = X_train.str.lower()\n",
    "X_test = X_test.str.lower()\n",
    "\n",
    "# vectorize text\n",
    "from sklearn.feature_extraction.text import TfidfVectorizer\n",
    "vectorizer = TfidfVectorizer(stop_words=\"english\",max_features=1000,min_df=2,ngram_range=(1,2))\n",
    "\n",
    "X_train = vectorizer.fit_transform(X_train)\n",
    "X_test = vectorizer.transform(X_test)\n",
    "\n",
    "# view shape\n",
    "print(f\"Training data shape: {X_train.shape}, {y_train.shape}\")\n",
    "print(f\"Testing data shape: {X_test.shape}, {y_test.shape}\")"
   ]
  },
  {
   "cell_type": "markdown",
   "id": "c018bfae",
   "metadata": {},
   "source": [
    "Initilise model"
   ]
  },
  {
   "cell_type": "code",
   "execution_count": 26,
   "id": "861f59a5",
   "metadata": {},
   "outputs": [
    {
     "name": "stdout",
     "output_type": "stream",
     "text": [
      "Predictions: [ 1  1  1  1  1  1  1  1 -1  1  1  1  1  1  1  1 -1]\n",
      "Anomaly scores: [ 0.00805365  0.02265909  0.02068973  0.04306854  0.01739172  0.01613712\n",
      "  0.02735531  0.01925921 -0.0193898   0.03409306  0.02759595  0.01767208\n",
      "  0.00807727  0.00712183  0.00889083  0.00085627 -0.01871754]\n",
      "type   not spam  spam  All\n",
      "row_0                     \n",
      "-1            1     1    2\n",
      "1            10     5   15\n",
      "All          11     6   17\n"
     ]
    }
   ],
   "source": [
    "model = IsolationForest(contamination=0.31, random_state=42)\n",
    "# train model\n",
    "model.fit(X_train)\n",
    "\n",
    "# predict on test data\n",
    "predictions = model.predict(X_test)\n",
    "anomaly_scores = model.decision_function(X_test)\n",
    "\n",
    "# view predictions\n",
    "print(f\"Predictions: {predictions}\")\n",
    "print(f\"Anomaly scores: {anomaly_scores}\")\n",
    "\n",
    "# crosstab\n",
    "print(pd.crosstab(predictions, y_test,margins=True))"
   ]
  },
  {
   "cell_type": "markdown",
   "id": "89dedc9e",
   "metadata": {},
   "source": [
    "Try one class SVM"
   ]
  },
  {
   "cell_type": "code",
   "execution_count": 27,
   "id": "fa056e9b",
   "metadata": {},
   "outputs": [
    {
     "name": "stdout",
     "output_type": "stream",
     "text": [
      "Predictions: [-1 -1 -1 -1 -1 -1 -1 -1  1 -1 -1 -1 -1  1 -1 -1 -1]\n",
      "Anomaly scores: [-2.66971446e-04 -2.70332428e-04 -5.39767325e-04 -8.23377061e-05\n",
      " -2.62834284e-04 -2.66861474e-04 -3.10403397e-04 -5.43192794e-04\n",
      "  1.31713227e-04 -3.82575149e-04 -5.86165965e-04 -4.47082052e-04\n",
      " -3.12369359e-04  1.35044752e-06 -1.38845529e-04 -2.14232130e-04\n",
      " -1.05998370e-04]\n",
      "type   not spam  spam  All\n",
      "row_0                     \n",
      "-1           10     5   15\n",
      "1             1     1    2\n",
      "All          11     6   17\n"
     ]
    }
   ],
   "source": [
    "# import one class svm\n",
    "from sklearn.svm import OneClassSVM\n",
    "# create model\n",
    "model = OneClassSVM(gamma='auto', nu=0.1)\n",
    "# train model\n",
    "model.fit(X_train)\n",
    "# predict on test data\n",
    "predictions = model.predict(X_test)\n",
    "anomaly_scores = model.decision_function(X_test)\n",
    "# view predictions\n",
    "print(f\"Predictions: {predictions}\")\n",
    "print(f\"Anomaly scores: {anomaly_scores}\")\n",
    "# crosstab\n",
    "print(pd.crosstab(predictions, y_test,margins=True))"
   ]
  },
  {
   "cell_type": "markdown",
   "id": "2a153b55",
   "metadata": {},
   "source": [
    "Data Size too small for this unsupervised learning?"
   ]
  }
 ],
 "metadata": {
  "kernelspec": {
   "display_name": "venv (3.11.9)",
   "language": "python",
   "name": "python3"
  },
  "language_info": {
   "codemirror_mode": {
    "name": "ipython",
    "version": 3
   },
   "file_extension": ".py",
   "mimetype": "text/x-python",
   "name": "python",
   "nbconvert_exporter": "python",
   "pygments_lexer": "ipython3",
   "version": "3.11.9"
  }
 },
 "nbformat": 4,
 "nbformat_minor": 5
}
