{
 "cells": [
  {
   "cell_type": "markdown",
   "id": "3a94d419",
   "metadata": {},
   "source": [
    "Introduction to neural networks and deep learning fundamentals"
   ]
  },
  {
   "cell_type": "markdown",
   "id": "de0a25a0",
   "metadata": {},
   "source": [
    "## Deep Learning\n",
    "\n",
    "Deep learning is a subset of machine learning (ML) that uses artificial neural networks with multiple layers to model and learn complex patterns in data.\n",
    "\n",
    "**Key Feature:**  \n",
    "Automatically extracts relevant features from raw data, eliminating the need for manual feature engineering.\n",
    "\n",
    "---\n",
    "\n",
    "### Overview of Artificial Neural Networks\n",
    "\n",
    "- **Input Layer:** Accepts input data features.\n",
    "- **Hidden Layers:** Perform computations to extract patterns.\n",
    "- **Output Layer:** Produces predictions or classifications.\n",
    "\n",
    "---\n",
    "\n",
    "### Key Components\n",
    "\n",
    "- **Neurons:** Basic units that receive input, process it, and pass the output to the next layer.\n",
    "- **Weights and Biases:** Parameters that determine the strength and offset of the connections between neurons, allowing the network to learn from data.\n",
    "- **Activation Function:** Introduces non-linearity into the network, enabling it to model complex relationships in the data.  \n",
    "    Common activation functions include **ReLU**, **sigmoid**, and **tanh**.\n",
    "\n",
    "---\n",
    "### How Neural Networks Work\n",
    "- **Forward Propagation** Data flows through the network to generate predictions\n",
    "- **Loss Calculation** Compares predictions with actual labels to compute the error\n",
    "- **Back Propagation** adjusts weights and biases using gradient descent to minimise loss\n",
    "\n",
    "\n",
    "--- \n",
    "### Applications of Deep Learning\n",
    "\n",
    "- **Image and Speech Recognition:** Powering facial recognition, voice assistants, and automated transcription.\n",
    "- **Natural Language Processing (NLP):** Enabling machine translation, sentiment analysis, and chatbots.\n",
    "- **Autonomous Vehicles:** Assisting in perception, decision-making, and navigation.\n",
    "- **Healthcare:** Supporting medical image analysis, disease prediction, and drug discovery.\n",
    "- **Recommendation Systems:** Personalizing content in streaming platforms and e-commerce.\n",
    "- **Finance:** Detecting fraud, algorithmic trading, and risk assessment."
   ]
  },
  {
   "cell_type": "code",
   "execution_count": 11,
   "id": "891517ac",
   "metadata": {},
   "outputs": [],
   "source": [
    "from tensorflow.keras.datasets import mnist, cifar10\n",
    "import tensorflow as tf\n",
    "import torch\n",
    "import torch.nn as nn\n",
    "import matplotlib.pyplot as plt\n"
   ]
  },
  {
   "cell_type": "markdown",
   "id": "02012afd",
   "metadata": {},
   "source": [
    "### Load datasets"
   ]
  },
  {
   "cell_type": "code",
   "execution_count": 12,
   "id": "33b8e268",
   "metadata": {},
   "outputs": [
    {
     "name": "stdout",
     "output_type": "stream",
     "text": [
      "MNIST Dataset: Train = (60000, 28, 28), Test = (10000, 28, 28)\n",
      "CIFAR-10 Dataset: Train = (50000, 32, 32, 3), Test = (10000, 32, 32, 3)\n"
     ]
    }
   ],
   "source": [
    "# load mnsit\n",
    "(X_train_mnist, y_train_mnist), (X_test_mnist,y_test_mnist) = mnist.load_data()\n",
    "print(f\"MNIST Dataset: Train = {X_train_mnist.shape}, Test = {X_test_mnist.shape}\")\n",
    "\n",
    "# load cifar-10\n",
    "(X_train_cifar, y_train_cifar), (X_test_cifar,y_test_cifar) = cifar10.load_data()\n",
    "print(f\"CIFAR-10 Dataset: Train = {X_train_cifar.shape}, Test = {X_test_cifar.shape}\")\n"
   ]
  },
  {
   "cell_type": "markdown",
   "id": "a40a5e9e",
   "metadata": {},
   "source": [
    "Define a basic dense layer"
   ]
  },
  {
   "cell_type": "code",
   "execution_count": 13,
   "id": "a7b50e08",
   "metadata": {},
   "outputs": [
    {
     "name": "stdout",
     "output_type": "stream",
     "text": [
      "TensorFlow layer: <Dense name=dense_2, built=False>\n"
     ]
    }
   ],
   "source": [
    "layer = tf.keras.layers.Dense(units=10, activation=\"relu\")\n",
    "print(f\"TensorFlow layer: {layer}\")"
   ]
  },
  {
   "cell_type": "markdown",
   "id": "0f12f87c",
   "metadata": {},
   "source": [
    "Define a basic dense layer"
   ]
  },
  {
   "cell_type": "code",
   "execution_count": 14,
   "id": "502047e7",
   "metadata": {},
   "outputs": [
    {
     "name": "stdout",
     "output_type": "stream",
     "text": [
      "Pytorch Layer: Linear(in_features=10, out_features=5, bias=True)\n"
     ]
    }
   ],
   "source": [
    "layer = nn.Linear(in_features=10, out_features=5)\n",
    "print(f\"Pytorch Layer: {layer}\")"
   ]
  },
  {
   "cell_type": "markdown",
   "id": "93ceb432",
   "metadata": {},
   "source": [
    "Visualise Samples"
   ]
  },
  {
   "cell_type": "code",
   "execution_count": 15,
   "id": "3fc30175",
   "metadata": {},
   "outputs": [
    {
     "data": {
      "image/png": "[encoded data removed]",
      "text/plain": [
       "<Figure size 640x480 with 1 Axes>"
      ]
     },
     "metadata": {},
     "output_type": "display_data"
    },
    {
     "data": {
      "image/png": "[encoded data removed]",
      "text/plain": [
       "<Figure size 640x480 with 1 Axes>"
      ]
     },
     "metadata": {},
     "output_type": "display_data"
    }
   ],
   "source": [
    "# visualise mnist sample\n",
    "plt.imshow(X_train_mnist[0], cmap=\"gray\")\n",
    "plt.title(f\"MNIST Label: {y_train_mnist[0]}\")\n",
    "plt.show()\n",
    "\n",
    "# visualise cifar10 sample\n",
    "plt.imshow(X_train_cifar[0])\n",
    "plt.title(f\"CIFAR-10 Label, {y_train_cifar[0]}\")\n",
    "plt.show()"
   ]
  }
 ],
 "metadata": {
  "kernelspec": {
   "display_name": "venv",
   "language": "python",
   "name": "python3"
  },
  "language_info": {
   "codemirror_mode": {
    "name": "ipython",
    "version": 3
   },
   "file_extension": ".py",
   "mimetype": "text/x-python",
   "name": "python",
   "nbconvert_exporter": "python",
   "pygments_lexer": "ipython3",
   "version": "3.11.9"
  }
 },
 "nbformat": 4,
 "nbformat_minor": 5
}
