{
 "cells": [
  {
   "cell_type": "markdown",
   "id": "ccf5f460",
   "metadata": {},
   "source": [
    "### Gradient Descent and Optimisation Techniques"
   ]
  },
  {
   "cell_type": "markdown",
   "id": "b6c4c20e",
   "metadata": {},
   "source": [
    "## Advanced Optimisation Techniques\n",
    "\n",
    "### Adagrad\n",
    "Adagrad adapts the learning rate for each parameter by scaling it inversely with the sum of the squares of all previous gradients. This allows for larger updates for infrequent parameters and smaller updates for frequent ones, making it particularly useful for sparse data.\n",
    "\n",
    "### RMSprop\n",
    "RMSprop modifies Adagrad by using an exponentially weighted moving average of the squared gradients, rather than a cumulative sum. This prevents the learning rate from decreasing too quickly and helps maintain a steady pace of learning, making it effective for non-stationary objectives and recurrent neural networks (RNNs).\n",
    "\n",
    "### Adam (Adaptive Moment Estimation)\n",
    "Adam combines the benefits of momentum and RMSprop. It computes adaptive learning rates for each parameter by estimating both the first moment (mean) and the second moment (uncentred variance) of the gradients. Adam generally performs well across a wide range of tasks and is robust to noisy data and sparse gradients.\n",
    "\n",
    "---\n",
    "\n",
    "## Importance of Learning Rate and Choosing the Right Optimiser\n",
    "\n",
    "### Learning Rate\n",
    "The learning rate determines the step size for parameter updates during optimisation. If the learning rate is too high, the algorithm may overshoot the minimum or even diverge. If it is too low, convergence will be slow and may get stuck in local minima. Careful tuning of the learning rate is crucial for effective training.\n",
    "\n",
    "### Choosing the Right Optimiser\n",
    "\n",
    "- **SGD (Stochastic Gradient Descent):** Works well for simple, convex problems and is easy to implement. However, it may struggle with complex, non-convex landscapes.\n",
    "- **Adam:** Generally performs well across a variety of tasks and is often the default choice for many deep learning applications.\n",
    "- **RMSprop:** Often preferred for RNNs and sequence-based tasks due to its ability to handle non-stationary objectives.\n",
    "\n",
    "> **Note:** The choice of optimiser and learning rate can significantly impact model performance. It is recommended to experiment with different settings and use validation data to guide selection."
   ]
  },
  {
   "cell_type": "code",
   "execution_count": 40,
   "id": "4f2950fa",
   "metadata": {},
   "outputs": [],
   "source": [
    "import numpy as np\n",
    "import matplotlib.pyplot as plt"
   ]
  },
  {
   "cell_type": "markdown",
   "id": "5b5c6914",
   "metadata": {},
   "source": [
    "generate data"
   ]
  },
  {
   "cell_type": "code",
   "execution_count": 41,
   "id": "cf0c1dc3",
   "metadata": {},
   "outputs": [
    {
     "data": {
      "image/png": "[encoded data removed]",
      "text/plain": [
       "<Figure size 640x480 with 1 Axes>"
      ]
     },
     "metadata": {},
     "output_type": "display_data"
    }
   ],
   "source": [
    "np.random.seed(42)\n",
    "X = 2 * np.random.rand(100, 1)\n",
    "y = 4 + 3 * X + np.random.randn(100, 1)\n",
    "\n",
    "# visualise data\n",
    "plt.scatter(X, y, color=\"blue\")\n",
    "plt.title(\"Generated Dataset\")\n",
    "plt.xlabel(\"X\")\n",
    "plt.ylabel(\"Y\")\n",
    "plt.grid()\n",
    "plt.show()"
   ]
  },
  {
   "cell_type": "markdown",
   "id": "e0beb1b3",
   "metadata": {},
   "source": [
    "Intialise Parameters"
   ]
  },
  {
   "cell_type": "code",
   "execution_count": 42,
   "id": "eb9a0a87",
   "metadata": {},
   "outputs": [
    {
     "name": "stdout",
     "output_type": "stream",
     "text": [
      "Optimised parameters (Thera): \n",
      " [[4.21509616]\n",
      " [2.77011339]]\n"
     ]
    }
   ],
   "source": [
    "m = 100\n",
    "theta = np.random.rand(2,1)\n",
    "learning_rate = 0.1\n",
    "iterations = 1000 \n",
    "\n",
    "# add bias term to X\n",
    "X_b = np.c_[np.ones((m,1)),X]\n",
    "\n",
    "# gradient descent\n",
    "for iteration in range(iterations):\n",
    "    gradients = 2/m * X_b.T.dot(X_b.dot(theta) - y)\n",
    "    theta -= learning_rate * gradients\n",
    "\n",
    "print(\"Optimised parameters (Thera): \\n\", theta)"
   ]
  },
  {
   "cell_type": "code",
   "execution_count": 43,
   "id": "b05cf56c",
   "metadata": {},
   "outputs": [
    {
     "name": "stdout",
     "output_type": "stream",
     "text": [
      "Epoch 0, Loss: 20.7297\n",
      "Epoch 10, Loss: 0.0914\n",
      "Epoch 20, Loss: 0.0456\n",
      "Epoch 30, Loss: 0.0228\n",
      "Epoch 40, Loss: 0.0115\n",
      "Epoch 50, Loss: 0.0057\n",
      "Epoch 60, Loss: 0.0029\n",
      "Epoch 70, Loss: 0.0014\n",
      "Epoch 80, Loss: 0.0007\n",
      "Epoch 90, Loss: 0.0004\n"
     ]
    }
   ],
   "source": [
    "import tensorflow as tf\n",
    "#  prepare data\n",
    "X_tensor = tf.constant(X,dtype = tf.float32)\n",
    "y_tensor = tf.constant(X,dtype = tf.float32)\n",
    "\n",
    "# define model\n",
    "class LinearModel(tf.Module):\n",
    "    def __init__(self):\n",
    "        self.weights = tf.Variable(tf.random.normal([1]))\n",
    "        self.bias = tf.Variable(tf.random.normal([1]))\n",
    "\n",
    "    def __call__(self,X):\n",
    "        return self.weights * X + self.bias\n",
    "    \n",
    "# define loss function \n",
    "def mse_loss(y_true, y_predict):\n",
    "    return tf.reduce_mean(tf.square(y_true - y_predict))\n",
    "\n",
    "# train with sgd\n",
    "model = LinearModel()\n",
    "optimizer = tf.optimizers.SGD(learning_rate=0.1)\n",
    "\n",
    "for epoch in range(100):\n",
    "    with tf.GradientTape() as tape:\n",
    "        y_pred  = model(X_tensor)\n",
    "        loss = mse_loss(y_tensor, y_pred)\n",
    "    gradients = tape.gradient(loss,[model.weights, model.bias])\n",
    "    optimizer.apply_gradients(zip(gradients,[model.weights,model.bias]))\n",
    "    if epoch % 10 == 0:\n",
    "        print(f\"Epoch {epoch}, Loss: {loss.numpy():.4f}\")\n"
   ]
  },
  {
   "cell_type": "code",
   "execution_count": null,
   "id": "249bd98b",
   "metadata": {},
   "outputs": [
    {
     "name": "stdout",
     "output_type": "stream",
     "text": [
      "Epoch 0, Loss: 50.9241\n",
      "Epoch 10, Loss: 26.7393\n",
      "Epoch 20, Loss: 11.5185\n",
      "Epoch 30, Loss: 4.1030\n",
      "Epoch 40, Loss: 1.7010\n",
      "Epoch 50, Loss: 1.3634\n",
      "Epoch 60, Loss: 1.3771\n",
      "Epoch 70, Loss: 1.3066\n",
      "Epoch 80, Loss: 1.2137\n",
      "Epoch 90, Loss: 1.1507\n"
     ]
    }
   ],
   "source": [
    "import torch\n",
    "import torch.nn as nn\n",
    "import torch.optim as optim\n",
    "\n",
    "# prepare data\n",
    "X_torch = torch.tensor(X, dtype=torch.float32)\n",
    "y_torch = torch.tensor(y, dtype=torch.float32)\n",
    "\n",
    "\n",
    "# define model\n",
    "class LinearModelTorch(nn.Module):\n",
    "    def __init__(self):\n",
    "        super(LinearModelTorch, self).__init__()\n",
    "        self.linear = nn.Linear(1, 1)\n",
    "\n",
    "    def forward(self, x):\n",
    "        return self.linear(x)\n",
    "\n",
    "\n",
    "model_torch = LinearModelTorch()\n",
    "\n",
    "# define loss function and optimiser\n",
    "criterion = nn.MSELoss()\n",
    "optimizer = optim.Adam(model_torch.parameters(), lr=0.1)\n",
    "\n",
    "# train model\n",
    "for epoch in range(100):\n",
    "    optimizer.zero_grad()\n",
    "    outputs = model_torch(X_torch)\n",
    "    loss = criterion(outputs, y_torch)\n",
    "    loss.backward()\n",
    "    optimizer.step()\n",
    "    if epoch % 10 == 0:\n",
    "        print(f\"Epoch {epoch}, Loss: {loss.item():.4f}\")"
   ]
  }
 ],
 "metadata": {
  "kernelspec": {
   "display_name": "venv",
   "language": "python",
   "name": "python3"
  },
  "language_info": {
   "codemirror_mode": {
    "name": "ipython",
    "version": 3
   },
   "file_extension": ".py",
   "mimetype": "text/x-python",
   "name": "python",
   "nbconvert_exporter": "python",
   "pygments_lexer": "ipython3",
   "version": "3.11.9"
  }
 },
 "nbformat": 4,
 "nbformat_minor": 5
}
