{
 "cells": [
  {
   "cell_type": "markdown",
   "id": "96c43eb0",
   "metadata": {},
   "source": [
    "Regularisation techniques for model optimisation"
   ]
  },
  {
   "cell_type": "markdown",
   "id": "53f50c97",
   "metadata": {},
   "source": [
    "OVerfitting is when a model learns the noise in the training along with the patterns leading to poor generalisation on unseen data symptoms are high training accuracy but low test accuracy\n",
    "underfitting is when a model is too simple to capture the underlying patterns in the data the symptoms are low accracy in both training and test sets\n",
    "the applicatitions of regularisation is that it prevents overfitting adnd it can handle multi collinearity, it can also handle feature selection"
   ]
  },
  {
   "cell_type": "code",
   "execution_count": 8,
   "id": "2c3814c9",
   "metadata": {},
   "outputs": [],
   "source": [
    "from sklearn.datasets import fetch_california_housing\n",
    "from sklearn.model_selection import train_test_split\n",
    "import pandas as pd\n",
    "from sklearn.linear_model import LinearRegression, Ridge, Lasso\n",
    "from sklearn.metrics import mean_squared_error\n"
   ]
  },
  {
   "cell_type": "markdown",
   "id": "908f3ef7",
   "metadata": {},
   "source": [
    "load and explore dataset"
   ]
  },
  {
   "cell_type": "code",
   "execution_count": 9,
   "id": "e85b1da9",
   "metadata": {},
   "outputs": [
    {
     "name": "stdout",
     "output_type": "stream",
     "text": [
      "Feature Names:\n",
      " ['MedInc', 'HouseAge', 'AveRooms', 'AveBedrms', 'Population', 'AveOccup', 'Latitude', 'Longitude']\n",
      "\n",
      "Sample Data:\n",
      "    MedInc  HouseAge  AveRooms  AveBedrms  Population  AveOccup  Latitude  \\\n",
      "0  8.3252      41.0  6.984127   1.023810       322.0  2.555556     37.88   \n",
      "1  8.3014      21.0  6.238137   0.971880      2401.0  2.109842     37.86   \n",
      "2  7.2574      52.0  8.288136   1.073446       496.0  2.802260     37.85   \n",
      "3  5.6431      52.0  5.817352   1.073059       558.0  2.547945     37.85   \n",
      "4  3.8462      52.0  6.281853   1.081081       565.0  2.181467     37.85   \n",
      "\n",
      "   Longitude  \n",
      "0    -122.23  \n",
      "1    -122.22  \n",
      "2    -122.24  \n",
      "3    -122.25  \n",
      "4    -122.25  \n"
     ]
    }
   ],
   "source": [
    "california = fetch_california_housing()\n",
    "X, y = california.data, california.target\n",
    "feature_names = california.feature_names\n",
    "\n",
    "# split data\n",
    "X_train, X_test, y_train, y_test = train_test_split(\n",
    "    X, y, random_state=42, test_size=0.2\n",
    ")\n",
    "\n",
    "# display dataset info\n",
    "print(\"Feature Names:\\n\",feature_names)\n",
    "print(\"\\nSample Data:\\n\",pd.DataFrame(X,columns=feature_names).head())"
   ]
  },
  {
   "cell_type": "markdown",
   "id": "8c6d1f6f",
   "metadata": {},
   "source": [
    "train linear regression model"
   ]
  },
  {
   "cell_type": "code",
   "execution_count": 10,
   "id": "dc6cf4bf",
   "metadata": {},
   "outputs": [
    {
     "name": "stdout",
     "output_type": "stream",
     "text": [
      "Linear Regression MSE: 0.5558915986952425\n",
      "Coefficients: [ 4.48674910e-01  9.72425752e-03 -1.23323343e-01  7.83144907e-01\n",
      " -2.02962058e-06 -3.52631849e-03 -4.19792487e-01 -4.33708065e-01]\n"
     ]
    }
   ],
   "source": [
    "lr_model = LinearRegression()\n",
    "lr_model.fit(X_train,y_train)\n",
    "\n",
    "# predict and evaluate\n",
    "y_pred = lr_model.predict(X_test)\n",
    "mse_lr = mean_squared_error(y_test, y_pred)\n",
    "\n",
    "print(\"Linear Regression MSE:\", mse_lr)\n",
    "print(\"Coefficients:\", lr_model.coef_)\n"
   ]
  },
  {
   "cell_type": "markdown",
   "id": "89f1cedd",
   "metadata": {},
   "source": [
    "Train ridge regression model"
   ]
  },
  {
   "cell_type": "code",
   "execution_count": 11,
   "id": "1080023d",
   "metadata": {},
   "outputs": [
    {
     "name": "stdout",
     "output_type": "stream",
     "text": [
      "Ridge Regression MSE: 0.5558827543113785\n",
      "Coefficients: [ 4.48658477e-01  9.72442833e-03 -1.23292361e-01  7.82971747e-01\n",
      " -2.02924019e-06 -3.52627239e-03 -4.19791946e-01 -4.33705352e-01]\n"
     ]
    }
   ],
   "source": [
    "ridge_model = Ridge(alpha=0.1)\n",
    "ridge_model.fit(X_train,y_train)\n",
    "\n",
    "# predict and evaluate\n",
    "y_pred_ridge = ridge_model.predict(X_test)\n",
    "mse_ridge = mean_squared_error(y_test,y_pred_ridge)\n",
    "\n",
    "print(\"Ridge Regression MSE:\", mse_ridge)\n",
    "print(\"Coefficients:\", ridge_model.coef_)"
   ]
  },
  {
   "cell_type": "markdown",
   "id": "387912ab",
   "metadata": {},
   "source": [
    "Train lasso regression model"
   ]
  },
  {
   "cell_type": "code",
   "execution_count": null,
   "id": "4c90a122",
   "metadata": {},
   "outputs": [
    {
     "name": "stdout",
     "output_type": "stream",
     "text": [
      "Lasso Regression MSE: 0.6135115198058131\n",
      "Coefficients: [ 3.92693362e-01  1.50810624e-02 -0.00000000e+00  0.00000000e+00\n",
      "  1.64168387e-05 -3.14918929e-03 -1.14291203e-01 -9.93076483e-02]\n"
     ]
    }
   ],
   "source": [
    "lasso_model = Lasso(alpha=0.1)\n",
    "lasso_model.fit(X_train,y_train)\n",
    "\n",
    "# predict and evaluate\n",
    "y_pred_lasso = lasso_model.predict(X_test)\n",
    "mse_lasso = mean_squared_error(y_test,y_pred_lasso)\n",
    " \n",
    "print(\"Lasso Regression MSE:\", mse_lasso)\n",
    "print(\"Coefficients:\", lasso_model.coef_)"
   ]
  }
 ],
 "metadata": {
  "kernelspec": {
   "display_name": "Python 3",
   "language": "python",
   "name": "python3"
  },
  "language_info": {
   "codemirror_mode": {
    "name": "ipython",
    "version": 3
   },
   "file_extension": ".py",
   "mimetype": "text/x-python",
   "name": "python",
   "nbconvert_exporter": "python",
   "pygments_lexer": "ipython3",
   "version": "3.11.9"
  }
 },
 "nbformat": 4,
 "nbformat_minor": 5
}
