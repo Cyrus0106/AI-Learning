{
 "cells": [
  {
   "cell_type": "markdown",
   "id": "295b723e",
   "metadata": {},
   "source": [
    "Importance of Cross Validation in model evaluation"
   ]
  },
  {
   "cell_type": "markdown",
   "id": "d40afc8d",
   "metadata": {},
   "source": [
    "Cross validartion is the method used to evaluate the performance o a model by partitioning the data into training and validation subsets multiple times\n",
    "It helps ensure that the models performance generalises well to unseen data\n",
    "K-fold cross valdation - best used for general purpose datasets\n",
    "stratified k-fold cross validation - best for classfication taks with imbalanced data\n",
    "Leave one out cross validation - best for small datasets where data has to be mmaximised"
   ]
  },
  {
   "cell_type": "code",
   "execution_count": 8,
   "id": "05c240cf",
   "metadata": {},
   "outputs": [],
   "source": [
    "import pandas as pd\n",
    "from sklearn.model_selection import train_test_split, cross_val_score, KFold, StratifiedKFold\n",
    "from sklearn.ensemble import RandomForestClassifier"
   ]
  },
  {
   "cell_type": "markdown",
   "id": "cda7f95b",
   "metadata": {},
   "source": [
    "Load dataset"
   ]
  },
  {
   "cell_type": "code",
   "execution_count": 9,
   "id": "57dc9cc0",
   "metadata": {},
   "outputs": [
    {
     "name": "stdout",
     "output_type": "stream",
     "text": [
      "Dataset Info\n",
      "<class 'pandas.core.frame.DataFrame'>\n",
      "RangeIndex: 284807 entries, 0 to 284806\n",
      "Data columns (total 31 columns):\n",
      " #   Column  Non-Null Count   Dtype  \n",
      "---  ------  --------------   -----  \n",
      " 0   Time    284807 non-null  float64\n",
      " 1   V1      284807 non-null  float64\n",
      " 2   V2      284807 non-null  float64\n",
      " 3   V3      284807 non-null  float64\n",
      " 4   V4      284807 non-null  float64\n",
      " 5   V5      284807 non-null  float64\n",
      " 6   V6      284807 non-null  float64\n",
      " 7   V7      284807 non-null  float64\n",
      " 8   V8      284807 non-null  float64\n",
      " 9   V9      284807 non-null  float64\n",
      " 10  V10     284807 non-null  float64\n",
      " 11  V11     284807 non-null  float64\n",
      " 12  V12     284807 non-null  float64\n",
      " 13  V13     284807 non-null  float64\n",
      " 14  V14     284807 non-null  float64\n",
      " 15  V15     284807 non-null  float64\n",
      " 16  V16     284807 non-null  float64\n",
      " 17  V17     284807 non-null  float64\n",
      " 18  V18     284807 non-null  float64\n",
      " 19  V19     284807 non-null  float64\n",
      " 20  V20     284807 non-null  float64\n",
      " 21  V21     284807 non-null  float64\n",
      " 22  V22     284807 non-null  float64\n",
      " 23  V23     284807 non-null  float64\n",
      " 24  V24     284807 non-null  float64\n",
      " 25  V25     284807 non-null  float64\n",
      " 26  V26     284807 non-null  float64\n",
      " 27  V27     284807 non-null  float64\n",
      " 28  V28     284807 non-null  float64\n",
      " 29  Amount  284807 non-null  float64\n",
      " 30  Class   284807 non-null  int64  \n",
      "dtypes: float64(30), int64(1)\n",
      "memory usage: 67.4 MB\n",
      "None\n",
      "\n",
      "Class distribution:\n",
      "\n",
      "Class\n",
      "0    284315\n",
      "1       492\n",
      "Name: count, dtype: int64\n"
     ]
    }
   ],
   "source": [
    "url = \"https://storage.googleapis.com/download.tensorflow.org/data/creditcard.csv\"\n",
    "df = pd.read_csv(url)\n",
    "\n",
    "# display dataset info\n",
    "print(\"Dataset Info\")\n",
    "print(df.info())\n",
    "print(\"\\nClass distribution:\\n\")\n",
    "print(df['Class'].value_counts())"
   ]
  },
  {
   "cell_type": "markdown",
   "id": "66a65e50",
   "metadata": {},
   "source": [
    "Define features and target"
   ]
  },
  {
   "cell_type": "code",
   "execution_count": 10,
   "id": "f7d0a395",
   "metadata": {},
   "outputs": [],
   "source": [
    "X = df.drop(columns=['Class'])\n",
    "y = df['Class']\n",
    "\n",
    "# train test split\n",
    "X_train , X_test, y_train, y_test = train_test_split(X,y,random_state=42,test_size=0.2)"
   ]
  },
  {
   "cell_type": "markdown",
   "id": "6e53ec3f",
   "metadata": {},
   "source": [
    "initialise k fold"
   ]
  },
  {
   "cell_type": "code",
   "execution_count": 11,
   "id": "25e31d69",
   "metadata": {},
   "outputs": [
    {
     "name": "stdout",
     "output_type": "stream",
     "text": [
      "K-fold cross validartion scores: [0.99962694 0.99938555 0.99949527 0.99951722 0.99945138]\n",
      "Mean accuracy (K-fold): 1.00\n",
      "Stratified K-fold cross validartion scores: [0.99967083 0.99942944 0.99953916 0.99958305 0.9993636 ]\n",
      "Mean accuracy (Stratified K-fold): 1.00\n"
     ]
    }
   ],
   "source": [
    "kf = KFold(n_splits=5, shuffle=True, random_state=42)\n",
    "\n",
    "# train and evaluate model\n",
    "rf_model = RandomForestClassifier(random_state=42)\n",
    "scores_kfold = cross_val_score(rf_model, X_train, y_train, cv=kf, scoring=\"accuracy\")\n",
    "\n",
    "print(f\"K-fold cross validartion scores: {scores_kfold}\")\n",
    "print(f\"Mean accuracy (K-fold): {scores_kfold.mean():.2f}\")\n",
    "\n",
    "# initialise stratified k-fold\n",
    "skf = StratifiedKFold(n_splits=5, shuffle=True, random_state=42)\n",
    "\n",
    "# train and evaluate\n",
    "scores_stratified = cross_val_score(\n",
    "    rf_model, X_train, y_train, cv=skf, scoring=\"accuracy\"\n",
    ")\n",
    "\n",
    "print(f\"Stratified K-fold cross validartion scores: {scores_stratified}\")\n",
    "print(f\"Mean accuracy (Stratified K-fold): {scores_stratified.mean():.2f}\")"
   ]
  }
 ],
 "metadata": {
  "kernelspec": {
   "display_name": "Python 3",
   "language": "python",
   "name": "python3"
  },
  "language_info": {
   "codemirror_mode": {
    "name": "ipython",
    "version": 3
   },
   "file_extension": ".py",
   "mimetype": "text/x-python",
   "name": "python",
   "nbconvert_exporter": "python",
   "pygments_lexer": "ipython3",
   "version": "3.11.9"
  }
 },
 "nbformat": 4,
 "nbformat_minor": 5
}
