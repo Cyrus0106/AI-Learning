{
 "cells": [
  {
   "cell_type": "markdown",
   "id": "b0712f83",
   "metadata": {},
   "source": [
    "### Self-Attention and Multi-Head Attention in Tranformers"
   ]
  },
  {
   "cell_type": "markdown",
   "id": "61101bff",
   "metadata": {},
   "source": [
    "### What is Self-Attention?\n",
    "\n",
    "Self-attention is a mechanism that allows a model to dynamically focus on different parts of an input sequence when encoding a token. It captures dependencies across all tokens in a sequence, enabling context-aware representations. This is crucial for understanding relationships between words, regardless of their distance from each other in the sequence.\n",
    "\n",
    "**Steps in Self-Attention:**\n",
    "1. **Compute Attention Scores:**  \n",
    "    - Calculate dot products between the query (Q) and key (K) vectors for all tokens.\n",
    "    - Scale the scores by the square root of the key dimension (\\(\\sqrt{d_k}\\)) to stabilize gradients.\n",
    "    - Apply the softmax function to convert scores into probabilities, highlighting which tokens to focus on.\n",
    "2. **Weight Values:**  \n",
    "    - Use the attention scores to compute a weighted sum of the value (V) vectors, producing a context-aware representation for each token.\n",
    "\n",
    "**Mathematical Formula:**  \n",
    "\\[\n",
    "\\text{Attention}(Q, K, V) = \\text{softmax}\\left(\\frac{QK^T}{\\sqrt{d_k}}\\right)V\n",
    "\\]\n",
    "\n",
    "---\n",
    "\n",
    "### What is Multi-Head Attention?\n",
    "\n",
    "Multi-head attention extends the self-attention mechanism by applying several attention operations in parallel. Each attention \"head\" learns to focus on different aspects or relationships within the sequence, allowing the model to capture richer information.\n",
    "\n",
    "**Steps in Multi-Head Attention:**\n",
    "1. **Linear Projections:**  \n",
    "    - Project the input Q, K, and V into multiple subspaces using learned weight matrices, creating multiple sets of Q, K, V for each head.\n",
    "2. **Apply Self-Attention:**  \n",
    "    - Perform self-attention independently for each head, allowing each to focus on different relationships.\n",
    "3. **Concatenate Outputs:**  \n",
    "    - Combine the outputs from all heads by concatenating them.\n",
    "4. **Final Linear Projection:**  \n",
    "    - Project the concatenated outputs back into the original dimension using another learned weight matrix.\n",
    "\n",
    "**Mathematical Formula:**  \n",
    "\\[\n",
    "\\text{MultiHead}(Q, K, V) = \\text{Concat}(\\text{head}_1, ..., \\text{head}_h)W^O\n",
    "\\]\n",
    "where each head is computed as:  \n",
    "\\[\n",
    "\\text{head}_i = \\text{Attention}(QW_i^Q, KW_i^K, VW_i^V)\n",
    "\\]\n",
    "\n",
    "---\n",
    "\n",
    "### Applications of Multi-Head Attention in NLP\n",
    "\n",
    "- **Machine Translation:**  \n",
    "  Captures dependencies across languages, improving translation quality by aligning words and phrases with their correct counterparts.\n",
    "- **Text Summarization:**  \n",
    "  Identifies and focuses on key phrases and sentences to generate concise and informative summaries.\n",
    "- **Named Entity Recognition (NER):**  \n",
    "  Utilizes contextual clues to accurately detect and classify entities (such as names, locations, organizations) in text.\n",
    "- **Question Answering:**  \n",
    "  Helps models locate relevant information in passages to answer questions accurately.\n",
    "- **Sentiment Analysis:**  \n",
    "  Focuses on sentiment-bearing words and their context to determine the overall sentiment of a sentence or document.\n",
    "\n",
    "---\n",
    "\n",
    "**Summary:**  \n",
    "Self-attention and multi-head attention are foundational components of transformer architectures, enabling models to understand complex relationships in sequential data and powering state-of-the-art results in many NLP tasks.\n"
   ]
  },
  {
   "cell_type": "code",
   "execution_count": 1,
   "id": "1e12066f",
   "metadata": {},
   "outputs": [],
   "source": [
    "import numpy as np"
   ]
  },
  {
   "cell_type": "markdown",
   "id": "e580620d",
   "metadata": {},
   "source": [
    "define query, key and value matrixes"
   ]
  },
  {
   "cell_type": "code",
   "execution_count": 2,
   "id": "98f9f1a6",
   "metadata": {},
   "outputs": [
    {
     "name": "stdout",
     "output_type": "stream",
     "text": [
      "Attention Weights:\n",
      "[[0.28620968 0.27837007 0.23915382 0.19626644]\n",
      " [0.12912678 0.3633708  0.34420457 0.16329785]\n",
      " [0.09303267 0.28865629 0.50473462 0.11357642]\n",
      " [0.1731845  0.31063448 0.25762796 0.25855307]]\n",
      "Context Vectors:\n",
      "[[ 1.05029142 -0.01217227 -0.08348571]\n",
      " [ 1.24973484  0.08554131 -0.23909249]\n",
      " [ 1.3445482   0.25426461 -0.2971848 ]\n",
      " [ 1.10625871 -0.01878677 -0.20192698]]\n"
     ]
    }
   ],
   "source": [
    "def generate_data(seq_len,embed_dim):\n",
    "    np.random.seed(42)\n",
    "    return np.random.randn(seq_len,embed_dim)\n",
    "\n",
    "sequence_length =4\n",
    "embedding_dim = 3\n",
    "query = generate_data(sequence_length,embedding_dim)\n",
    "key = generate_data(sequence_length,embedding_dim)\n",
    "value = generate_data(sequence_length,embedding_dim)\n",
    "\n",
    "# compute attention scores\n",
    "scores = np.dot(query,key.T)/np.sqrt(embedding_dim)\n",
    "\n",
    "# apply softmax to normalise the scores\n",
    "def softmax(x):\n",
    "    exp_x = np.exp(x - np.max(x, axis=-1, keepdims=True))\n",
    "    return exp_x / exp_x.sum(axis=-1, keepdims=True)\n",
    "\n",
    "attention_weights = softmax(scores)\n",
    "# compute context vector\n",
    "context = np.dot(attention_weights,value)\n",
    "\n",
    "print(\"Attention Weights:\")\n",
    "print(attention_weights)\n",
    "print(\"Context Vectors:\")\n",
    "print(context)"
   ]
  },
  {
   "cell_type": "code",
   "execution_count": 7,
   "id": "a614b755",
   "metadata": {},
   "outputs": [
    {
     "name": "stdout",
     "output_type": "stream",
     "text": [
      "Attention Weights: tensor([[[[0.2421, 0.2589, 0.2437, 0.2553],\n",
      "          [0.1956, 0.2427, 0.3284, 0.2333],\n",
      "          [0.2363, 0.2325, 0.2701, 0.2611],\n",
      "          [0.1649, 0.2720, 0.2963, 0.2668]],\n",
      "\n",
      "         [[0.2305, 0.2861, 0.2835, 0.1999],\n",
      "          [0.2306, 0.2793, 0.2939, 0.1962],\n",
      "          [0.2181, 0.3102, 0.3054, 0.1664],\n",
      "          [0.1860, 0.3033, 0.3383, 0.1723]]]], grad_fn=<SoftmaxBackward0>)        Context Vectors: tensor([[[ 0.0439,  0.2014,  0.4109, -0.1605,  0.0879, -0.2584, -0.0687,\n",
      "          -0.6033],\n",
      "         [ 0.0535,  0.2049,  0.3951, -0.1627,  0.0758, -0.2576, -0.0417,\n",
      "          -0.6339],\n",
      "         [ 0.0348,  0.1873,  0.3865, -0.1600,  0.0916, -0.2468, -0.0553,\n",
      "          -0.6296],\n",
      "         [ 0.0545,  0.2048,  0.3642, -0.1697,  0.0747, -0.2324, -0.0274,\n",
      "          -0.6534]]], grad_fn=<ViewBackward0>)\n"
     ]
    },
    {
     "data": {
      "image/png": "[encoded data removed]",
      "text/plain": [
       "<Figure size 480x480 with 2 Axes>"
      ]
     },
     "metadata": {},
     "output_type": "display_data"
    }
   ],
   "source": [
    "import torch\n",
    "import torch.nn as nn\n",
    "import torch.nn.functional as F\n",
    "\n",
    "class MultiHeadAttention(nn.Module):\n",
    "    def __init__(self,embed_dim,num_heads):\n",
    "        super(MultiHeadAttention, self).__init__()\n",
    "        self.embed_dim = embed_dim\n",
    "        self.num_heads = num_heads\n",
    "        self.head_dim = embed_dim // num_heads\n",
    "\n",
    "        assert embed_dim % num_heads == 0, \"Embedding dimension must be divisible by number of heads\"\n",
    "\n",
    "        self.query = nn.Linear(embed_dim, embed_dim)\n",
    "        self.key = nn.Linear(embed_dim, embed_dim)\n",
    "        self.value = nn.Linear(embed_dim, embed_dim)\n",
    "        self.out = nn.Linear(embed_dim, embed_dim)\n",
    "\n",
    "    def forward(self,x):\n",
    "        batch_size = x.size(0)\n",
    "        # linear projections\n",
    "        q = self.query(x).view(batch_size, -1, self.num_heads, self.head_dim).transpose(1, 2)\n",
    "        k = self.key(x).view(batch_size, -1, self.num_heads, self.head_dim).transpose(1, 2)\n",
    "        v = self.value(x).view(batch_size, -1, self.num_heads, self.head_dim).transpose(1, 2)\n",
    "\n",
    "        # compute attention scores\n",
    "        scores = torch.matmul(q, k.transpose(-1, -2)) / np.sqrt(self.head_dim)\n",
    "\n",
    "        # apply softmax to normalise the scores\n",
    "        attention_weights = F.softmax(scores, dim=-1)\n",
    "\n",
    "        # compute context vector\n",
    "        context = torch.matmul(attention_weights, v).transpose(1, 2).contiguous().view(batch_size, -1, self.embed_dim)\n",
    "\n",
    "        return self.out(context), attention_weights \n",
    "\n",
    "# sample input\n",
    "seq_len, embed_dim = 4,8\n",
    "x = torch.randn(1,seq_len,embed_dim)\n",
    "\n",
    "# instantiate MultiHeadAttention and test\n",
    "mha = MultiHeadAttention(embed_dim, num_heads=2) \n",
    "context, attn_weights = mha(x)\n",
    "print(f\"Attention Weights: {attn_weights}        Context Vectors: {context}\")\n",
    "\n",
    "# visualise\n",
    "import matplotlib.pyplot as plt\n",
    "plt.matshow(attn_weights[0,0].detach().numpy(),cmap=\"viridis\")\n",
    "plt.colorbar()\n",
    "plt.title(\"Attention weights (Head 1)\")\n",
    "plt.show()"
   ]
  }
 ],
 "metadata": {
  "kernelspec": {
   "display_name": "venv (3.11.9)",
   "language": "python",
   "name": "python3"
  },
  "language_info": {
   "codemirror_mode": {
    "name": "ipython",
    "version": 3
   },
   "file_extension": ".py",
   "mimetype": "text/x-python",
   "name": "python",
   "nbconvert_exporter": "python",
   "pygments_lexer": "ipython3",
   "version": "3.11.9"
  }
 },
 "nbformat": 4,
 "nbformat_minor": 5
}
