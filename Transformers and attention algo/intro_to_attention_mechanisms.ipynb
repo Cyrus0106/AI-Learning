{
 "cells": [
  {
   "cell_type": "markdown",
   "id": "55aa8a69",
   "metadata": {},
   "source": [
    "### Introduction to attention mechanisms"
   ]
  },
  {
   "cell_type": "markdown",
   "id": "8ca4714a",
   "metadata": {},
   "source": [
    "## Understanding the Limitations of RNNs and the Need for Attention\n",
    "\n",
    "### Challenges of RNNs\n",
    "- **Sequential Processing:** RNNs process input sequences one step at a time, making it difficult to parallelize computations and leading to slow training.\n",
    "- **Long-Term Dependency Problems:** RNNs struggle to retain information from earlier time steps, making it hard to capture long-range dependencies due to vanishing or exploding gradients.\n",
    "- **Fixed Context Vectors:** Traditional sequence-to-sequence models use a single, fixed-length context vector to represent the entire input sequence, which can lead to information bottlenecks, especially for long sequences.\n",
    "\n",
    "---\n",
    "\n",
    "### Role of Attention Mechanisms\n",
    "\n",
    "Attention mechanisms address these limitations by allowing the model to dynamically focus on different parts of the input sequence at each output step. Instead of relying on a single context vector, attention computes a weighted combination of all input tokens, enabling the model to selectively emphasize relevant information for each output token.\n",
    "\n",
    "---\n",
    "\n",
    "### Basics of the Attention Mechanism\n",
    "\n",
    "#### Core Components\n",
    "- **Queries (Q):** Represent the current focus of the model (e.g., the current decoder state in sequence-to-sequence tasks).\n",
    "- **Keys (K):** Encoded representations of the input sequence, used to match against the query.\n",
    "- **Values (V):** Additional information associated with the keys, typically the same as the keys in many implementations.\n",
    "\n",
    "#### How Attention Works\n",
    "1. **Score Calculation:** For each query, compute a similarity score with each key (commonly using dot product, scaled dot product, or other similarity functions).\n",
    "2. **Softmax Normalization:** Apply the softmax function to the scores to obtain attention weights, which sum to 1.\n",
    "3. **Context Vector:** Compute a weighted sum of the values using the attention weights. This context vector is then used to generate the output.\n",
    "\n",
    "---\n",
    "\n",
    "### Types of Attention\n",
    "\n",
    "#### Self-Attention\n",
    "- The queries, keys, and values all come from the same input sequence.\n",
    "- Enables the model to learn dependencies between all elements in a sequence, regardless of their distance.\n",
    "- Widely used in Transformer models for capturing relationships within a sequence.\n",
    "\n",
    "#### Multi-Head Attention\n",
    "- Extends self-attention by applying multiple attention mechanisms (heads) in parallel.\n",
    "- Each head learns to focus on different aspects or relationships in the sequence.\n",
    "- The outputs of all heads are concatenated and projected to form the final output:\n",
    "  \n",
    "  ```\n",
    "  MultiHead(Q, K, V) = Concat(head₁, head₂, ..., headₕ)W⁰\n",
    "  ```\n",
    "  where each head computes attention with different learned projections of Q, K, and V.\n",
    "\n",
    "---\n",
    "\n",
    "### Summary\n",
    "\n",
    "Attention mechanisms have revolutionized sequence modeling by enabling models to flexibly and efficiently focus on relevant parts of the input. This has led to significant improvements in tasks such as machine translation, text summarization, and more, especially with the advent of Transformer architectures.\n"
   ]
  },
  {
   "cell_type": "code",
   "execution_count": null,
   "id": "089d2973",
   "metadata": {},
   "outputs": [],
   "source": [
    "import numpy as np"
   ]
  },
  {
   "cell_type": "markdown",
   "id": "4bcd506e",
   "metadata": {},
   "source": [
    "define queries keys and values"
   ]
  },
  {
   "cell_type": "code",
   "execution_count": 6,
   "id": "7208e5bb",
   "metadata": {},
   "outputs": [
    {
     "name": "stdout",
     "output_type": "stream",
     "text": [
      "Attention Weights: /n [[0.57611688 0.21194156 0.21194156]\n",
      " [0.21194156 0.21194156 0.57611688]]\n",
      "Context Vectors: /n [[6.82087664 3.17912336]\n",
      " [5.         5.        ]]\n"
     ]
    }
   ],
   "source": [
    "queries = np.array([[1, 0, 1], [0, 1, 1]])\n",
    "keys = np.array([[1, 0, 1], [1, 1, 0], [0, 1, 1]])\n",
    "values = np.array([[10, 0], [0, 10], [5, 5]])\n",
    "\n",
    "# compute attention scores\n",
    "scores = np.dot(queries, keys.T)\n",
    "\n",
    "\n",
    "# apply softmax to normalise scores\n",
    "def softmax(x):\n",
    "    exp_x = np.exp(x - np.max(x, axis=-1, keepdims=True))\n",
    "    return exp_x / exp_x.sum(axis=-1, keepdims=True)\n",
    "\n",
    "attention_weights = softmax(scores)\n",
    "\n",
    "# compute weighted sum of values\n",
    "context = np.dot(attention_weights, values)\n",
    "\n",
    "print(\"Attention Weights: /n\", attention_weights)\n",
    "print(\"Context Vectors: /n\", context)"
   ]
  },
  {
   "cell_type": "markdown",
   "id": "6c57c43e",
   "metadata": {},
   "source": [
    "Now use pytorch"
   ]
  },
  {
   "cell_type": "code",
   "execution_count": 7,
   "id": "b7f8136e",
   "metadata": {},
   "outputs": [],
   "source": [
    "import torch\n",
    "import torch.nn.functional as F\n",
    "import matplotlib.pyplot as plt"
   ]
  },
  {
   "cell_type": "code",
   "execution_count": 8,
   "id": "80d36fd0",
   "metadata": {},
   "outputs": [
    {
     "name": "stdout",
     "output_type": "stream",
     "text": [
      "Attention Weights: /n tensor([[0.5761, 0.2119, 0.2119],\n",
      "        [0.2119, 0.2119, 0.5761]])\n",
      "Context Vectors: /n tensor([[6.8209, 3.1791],\n",
      "        [5.0000, 5.0000]])\n"
     ]
    },
    {
     "data": {
      "image/png": "[encoded data removed]",
      "text/plain": [
       "<Figure size 720x480 with 2 Axes>"
      ]
     },
     "metadata": {},
     "output_type": "display_data"
    }
   ],
   "source": [
    "queries = torch.tensor([[1.0, 0.0, 1.0], [0.0, 1.0, 1.0]])\n",
    "keys = torch.tensor([[1.0, 0.0, 1.0], [1.0, 1.0, 0.0], [0.0, 1.0, 1.0]])\n",
    "values = torch.tensor([[10, 0], [0, 10], [5.0, 5.0]])\n",
    "\n",
    "# compute attention scores\n",
    "scores = torch.matmul(queries, keys.T)\n",
    "\n",
    "# apply softmax to normalise scores\n",
    "attention_weights = F.softmax(scores, dim=-1)\n",
    "\n",
    "# compute weighted sum of values\n",
    "context = torch.matmul(attention_weights, values)\n",
    "\n",
    "print(\"Attention Weights: /n\", attention_weights)\n",
    "print(\"Context Vectors: /n\", context)\n",
    "\n",
    "# visualise attention weights\n",
    "plt.matshow(attention_weights)\n",
    "plt.colorbar()\n",
    "plt.title(\"Attention Weights\")\n",
    "plt.show()\n"
   ]
  }
 ],
 "metadata": {
  "kernelspec": {
   "display_name": "venv",
   "language": "python",
   "name": "python3"
  },
  "language_info": {
   "codemirror_mode": {
    "name": "ipython",
    "version": 3
   },
   "file_extension": ".py",
   "mimetype": "text/x-python",
   "name": "python",
   "nbconvert_exporter": "python",
   "pygments_lexer": "ipython3",
   "version": "3.11.9"
  }
 },
 "nbformat": 4,
 "nbformat_minor": 5
}
