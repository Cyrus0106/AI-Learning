{
 "cells": [
  {
   "cell_type": "markdown",
   "id": "ecdb9659",
   "metadata": {},
   "source": [
    "### Hands-On with Pre-Trained Transformers BERT and GPT"
   ]
  },
  {
   "cell_type": "markdown",
   "id": "0a71b42e",
   "metadata": {},
   "source": [
    "## Introduction to BERT and GPT\n",
    "\n",
    "### What is BERT?  \n",
    "**BERT** (Bidirectional Encoder Representations from Transformers) is a pre-trained language model developed by Google AI.  \n",
    "BERT processes input sequences bidirectionally, meaning it considers context from both the left and right of each word. This enables a deeper understanding of word meaning and context within a sentence.\n",
    "\n",
    "#### Key Features of BERT\n",
    "- **Bidirectional Context:** Considers both previous and next words, improving comprehension of ambiguous language.\n",
    "- **Transformer Encoder-Based:** Built on the transformer encoder architecture, which is highly effective for understanding and representing input text.\n",
    "- **Pretraining Tasks:**\n",
    "    - **Masked Language Modeling (MLM):** Randomly masks words in a sentence and trains the model to predict them, helping the model learn deep contextual representations.\n",
    "    - **Next Sentence Prediction (NSP):** Trains the model to predict if one sentence logically follows another, aiding in tasks like question answering and natural language inference.\n",
    "- **Applications:**  \n",
    "    - Sentiment analysis  \n",
    "    - Named entity recognition (NER)  \n",
    "    - Question answering  \n",
    "    - Text classification  \n",
    "    - Semantic search  \n",
    "    - Document summarization\n",
    "\n",
    "---\n",
    "\n",
    "### What is GPT?  \n",
    "**GPT** (Generative Pretrained Transformer) is a language model developed by OpenAI.  \n",
    "GPT processes input sequences unidirectionally (left to right), making it particularly effective for generative tasks such as text completion and generation.\n",
    "\n",
    "#### Key Features of GPT\n",
    "- **Unidirectional Context:** Processes text from left to right, focusing on predicting the next word in a sequence, which is ideal for text generation.\n",
    "- **Transformer Decoder-Based:** Utilizes the transformer decoder architecture, optimized for generating coherent and contextually relevant text.\n",
    "- **Pretraining Task:**\n",
    "    - **Causal Language Modeling:** Trains the model to predict the next word in a sequence, given the previous words, enabling fluent and context-aware text generation.\n",
    "- **Applications:**  \n",
    "    - Text generation  \n",
    "    - Chatbots and conversational AI  \n",
    "    - Summarization  \n",
    "    - Creative writing  \n",
    "    - Code generation  \n",
    "    - Translation\n",
    "\n",
    "---\n",
    "\n",
    "### Key Differences Between BERT and GPT\n",
    "\n",
    "| Feature                | BERT                                         | GPT                                      |\n",
    "|------------------------|----------------------------------------------|------------------------------------------|\n",
    "| Architecture           | Transformer Encoder                          | Transformer Decoder                      |\n",
    "| Context Processing     | Bidirectional                                | Unidirectional (left-to-right)           |\n",
    "| Pretraining Tasks      | MLM, NSP                                     | Causal Language Modeling                 |\n",
    "| Main Strength          | Understanding and representing text          | Generating coherent and fluent text      |\n",
    "| Typical Applications   | Classification, NER, QA, semantic search     | Text generation, chatbots, summarization |\n",
    "\n",
    "---\n",
    "\n",
    "Both BERT and GPT have revolutionized natural language processing by leveraging the transformer architecture, but they are optimized for different tasks:  \n",
    "- **BERT** excels at understanding and representing text for downstream tasks that require comprehension.\n",
    "- **GPT** is designed for generating text, making it suitable for creative and conversational applications.\n",
    "\n",
    "---\n",
    "\n",
    "## Fine-Tuning Pretrained Models for Downstream Tasks\n",
    "\n",
    "### Why Fine-Tune?\n",
    "- Pretrained models are trained on large, generic datasets (e.g., Wikipedia, BookCorpus).\n",
    "- Fine-tuning adapts these models to specific tasks (e.g., sentiment analysis, classification, NER) by training them further on task-specific data.\n",
    "- This approach leverages the general language understanding of the pretrained model and tailors it to the nuances of the target task.\n",
    "\n",
    "### Steps to Fine-Tune a Pretrained Model\n",
    "\n",
    "1. **Load a Pretrained Model:**  \n",
    "   Use libraries like [Hugging Face Transformers](https://huggingface.co/transformers/) to load a pretrained BERT or GPT model.\n",
    "\n",
    "2. **Prepare the Dataset:**  \n",
    "   - Format your dataset for the specific task (e.g., tokenization for text classification, labeling for NER).\n",
    "   - Split the data into training, validation, and test sets.\n",
    "\n",
    "3. **Configure the Model for the Task:**  \n",
    "   - Add task-specific layers (e.g., classification head for sentiment analysis).\n",
    "   - Set up loss functions and evaluation metrics appropriate for the task.\n",
    "\n",
    "4. **Train and Evaluate:**  \n",
    "   - Fine-tune the model using your task-specific data.\n",
    "   - Monitor performance on the validation set to avoid overfitting.\n",
    "   - Evaluate the final model on the test set.\n",
    "\n",
    "5. **Deploy and Use:**  \n",
    "   - Save the fine-tuned model.\n",
    "   - Integrate it into your application for inference on new data.\n",
    "\n",
    "---\n",
    "\n",
    "Fine-tuning allows you to harness the power of large language models for your own specialized NLP tasks, achieving state-of-the-art results with relatively little labeled data."
   ]
  },
  {
   "cell_type": "code",
   "execution_count": 1,
   "id": "5e3560ee",
   "metadata": {},
   "outputs": [
    {
     "name": "stderr",
     "output_type": "stream",
     "text": [
      "c:\\Users\\Cyrus\\Documents\\AI Mastery\\venv\\Lib\\site-packages\\tqdm\\auto.py:21: TqdmWarning: IProgress not found. Please update jupyter and ipywidgets. See https://ipywidgets.readthedocs.io/en/stable/user_install.html\n",
      "  from .autonotebook import tqdm as notebook_tqdm\n"
     ]
    },
    {
     "name": "stdout",
     "output_type": "stream",
     "text": [
      "WARNING:tensorflow:From c:\\Users\\Cyrus\\Documents\\AI Mastery\\venv\\Lib\\site-packages\\tf_keras\\src\\losses.py:2976: The name tf.losses.sparse_softmax_cross_entropy is deprecated. Please use tf.compat.v1.losses.sparse_softmax_cross_entropy instead.\n",
      "\n"
     ]
    }
   ],
   "source": [
    "from transformers import AutoTokenizer, AutoModelForSequenceClassification, Trainer, TrainingArguments\n",
    "from datasets import load_dataset"
   ]
  },
  {
   "cell_type": "markdown",
   "id": "7fb7b849",
   "metadata": {},
   "source": [
    "load and preprocess dataset"
   ]
  },
  {
   "cell_type": "code",
   "execution_count": 2,
   "id": "f44c2e00",
   "metadata": {},
   "outputs": [
    {
     "name": "stderr",
     "output_type": "stream",
     "text": [
      "Map: 100%|██████████| 25000/25000 [00:05<00:00, 4454.77 examples/s]\n",
      "Some weights of BertForSequenceClassification were not initialized from the model checkpoint at bert-base-uncased and are newly initialized: ['classifier.bias', 'classifier.weight']\n",
      "You should probably TRAIN this model on a down-stream task to be able to use it for predictions and inference.\n",
      "c:\\Users\\Cyrus\\Documents\\AI Mastery\\venv\\Lib\\site-packages\\torch\\utils\\data\\dataloader.py:665: UserWarning: 'pin_memory' argument is set as true but no accelerator is found, then device pinned memory won't be used.\n",
      "  warnings.warn(warn_msg)\n"
     ]
    },
    {
     "data": {
      "text/html": [
       "\n",
       "    <div>\n",
       "      \n",
       "      <progress value='9375' max='9375' style='width:300px; height:20px; vertical-align: middle;'></progress>\n",
       "      [9375/9375 31:55:22, Epoch 3/3]\n",
       "    </div>\n",
       "    <table border=\"1\" class=\"dataframe\">\n",
       "  <thead>\n",
       " <tr style=\"text-align: left;\">\n",
       "      <th>Epoch</th>\n",
       "      <th>Training Loss</th>\n",
       "      <th>Validation Loss</th>\n",
       "    </tr>\n",
       "  </thead>\n",
       "  <tbody>\n",
       "    <tr>\n",
       "      <td>1</td>\n",
       "      <td>0.185300</td>\n",
       "      <td>0.244896</td>\n",
       "    </tr>\n",
       "    <tr>\n",
       "      <td>2</td>\n",
       "      <td>0.343600</td>\n",
       "      <td>0.313570</td>\n",
       "    </tr>\n",
       "    <tr>\n",
       "      <td>3</td>\n",
       "      <td>0.001000</td>\n",
       "      <td>0.310552</td>\n",
       "    </tr>\n",
       "  </tbody>\n",
       "</table><p>"
      ],
      "text/plain": [
       "<IPython.core.display.HTML object>"
      ]
     },
     "metadata": {},
     "output_type": "display_data"
    },
    {
     "name": "stderr",
     "output_type": "stream",
     "text": [
      "c:\\Users\\Cyrus\\Documents\\AI Mastery\\venv\\Lib\\site-packages\\torch\\utils\\data\\dataloader.py:665: UserWarning: 'pin_memory' argument is set as true but no accelerator is found, then device pinned memory won't be used.\n",
      "  warnings.warn(warn_msg)\n",
      "c:\\Users\\Cyrus\\Documents\\AI Mastery\\venv\\Lib\\site-packages\\torch\\utils\\data\\dataloader.py:665: UserWarning: 'pin_memory' argument is set as true but no accelerator is found, then device pinned memory won't be used.\n",
      "  warnings.warn(warn_msg)\n",
      "c:\\Users\\Cyrus\\Documents\\AI Mastery\\venv\\Lib\\site-packages\\torch\\utils\\data\\dataloader.py:665: UserWarning: 'pin_memory' argument is set as true but no accelerator is found, then device pinned memory won't be used.\n",
      "  warnings.warn(warn_msg)\n"
     ]
    },
    {
     "data": {
      "text/html": [
       "\n",
       "    <div>\n",
       "      \n",
       "      <progress value='3125' max='3125' style='width:300px; height:20px; vertical-align: middle;'></progress>\n",
       "      [3125/3125 1:48:58]\n",
       "    </div>\n",
       "    "
      ],
      "text/plain": [
       "<IPython.core.display.HTML object>"
      ]
     },
     "metadata": {},
     "output_type": "display_data"
    },
    {
     "name": "stdout",
     "output_type": "stream",
     "text": [
      "Evaluation results: {'eval_loss': 0.31055212020874023, 'eval_runtime': 6540.8205, 'eval_samples_per_second': 3.822, 'eval_steps_per_second': 0.478, 'epoch': 3.0}\n"
     ]
    }
   ],
   "source": [
    "dataset = load_dataset(\"imdb\")\n",
    "\n",
    "# tokeniser\n",
    "tokenizer = AutoTokenizer.from_pretrained(\"bert-base-uncased\")\n",
    "\n",
    "\n",
    "# tokese the dataset\n",
    "def tokenize_function(examples):\n",
    "    return tokenizer(examples[\"text\"], truncation=True, padding=\"max_length\")\n",
    "\n",
    "\n",
    "tokenized_datasets = dataset.map(tokenize_function, batched=True)\n",
    "\n",
    "# prepare data for training\n",
    "tokenized_datasets = tokenized_datasets.remove_columns(\"text\")\n",
    "tokenized_datasets = tokenized_datasets.rename_column(\"label\", \"labels\")\n",
    "tokenized_datasets.set_format(\"torch\")\n",
    "\n",
    "train_dataset = tokenized_datasets[\"train\"]\n",
    "test_dataset = tokenized_datasets[\"test\"]\n",
    "\n",
    "# load model\n",
    "model = AutoModelForSequenceClassification.from_pretrained(\n",
    "    \"bert-base-uncased\", num_labels=2\n",
    ")\n",
    "\n",
    "# define training arguments\n",
    "training_args = TrainingArguments(\n",
    "    output_dir=\"./results\",\n",
    "    eval_strategy=\"epoch\",\n",
    "    learning_rate=2e-5,\n",
    "    per_device_train_batch_size=8,\n",
    "    per_device_eval_batch_size=8,\n",
    "    num_train_epochs=3,\n",
    "    weight_decay=0.01,\n",
    "    logging_dir=\"./logs\",\n",
    "    logging_steps=10,\n",
    "    save_steps=500,\n",
    ")\n",
    "# train model\n",
    "trainer = Trainer(\n",
    "    model=model,\n",
    "    args=training_args,\n",
    "    train_dataset=train_dataset,\n",
    "    eval_dataset=test_dataset,\n",
    "    processing_class = tokenizer\n",
    ")\n",
    "\n",
    "trainer.train()\n",
    "\n",
    "results = trainer.evaluate()\n",
    "print(\"Evaluation results:\", results)\n"
   ]
  },
  {
   "cell_type": "markdown",
   "id": "8e09a79c",
   "metadata": {},
   "source": [
    "experiment with GPT"
   ]
  },
  {
   "cell_type": "code",
   "execution_count": 3,
   "id": "b4f610e8",
   "metadata": {},
   "outputs": [
    {
     "name": "stderr",
     "output_type": "stream",
     "text": [
      "c:\\Users\\Cyrus\\Documents\\AI Mastery\\venv\\Lib\\site-packages\\huggingface_hub\\file_download.py:143: UserWarning: `huggingface_hub` cache-system uses symlinks by default to efficiently store duplicated files but your machine does not support them in C:\\Users\\Cyrus\\.cache\\huggingface\\hub\\models--gpt2. Caching files will still work but in a degraded version that might require more space on your disk. This warning can be disabled by setting the `HF_HUB_DISABLE_SYMLINKS_WARNING` environment variable. For more details, see https://huggingface.co/docs/huggingface_hub/how-to-cache#limitations.\n",
      "To support symlinks on Windows, you either need to activate Developer Mode or to run Python as an administrator. In order to activate developer mode, see this article: https://docs.microsoft.com/en-us/windows/apps/get-started/enable-your-device-for-development\n",
      "  warnings.warn(message)\n",
      "Xet Storage is enabled for this repo, but the 'hf_xet' package is not installed. Falling back to regular HTTP download. For better performance, install the package with: `pip install huggingface_hub[hf_xet]` or `pip install hf_xet`\n",
      "The attention mask and the pad token id were not set. As a consequence, you may observe unexpected behavior. Please pass your input's `attention_mask` to obtain reliable results.\n",
      "Setting `pad_token_id` to `eos_token_id`:50256 for open-end generation.\n",
      "The attention mask is not set and cannot be inferred from input because pad token is same as eos token. As a consequence, you may observe unexpected behavior. Please pass your input's `attention_mask` to obtain reliable results.\n"
     ]
    },
    {
     "name": "stdout",
     "output_type": "stream",
     "text": [
      "Generated text: once upon a time [unused193] [unused193] [unused812] upon a time [unused193] [unused193] [unused812] upon a time [unused193] [unused193] [unused812] upon a time [unused193] [unused193] [unused812] upon a time [unused193] [unused193] [unused812] upon a time [unused193] [unused193] [unused812] upon a time [unused193] [unused193]\n"
     ]
    }
   ],
   "source": [
    "from transformers import AutoModelForCausalLM\n",
    "\n",
    "gpt_model = AutoModelForCausalLM.from_pretrained(\"gpt2\")\n",
    "\n",
    "input_text = \"Once upon a time\"\n",
    "input_ids = tokenizer.encode(input_text, return_tensors=\"pt\")\n",
    "\n",
    "output = gpt_model.generate(input_ids, max_length=50, num_return_sequences=1)\n",
    "\n",
    "generated_text = tokenizer.decode(output[0], skip_special_tokens=True)\n",
    "print(\"Generated text:\", generated_text)"
   ]
  }
 ],
 "metadata": {
  "kernelspec": {
   "display_name": "venv (3.11.9)",
   "language": "python",
   "name": "python3"
  },
  "language_info": {
   "codemirror_mode": {
    "name": "ipython",
    "version": 3
   },
   "file_extension": ".py",
   "mimetype": "text/x-python",
   "name": "python",
   "nbconvert_exporter": "python",
   "pygments_lexer": "ipython3",
   "version": "3.11.9"
  }
 },
 "nbformat": 4,
 "nbformat_minor": 5
}
