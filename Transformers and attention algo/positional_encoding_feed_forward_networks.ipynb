{
 "cells": [
  {
   "cell_type": "markdown",
   "id": "ec96cf1c",
   "metadata": {},
   "source": [
    "### Positional Encoding and Feed-Forward Networks"
   ]
  },
  {
   "cell_type": "markdown",
   "id": "5d17cbe1",
   "metadata": {},
   "source": [
    "### Why Positional Encoding?\n",
    "\n",
    "- Unlike RNNs, transformers do **not** process sequences sequentially.\n",
    "- Transformers process all tokens in parallel, so they lack inherent knowledge of token position.\n",
    "- Knowing the position of tokens is crucial for tasks like translation, language modeling, and sequence prediction.\n",
    "\n",
    "---\n",
    "\n",
    "### What is Positional Encoding?\n",
    "\n",
    "- **Positional encoding** introduces information about the order of tokens in a sequence.\n",
    "- It enables the model to differentiate between identical tokens appearing in different positions.\n",
    "- Without positional encoding, a transformer would treat a sentence as a bag of words, ignoring word order.\n",
    "\n",
    "---\n",
    "\n",
    "### Sinusoidal Positional Encoding\n",
    "\n",
    "- Encodes positional information using sine and cosine functions of different frequencies.\n",
    "- The encoding for each position is a vector, added to the input embeddings.\n",
    "- **Formula for positional encoding:**\n",
    "\n",
    "    $$\n",
    "    \\text{PE}_{(pos, 2i)} = \\sin\\left(\\frac{pos}{10000^{2i/d_{model}}}\\right) \\\\\n",
    "    \\text{PE}_{(pos, 2i+1)} = \\cos\\left(\\frac{pos}{10000^{2i/d_{model}}}\\right)\n",
    "    $$\n",
    "\n",
    "    - $pos$ is the position, $i$ is the dimension, and $d_{model}$ is the embedding size.\n",
    "\n",
    "---\n",
    "\n",
    "#### Why Sinusoidal Functions?\n",
    "\n",
    "- Provides a unique encoding for each position.\n",
    "- Enables the model to generalize to sequence lengths not seen during training.\n",
    "- The periodic nature allows the model to easily learn to attend by relative positions.\n",
    "\n",
    "---\n",
    "\n",
    "### The Feed-Forward Network (FFN)\n",
    "\n",
    "- FFNs are fully connected layers applied **independently and identically** to each token within a transformer layer.\n",
    "- They add non-linear transformations to the output of the attention mechanism.\n",
    "\n",
    "#### Role in Transformers\n",
    "\n",
    "- Captures token-specific transformations.\n",
    "- Enhances the representational capacity of the model by introducing non-linearity.\n",
    "\n",
    "#### Structure\n",
    "\n",
    "1. **Linear transformation** (Dense layer)\n",
    "2. **Non-linear activation** (e.g., ReLU, GELU)\n",
    "3. **Another linear transformation**\n",
    "\n",
    "- Typically, the FFN expands the dimensionality (e.g., from $d_{model}$ to $4 \\times d_{model}$) and then projects it back to $d_{model}$.\n",
    "- Applied to each position separately and identically.\n",
    "\n",
    "---\n",
    "\n",
    "**Summary:**  \n",
    "Positional encoding provides order information to transformers, while feed-forward networks add depth and non-linearity, enabling powerful sequence modeling without recurrence.\n"
   ]
  },
  {
   "cell_type": "code",
   "execution_count": 11,
   "id": "a2c1545e",
   "metadata": {},
   "outputs": [],
   "source": [
    "import numpy as np\n",
    "import matplotlib.pyplot as plt\n"
   ]
  },
  {
   "cell_type": "markdown",
   "id": "2c68d1dc",
   "metadata": {},
   "source": [
    "define positional encoding function"
   ]
  },
  {
   "cell_type": "code",
   "execution_count": 12,
   "id": "3569d270",
   "metadata": {},
   "outputs": [
    {
     "data": {
      "image/png": "[encoded data removed]",
      "text/plain": [
       "<Figure size 1000x600 with 2 Axes>"
      ]
     },
     "metadata": {},
     "output_type": "display_data"
    }
   ],
   "source": [
    "def positional_encoding(seq_len, embed_dim):\n",
    "    pos = np.arange(seq_len)[:, np.newaxis]\n",
    "    i = np.arange(embed_dim)[np.newaxis, :]\n",
    "    angle_rates = 1 / np.power(10000, (2 * (i // 2)) / np.float32(embed_dim))\n",
    "    angle_rads = pos * angle_rates\n",
    "\n",
    "    # apply sine to even indices and cosine to add indices\n",
    "    pos_encoding = np.zeros(angle_rads.shape)\n",
    "    pos_encoding[:, 0::2] = np.sin(angle_rads[:, 0::2])\n",
    "    pos_encoding[:, 1::2] = np.cos(angle_rads[:, 1::2])\n",
    "\n",
    "    return pos_encoding\n",
    "\n",
    "# generate postional encoding\n",
    "seq_len = 50\n",
    "embed_dim = 16\n",
    "pos_encoding = positional_encoding(seq_len, embed_dim)\n",
    "\n",
    "# visualise positional encoding\n",
    "plt.figure(figsize=(10, 6))\n",
    "plt.pcolormesh(pos_encoding, cmap=\"viridis\")\n",
    "plt.colorbar()\n",
    "plt.title(\"Positional Encoding\")\n",
    "plt.xlabel(\"Embedding Dimension\")\n",
    "plt.ylabel(\"Position\")\n",
    "plt.show()\n",
    "    \n"
   ]
  },
  {
   "cell_type": "code",
   "execution_count": null,
   "id": "2eb78e27",
   "metadata": {},
   "outputs": [
    {
     "name": "stdout",
     "output_type": "stream",
     "text": [
      "TransformerWithPositionalEncoding(\n",
      "  (embedding): Embedding(50, 16)\n",
      "  (multihhead_attention): MultiheadAttention(\n",
      "    (out_proj): NonDynamicallyQuantizableLinear(in_features=16, out_features=16, bias=True)\n",
      "  )\n",
      "  (ffn): Sequential(\n",
      "    (0): Linear(in_features=16, out_features=64, bias=True)\n",
      "    (1): ReLU()\n",
      "    (2): Linear(in_features=64, out_features=16, bias=True)\n",
      "  )\n",
      "  (norm1): LayerNorm((16,), eps=1e-05, elementwise_affine=True)\n",
      "  (norm2): LayerNorm((16,), eps=1e-05, elementwise_affine=True)\n",
      ")\n"
     ]
    }
   ],
   "source": [
    "import torch\n",
    "import torch.nn as nn\n",
    "\n",
    "\n",
    "class TransformerWithPositionalEncoding(nn.Module):\n",
    "    def __init__(self, embed_dim, seq_len, num_heads, ff_dim):\n",
    "        super(TransformerWithPositionalEncoding, self).__init__()\n",
    "        self.embedding = nn.Embedding(seq_len, embed_dim)\n",
    "        self.positional_encoding = nn.Parameter(torch.tensor(positional_encoding(seq_len, embed_dim), dtype=torch.float32))\n",
    "        self.multihhead_attention = nn.MultiheadAttention(embed_dim, num_heads)\n",
    "        self.ffn = nn.Sequential(\n",
    "            nn.Linear(embed_dim, ff_dim),\n",
    "            nn.ReLU(),\n",
    "            nn.Linear(ff_dim, embed_dim)\n",
    "        )\n",
    "        self.norm1 = nn.LayerNorm(embed_dim)\n",
    "        self.norm2 = nn.LayerNorm(embed_dim)\n",
    "    \n",
    "    def forward(self,x):\n",
    "        # add positional encoding\n",
    "        x = self.embedding(x) + self.positional_encoding\n",
    "        # self attention\n",
    "        attn_output, _ = self.multihhead_attention(x, x, x)\n",
    "        # add and norm\n",
    "        x = self.norm1(x + attn_output)\n",
    "        # feed forward network\n",
    "        ffn_output = self.ffn(x)\n",
    "        # add and norm\n",
    "        x = self.norm2(x + ffn_output)\n",
    "        return x\n",
    "    \n",
    "# define model parameters\n",
    "embed_dim = 16\n",
    "seq_len = 50\n",
    "num_heads = 4\n",
    "ff_dim = 64\n",
    "\n",
    "model = TransformerWithPositionalEncoding(embed_dim, seq_len, num_heads, ff_dim)\n",
    "print(model)"
   ]
  },
  {
   "cell_type": "markdown",
   "id": "04c50ca0",
   "metadata": {},
   "source": [
    "learnable positional encoding"
   ]
  },
  {
   "cell_type": "code",
   "execution_count": 17,
   "id": "50a846a4",
   "metadata": {},
   "outputs": [
    {
     "name": "stdout",
     "output_type": "stream",
     "text": [
      "LearnablePositionalEncoding()\n"
     ]
    }
   ],
   "source": [
    "class LearnablePositionalEncoding(nn.Module):\n",
    "    def __init__(self, seq_len, embed_dim):\n",
    "        super(LearnablePositionalEncoding, self).__init__()\n",
    "        self.positional_encoding = nn.Parameter(torch.zeros(seq_len, embed_dim))\n",
    "\n",
    "    def forward(self, x):\n",
    "        return x + self.positional_encoding\n",
    "    \n",
    "learnable_pe = LearnablePositionalEncoding(seq_len, embed_dim)\n",
    "print(learnable_pe)"
   ]
  }
 ],
 "metadata": {
  "kernelspec": {
   "display_name": "venv (3.11.9)",
   "language": "python",
   "name": "python3"
  },
  "language_info": {
   "codemirror_mode": {
    "name": "ipython",
    "version": 3
   },
   "file_extension": ".py",
   "mimetype": "text/x-python",
   "name": "python",
   "nbconvert_exporter": "python",
   "pygments_lexer": "ipython3",
   "version": "3.11.9"
  }
 },
 "nbformat": 4,
 "nbformat_minor": 5
}
