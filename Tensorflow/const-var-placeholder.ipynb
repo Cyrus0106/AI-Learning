{
 "cells": [
  {
   "cell_type": "markdown",
   "id": "b36be829",
   "metadata": {},
   "source": [
    "### Constant, Variables and Placeholders"
   ]
  },
  {
   "cell_type": "code",
   "execution_count": 1,
   "id": "cddb28f4",
   "metadata": {},
   "outputs": [],
   "source": [
    "import tensorflow as tf\n",
    "\n",
    "# create a constant tensor\n",
    "constant_tensor = tf.constant([1,2,3,4,5])\n",
    "# constants are tensors which values cant be changed once created\n",
    "\n",
    "\n",
    "# create a variable tensor\n",
    "initial_values = tf.random.normal(shape=(3,3))\n",
    "variable_tensor = tf.Variable(initial_values)\n",
    "# variables are tensors which values can be changed once created they are used to hold model parameters such as weights\n",
    "new_values = tf.random.normal(shape=(3,3))\n",
    "variable_tensor.assign(new_values)\n",
    "\n",
    "# tensorflow placeholders\n",
    "# placeholders are used to feed data into the model\n",
    "# placeholders are tensors which values can be changed once created they are used to hold model parameters such as weights \n",
    "# TensorFlow 2.x approach\n",
    "x = tf.constant([[1.0, 2.0, 3.0], [4.0, 5.0, 6.0]])\n",
    "\n",
    "# direct computation without placehodlers\n",
    "y = tf.square(x)"
   ]
  }
 ],
 "metadata": {
  "kernelspec": {
   "display_name": "venv (3.11.9)",
   "language": "python",
   "name": "python3"
  },
  "language_info": {
   "codemirror_mode": {
    "name": "ipython",
    "version": 3
   },
   "file_extension": ".py",
   "mimetype": "text/x-python",
   "name": "python",
   "nbconvert_exporter": "python",
   "pygments_lexer": "ipython3",
   "version": "3.11.9"
  }
 },
 "nbformat": 4,
 "nbformat_minor": 5
}
