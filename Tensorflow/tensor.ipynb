{
 "cells": [
  {
   "cell_type": "markdown",
   "id": "b4e966de",
   "metadata": {},
   "source": [
    "## Tensor Operations"
   ]
  },
  {
   "cell_type": "code",
   "execution_count": 6,
   "id": "988eb5b7",
   "metadata": {},
   "outputs": [
    {
     "name": "stdout",
     "output_type": "stream",
     "text": [
      "tf.Tensor(\n",
      "[[ 6  8]\n",
      " [10 12]], shape=(2, 2), dtype=int32)\n",
      "tf.Tensor(\n",
      "[[-4 -4]\n",
      " [-4 -4]], shape=(2, 2), dtype=int32)\n",
      "tf.Tensor(\n",
      "[[ 5 12]\n",
      " [21 32]], shape=(2, 2), dtype=int32)\n",
      "tf.Tensor(\n",
      "[[0.2        0.33333333]\n",
      " [0.42857143 0.5       ]], shape=(2, 2), dtype=float64)\n"
     ]
    }
   ],
   "source": [
    "import tensorflow as tf\n",
    "\n",
    "# create tensors\n",
    "tensor_a = tf.constant([[1, 2], [3, 4]])\n",
    "tensor_b = tf.constant([[5, 6], [7, 8]])\n",
    "\n",
    "# addition\n",
    "result_add = tf.add(tensor_a, tensor_b)\n",
    "print(result_add)\n",
    "\n",
    "# subtraction\n",
    "result_sub = tf.subtract(tensor_a, tensor_b)\n",
    "print(result_sub)\n",
    "\n",
    "# multiplication\n",
    "result_mul = tf.multiply(tensor_a, tensor_b)\n",
    "print(result_mul)\n",
    "\n",
    "# division\n",
    "result_div = tf.divide(tensor_a, tensor_b)\n",
    "print(result_div)"
   ]
  },
  {
   "cell_type": "markdown",
   "id": "2e224692",
   "metadata": {},
   "source": [
    "## Mathematical functions"
   ]
  },
  {
   "cell_type": "code",
   "execution_count": 11,
   "id": "c895e8e6",
   "metadata": {},
   "outputs": [
    {
     "name": "stdout",
     "output_type": "stream",
     "text": [
      "tf.Tensor(\n",
      "[[ 1  4]\n",
      " [ 9 16]], shape=(2, 2), dtype=int32)\n"
     ]
    }
   ],
   "source": [
    "# square\n",
    "result_sqaure = tf.square(tensor_a)\n",
    "print(result_sqaure)\n"
   ]
  },
  {
   "cell_type": "markdown",
   "id": "6a307b46",
   "metadata": {},
   "source": [
    "#### Reduction Operations"
   ]
  },
  {
   "cell_type": "code",
   "execution_count": 9,
   "id": "33d7afda",
   "metadata": {},
   "outputs": [
    {
     "name": "stdout",
     "output_type": "stream",
     "text": [
      "tf.Tensor([3 7], shape=(2,), dtype=int32)\n",
      "tf.Tensor(2, shape=(), dtype=int32)\n",
      "tf.Tensor(4, shape=(), dtype=int32)\n"
     ]
    }
   ],
   "source": [
    "# sum along axis\n",
    "result_sum = tf.reduce_sum(tensor_a, axis=1)\n",
    "print(result_sum)\n",
    "\n",
    "# mean along axis\n",
    "result_mean = tf.reduce_mean(tensor_a)\n",
    "print(result_mean)\n",
    "\n",
    "# max along axis\n",
    "result_max = tf.reduce_max(tensor_a)\n",
    "print(result_max)"
   ]
  },
  {
   "cell_type": "markdown",
   "id": "7aed3434",
   "metadata": {},
   "source": [
    "#### matrix operations"
   ]
  },
  {
   "cell_type": "code",
   "execution_count": 8,
   "id": "5b3a8312",
   "metadata": {},
   "outputs": [
    {
     "name": "stdout",
     "output_type": "stream",
     "text": [
      "tf.Tensor(\n",
      "[[19 22]\n",
      " [43 50]], shape=(2, 2), dtype=int32)\n",
      "tf.Tensor(\n",
      "[[1 3]\n",
      " [2 4]], shape=(2, 2), dtype=int32)\n"
     ]
    }
   ],
   "source": [
    "# Matrix Operations\n",
    "result_matmul = tf.matmul(tensor_a, tensor_b)\n",
    "print(result_matmul)\n",
    "\n",
    "# Matrix transposition\n",
    "result_transpose = tf.transpose(tensor_a)\n",
    "print(result_transpose)\n",
    "\n"
   ]
  },
  {
   "cell_type": "markdown",
   "id": "bcd91fae",
   "metadata": {},
   "source": [
    "#### index and slicing/broadcasting"
   ]
  },
  {
   "cell_type": "code",
   "execution_count": 12,
   "id": "3d5b1e28",
   "metadata": {},
   "outputs": [],
   "source": [
    "# accesing specfic element\n",
    "element = tensor_a[0,0]\n",
    "\n",
    "# slicing\n",
    "slice_tensor = tensor_a[:,1]\n",
    "\n",
    "# broadcasting\n",
    "tensorc_c = tf.constant([1,2])\n",
    "result_broadcast = tensor_a + tensorc_c\n"
   ]
  }
 ],
 "metadata": {
  "kernelspec": {
   "display_name": "venv (3.11.9)",
   "language": "python",
   "name": "python3"
  },
  "language_info": {
   "codemirror_mode": {
    "name": "ipython",
    "version": 3
   },
   "file_extension": ".py",
   "mimetype": "text/x-python",
   "name": "python",
   "nbconvert_exporter": "python",
   "pygments_lexer": "ipython3",
   "version": "3.11.9"
  }
 },
 "nbformat": 4,
 "nbformat_minor": 5
}
