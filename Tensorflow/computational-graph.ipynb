{
 "cells": [
  {
   "cell_type": "markdown",
   "id": "321025a4",
   "metadata": {},
   "source": [
    "### Tensorflow Computational Graph\n",
    "\n",
    "#### What is a Computational Graph?\n",
    "- **Definition**: A computational graph is a directed graph where nodes represent mathematical operations or variables, and edges represent data that flows between them\n",
    "- **Nodes**: \n",
    "    - Operations (ops): Mathematical functions like addition, multiplication\n",
    "    - Variables: Modifiable tensors that persist across executions\n",
    "    - Constants: Fixed tensors that don't change\n",
    "- **Edges**: Data dependencies showing how tensors flow between operations\n",
    "\n",
    "#### Building a Computational Graph\n",
    "- **Define Operations**:\n",
    "    - Mathematical operations (add, multiply, matmul)\n",
    "    - Neural network layers (dense, conv2d)\n",
    "    - Activation functions (relu, sigmoid)\n",
    "- **Create Tensors**:\n",
    "    - Variables: Trainable parameters\n",
    "    - Constants: Fixed input values\n",
    "    - Placeholders: Input data containers\n",
    "- **Connect Operations**:\n",
    "    - Chain operations together\n",
    "    - Define forward pass\n",
    "    - Specify loss function\n",
    "    - Create training operations"
   ]
  },
  {
   "cell_type": "code",
   "execution_count": null,
   "id": "62db1373",
   "metadata": {},
   "outputs": [
    {
     "name": "stdout",
     "output_type": "stream",
     "text": [
      "Result:\n",
      "[[19 22]\n",
      " [43 50]]\n"
     ]
    }
   ],
   "source": [
    "import tensorflow as tf\n",
    "\n",
    "# define functions\n",
    "a = tf.constant([[1,2], [3,4]])\n",
    "b = tf.constant([[5,6], [7,8]])\n",
    "c = tf.matmul(a,b)\n",
    "\n",
    "# In TF 2.x, eager execution is enabled by default\n",
    "# and we don't need sessions anymore\n",
    "print(\"Result:\")\n",
    "print(c.numpy())\n",
    "\n",
    "# For visualization in TensorBoard\n",
    "writer = tf.summary.create_file_writer('log')\n",
    "with writer.as_default():\n",
    "    tf.summary.trace_on()\n",
    "    tf.matmul(a,b) \n",
    "    tf.summary.trace_export(name=\"graph_trace\", step=0)"
   ]
  }
 ],
 "metadata": {
  "kernelspec": {
   "display_name": "venv (3.11.9)",
   "language": "python",
   "name": "python3"
  },
  "language_info": {
   "codemirror_mode": {
    "name": "ipython",
    "version": 3
   },
   "file_extension": ".py",
   "mimetype": "text/x-python",
   "name": "python",
   "nbconvert_exporter": "python",
   "pygments_lexer": "ipython3",
   "version": "3.11.9"
  }
 },
 "nbformat": 4,
 "nbformat_minor": 5
}
