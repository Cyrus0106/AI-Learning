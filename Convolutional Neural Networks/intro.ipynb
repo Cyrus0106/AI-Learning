{
 "cells": [
  {
   "cell_type": "markdown",
   "id": "0c50c98a",
   "metadata": {},
   "source": [
    "### Introduction to Convolutional Neural Networks"
   ]
  },
  {
   "cell_type": "markdown",
   "id": "7bc51117",
   "metadata": {},
   "source": [
    "## What are Convolutional Neural Networks (CNNs)?\n",
    "\n",
    "Convolutional Neural Networks (CNNs) are a specialized type of neural network designed to process structured grid data, such as images. They are particularly effective for image-related tasks like classification, object detection, and segmentation.\n",
    "\n",
    "---\n",
    "\n",
    "### Why Use CNNs for Image Processing?\n",
    "\n",
    "- **Spatial Hierarchies:**  \n",
    "    CNNs capture spatial and hierarchical patterns in images. Convolutional layers extract features such as edges, textures, and complex structures at different levels of abstraction.\n",
    "\n",
    "- **Parameter Efficiency:**  \n",
    "    Unlike fully connected networks, CNNs use fewer parameters due to shared weights and local connectivity. This reduces computation and memory requirements, making them scalable for large images.\n",
    "\n",
    "---\n",
    "\n",
    "### CNN Architecture Overview\n",
    "\n",
    "1. **Convolutional Layers:**  \n",
    "     - Perform convolution operations to extract features from the input image.\n",
    "     - **Kernel/Filter:** A small matrix that slides over the input to detect patterns (e.g., edges, corners).\n",
    "     - **Feature Maps:** The output of convolution, highlighting specific patterns in the input.\n",
    "\n",
    "2. **Activation Functions:**  \n",
    "     - Commonly use ReLU (Rectified Linear Unit) to introduce non-linearity, enabling the network to learn complex patterns.\n",
    "\n",
    "3. **Pooling Layers:**  \n",
    "     - Downsample feature maps to reduce spatial dimensions and computation.\n",
    "     - **Max Pooling:** Takes the maximum value in each region.\n",
    "     - **Average Pooling:** Takes the average value in each region.\n",
    "     - Helps achieve translation invariance and reduces overfitting.\n",
    "\n",
    "4. **Fully Connected Layers:**  \n",
    "     - Combine extracted features for final predictions.\n",
    "     - Act as a classifier in the network, mapping learned features to output classes.\n",
    "\n",
    "5. **Basic CNN Workflow:**  \n",
    "     `Input Image → Convolution → Activation → Pooling → (Repeat) → Fully Connected Layer → Output`\n",
    "\n",
    "---\n",
    "\n",
    "### Advantages of CNNs Over Fully Connected Networks for Images\n",
    "\n",
    "- **Translation Invariance:**  \n",
    "    CNNs can detect patterns regardless of their position in the image, thanks to local receptive fields and pooling.\n",
    "\n",
    "- **Reduced Parameters:**  \n",
    "    Shared weights and local connectivity make CNNs computationally efficient and less prone to overfitting.\n",
    "\n",
    "- **Automatic Feature Extraction:**  \n",
    "    CNNs learn to identify meaningful patterns (edges, shapes, textures) directly from data, eliminating the need for manual feature engineering.\n",
    "\n",
    "---\n",
    "\n",
    "**Summary:**  \n",
    "CNNs are the backbone of modern computer vision, enabling machines to interpret and understand visual data with high accuracy and efficiency."
   ]
  },
  {
   "cell_type": "code",
   "execution_count": 2,
   "id": "345b303e",
   "metadata": {},
   "outputs": [],
   "source": [
    "import matplotlib.pyplot as plt\n",
    "from torchvision import datasets, transforms\n"
   ]
  },
  {
   "cell_type": "markdown",
   "id": "fe2baf77",
   "metadata": {},
   "source": [
    "load dataset"
   ]
  },
  {
   "cell_type": "code",
   "execution_count": 4,
   "id": "4b18f387",
   "metadata": {},
   "outputs": [
    {
     "data": {
      "image/png": "[encoded data removed]",
      "text/plain": [
       "<Figure size 1200x300 with 5 Axes>"
      ]
     },
     "metadata": {},
     "output_type": "display_data"
    }
   ],
   "source": [
    "tranform = transforms.ToTensor()\n",
    "train_dataset = datasets.CIFAR10(\n",
    "    root=\"./data\", train=True, transform=tranform, download=True\n",
    ")\n",
    "\n",
    "# visualise sample images\n",
    "fig, axes = plt.subplots(1, 5, figsize=(12, 3))\n",
    "\n",
    "for i in range(5):\n",
    "    image, label = train_dataset[i]\n",
    "    axes[i].imshow(image.permute(1, 2, 0))\n",
    "    axes[i].axis(\"off\")\n",
    "    axes[i].set_title(f\"Label: {label}\")\n",
    "\n",
    "plt.show()"
   ]
  },
  {
   "cell_type": "markdown",
   "id": "09b731ff",
   "metadata": {},
   "source": [
    "Displayer pexel values for the first image"
   ]
  },
  {
   "cell_type": "code",
   "execution_count": 5,
   "id": "37e2238a",
   "metadata": {},
   "outputs": [
    {
     "name": "stdout",
     "output_type": "stream",
     "text": [
      "Label: 6\n",
      "Image Shape: torch.Size([3, 32, 32])\n",
      "Pixel Values\n",
      "tensor([[[0.2314, 0.1686, 0.1961,  ..., 0.6196, 0.5961, 0.5804],\n",
      "         [0.0627, 0.0000, 0.0706,  ..., 0.4824, 0.4667, 0.4784],\n",
      "         [0.0980, 0.0627, 0.1922,  ..., 0.4627, 0.4706, 0.4275],\n",
      "         ...,\n",
      "         [0.8157, 0.7882, 0.7765,  ..., 0.6275, 0.2196, 0.2078],\n",
      "         [0.7059, 0.6784, 0.7294,  ..., 0.7216, 0.3804, 0.3255],\n",
      "         [0.6941, 0.6588, 0.7020,  ..., 0.8471, 0.5922, 0.4824]],\n",
      "\n",
      "        [[0.2431, 0.1804, 0.1882,  ..., 0.5176, 0.4902, 0.4863],\n",
      "         [0.0784, 0.0000, 0.0314,  ..., 0.3451, 0.3255, 0.3412],\n",
      "         [0.0941, 0.0275, 0.1059,  ..., 0.3294, 0.3294, 0.2863],\n",
      "         ...,\n",
      "         [0.6667, 0.6000, 0.6314,  ..., 0.5216, 0.1216, 0.1333],\n",
      "         [0.5451, 0.4824, 0.5647,  ..., 0.5804, 0.2431, 0.2078],\n",
      "         [0.5647, 0.5059, 0.5569,  ..., 0.7216, 0.4627, 0.3608]],\n",
      "\n",
      "        [[0.2471, 0.1765, 0.1686,  ..., 0.4235, 0.4000, 0.4039],\n",
      "         [0.0784, 0.0000, 0.0000,  ..., 0.2157, 0.1961, 0.2235],\n",
      "         [0.0824, 0.0000, 0.0314,  ..., 0.1961, 0.1961, 0.1647],\n",
      "         ...,\n",
      "         [0.3765, 0.1333, 0.1020,  ..., 0.2745, 0.0275, 0.0784],\n",
      "         [0.3765, 0.1647, 0.1176,  ..., 0.3686, 0.1333, 0.1333],\n",
      "         [0.4549, 0.3686, 0.3412,  ..., 0.5490, 0.3294, 0.2824]]])\n"
     ]
    }
   ],
   "source": [
    "import numpy as np\n",
    "image, label = train_dataset[0]\n",
    "print(f\"Label: {label}\")\n",
    "print(f\"Image Shape: {image.shape}\")\n",
    "print(\"Pixel Values\")\n",
    "print(image)"
   ]
  },
  {
   "cell_type": "markdown",
   "id": "6b341de5",
   "metadata": {},
   "source": [
    "Create models"
   ]
  },
  {
   "cell_type": "code",
   "execution_count": 6,
   "id": "4ec9feb6",
   "metadata": {},
   "outputs": [
    {
     "name": "stdout",
     "output_type": "stream",
     "text": [
      "Tensorflow CNN is ready\n"
     ]
    },
    {
     "name": "stderr",
     "output_type": "stream",
     "text": [
      "c:\\Users\\Cyrus\\Documents\\AI Mastery\\venv\\Lib\\site-packages\\keras\\src\\layers\\convolutional\\base_conv.py:113: UserWarning: Do not pass an `input_shape`/`input_dim` argument to a layer. When using Sequential models, prefer using an `Input(shape)` object as the first layer in the model instead.\n",
      "  super().__init__(activity_regularizer=activity_regularizer, **kwargs)\n"
     ]
    }
   ],
   "source": [
    "import tensorflow as tf\n",
    "\n",
    "# define a simple CNN model\n",
    "model = tf.keras.Sequential(\n",
    "    [\n",
    "        tf.keras.layers.Conv2D(32, (3, 3), activation=\"relu\", input_shape=(32, 32, 3)),\n",
    "        tf.keras.layers.MaxPooling2D((2, 2)),\n",
    "        tf.keras.layers.Flatten(),\n",
    "        tf.keras.layers.Dense(128, activation=\"relu\"),\n",
    "        tf.keras.layers.Dense(10, activation=\"softmax\"),\n",
    "    ]\n",
    ")\n",
    "\n",
    "# compule the model\n",
    "model.compile(optimizer=\"adam\", loss=\"sparse_categorical_crossentropy\", metrics=[\"accuracy\"])\n",
    "\n",
    "print(\"Tensorflow CNN is ready\")"
   ]
  },
  {
   "cell_type": "code",
   "execution_count": 8,
   "id": "d78edc8c",
   "metadata": {},
   "outputs": [
    {
     "name": "stdout",
     "output_type": "stream",
     "text": [
      "Pytorch CNN is ready\n"
     ]
    }
   ],
   "source": [
    "import torch.nn as nn\n",
    "\n",
    "\n",
    "# define simple CNN model\n",
    "class SimpleCNN(nn.Module):\n",
    "    def __init__(self):\n",
    "        super(SimpleCNN, self).__init__()\n",
    "        self.conv1 = nn.Conv2d(3, 32, kernel_size=3, activation=\"relu\")\n",
    "        self.pool = nn.MaxPool2d(2, 2)\n",
    "        self.fc1 = nn.Linear(32 * 15 * 15, 128)\n",
    "        self.fc2 = nn.Linear(128, 10)\n",
    "\n",
    "    def forward(self, x):\n",
    "        x = F.relu(self.conv1(x))\n",
    "        x = self.pool(x)\n",
    "        x = x.view(-1, 32 * 15 * 15)\n",
    "        x = F.relu(self.fc1(x))\n",
    "        x = self.fc2(x)\n",
    "        return x\n",
    "\n",
    "\n",
    "print(\"Pytorch CNN is ready\")"
   ]
  }
 ],
 "metadata": {
  "kernelspec": {
   "display_name": "venv",
   "language": "python",
   "name": "python3"
  },
  "language_info": {
   "codemirror_mode": {
    "name": "ipython",
    "version": 3
   },
   "file_extension": ".py",
   "mimetype": "text/x-python",
   "name": "python",
   "nbconvert_exporter": "python",
   "pygments_lexer": "ipython3",
   "version": "3.11.9"
  }
 },
 "nbformat": 4,
 "nbformat_minor": 5
}
