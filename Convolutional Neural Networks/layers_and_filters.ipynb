{
 "cells": [
  {
   "cell_type": "markdown",
   "id": "c3f6e77c",
   "metadata": {},
   "source": [
    "### Convolution Layers and Filters"
   ]
  },
  {
   "cell_type": "markdown",
   "id": "1b5968e2",
   "metadata": {},
   "source": [
    "### What is a Convolution Operation?\n",
    "\n",
    "A **convolution operation** is a fundamental mathematical process used in image processing and deep learning. In convolutional neural networks (CNNs), a small matrix called a **kernel** or **filter** slides over the input image to extract important features such as edges, textures, or patterns.\n",
    "\n",
    "---\n",
    "\n",
    "#### Key Concepts\n",
    "\n",
    "- **Kernel (Filter):**\n",
    "    - A small matrix (e.g., 3×3, 5×5) used to extract features from the input.\n",
    "    - Each element of the kernel is a weight that is learned during training.\n",
    "    - The kernel moves across the input image, performing element-wise multiplication and summing the results to produce a single output value.\n",
    "\n",
    "- **Feature Map:**\n",
    "    - The output of a convolution operation.\n",
    "    - Highlights specific patterns or features detected by the filter.\n",
    "    - Multiple filters can be used to produce multiple feature maps, each capturing different aspects of the input.\n",
    "\n",
    "- **Channels:**\n",
    "    - For RGB images, each color channel (Red, Green, Blue) is processed separately.\n",
    "    - The results from each channel are combined to form the final feature map.\n",
    "    - In deeper layers, channels represent different learned features rather than colors.\n",
    "\n",
    "---\n",
    "\n",
    "#### Kernel Size, Stride, and Padding\n",
    "\n",
    "- **Kernel Size:**\n",
    "    - The dimensions of the filter (e.g., 3×3, 5×5).\n",
    "    - Smaller kernels capture fine details; larger kernels detect broader, more abstract features.\n",
    "    - Common kernel sizes are odd numbers (3×3, 5×5) to ensure a central pixel.\n",
    "\n",
    "- **Stride:**\n",
    "    - The step size with which the filter moves across the input.\n",
    "    - A stride of 1 means the filter moves one pixel at a time; a stride of 2 skips every other pixel.\n",
    "    - Larger strides reduce the size of the feature map, improving computational efficiency but potentially losing detail.\n",
    "    - Smaller strides retain more detail but increase computation.\n",
    "\n",
    "- **Padding:**\n",
    "    - Adds extra pixels (usually zeros) around the input to control the size of the output feature map.\n",
    "    - **Valid Padding:** No padding; the feature map shrinks after convolution.\n",
    "    - **Same Padding:** Pads the input so the output feature map has the same spatial dimensions as the input.\n",
    "\n",
    "---\n",
    "\n",
    "#### Visualizing How Convolution Extracts Features\n",
    "\n",
    "- **Edge Detection:**\n",
    "    - Kernels like Sobel or Prewitt are designed to highlight edges in images by detecting changes in pixel intensity.\n",
    "    - These filters are often used in the initial layers of CNNs to capture basic shapes and outlines.\n",
    "\n",
    "- **Feature Extraction:**\n",
    "    - Initial layers focus on simple features like edges and textures.\n",
    "    - Deeper layers combine these simple features to detect more complex and abstract patterns (e.g., shapes, objects).\n",
    "    - This hierarchical feature extraction enables CNNs to learn rich representations of the input data.\n",
    "\n",
    "---\n",
    "\n",
    "**Summary:**  \n",
    "Convolution operations are essential for extracting meaningful features from images, enabling neural networks to recognize patterns, objects, and scenes effectively."
   ]
  },
  {
   "cell_type": "code",
   "execution_count": 1,
   "id": "19cf511b",
   "metadata": {},
   "outputs": [],
   "source": [
    "import matplotlib.pyplot as plt\n",
    "import numpy as np\n",
    "from scipy.ndimage import convolve"
   ]
  },
  {
   "cell_type": "markdown",
   "id": "f08a6d87",
   "metadata": {},
   "source": [
    "Load a sample grayscale image"
   ]
  },
  {
   "cell_type": "code",
   "execution_count": 2,
   "id": "76a2d896",
   "metadata": {},
   "outputs": [
    {
     "data": {
      "image/png": "[encoded data removed]",
      "text/plain": [
       "<Figure size 1200x400 with 3 Axes>"
      ]
     },
     "metadata": {},
     "output_type": "display_data"
    }
   ],
   "source": [
    "image = np.random.rand(10, 10)\n",
    "# define convolution kernels\n",
    "edge_detection_kernel = np.array(\n",
    "    [\n",
    "        [-1, -1, -1],\n",
    "        [-1, 8, -1],\n",
    "        [-1, -1, -1],\n",
    "    ]\n",
    ")\n",
    "blur_kernel = np.array([[1, 1, 1], [1, 1, 1], [1, 1, 1]]) / 9\n",
    "\n",
    "# apply convolution\n",
    "edge_detected_image = convolve(image, edge_detection_kernel)\n",
    "blurred_image = convolve(image, blur_kernel)\n",
    "\n",
    "# visualise original and filtered image\n",
    "fig, axes = plt.subplots(1, 3, figsize=(12, 4))\n",
    "axes[0].imshow(image, cmap=\"gray\")\n",
    "axes[0].set_title(\"Original Image\")\n",
    "axes[1].imshow(edge_detected_image, cmap=\"gray\")\n",
    "axes[1].set_title(\"Edge Detected Image\")\n",
    "axes[2].imshow(blurred_image, cmap=\"gray\")\n",
    "axes[2].set_title(\"Blurred Image\")\n",
    "plt.show()"
   ]
  },
  {
   "cell_type": "markdown",
   "id": "4a89909c",
   "metadata": {},
   "source": [
    "Implement convolution in tensorflow"
   ]
  },
  {
   "cell_type": "code",
   "execution_count": null,
   "id": "cc8e43e8",
   "metadata": {},
   "outputs": [
    {
     "name": "stdout",
     "output_type": "stream",
     "text": [
      "Original Shape: (1, 10, 10, 1)\n",
      "Output Shape: (1, 10, 10, 1)\n"
     ]
    }
   ],
   "source": [
    "import tensorflow as tf\n",
    "\n",
    "# create a sample input tensor (batchsize, height , width, channels)\n",
    "image_tensor = tf.random.normal([1, 10, 10, 1])\n",
    "\n",
    "# define a convolutional layer\n",
    "conv_layer = tf.keras.layers.Conv2D(\n",
    "    filters=1,\n",
    "    kernel_size=(3, 3),\n",
    "    padding=\"same\",\n",
    ")\n",
    "\n",
    "# applying convolution\n",
    "output_tensor = conv_layer(image_tensor)\n",
    "\n",
    "print(f\"Original Shape: {image_tensor.shape}\")\n",
    "print(f\"Output Shape: {output_tensor.shape}\")"
   ]
  },
  {
   "cell_type": "markdown",
   "id": "0995bef4",
   "metadata": {},
   "source": [
    "Implement convolution in pytorch"
   ]
  },
  {
   "cell_type": "code",
   "execution_count": 6,
   "id": "4b723558",
   "metadata": {},
   "outputs": [
    {
     "name": "stdout",
     "output_type": "stream",
     "text": [
      "Original Shape: torch.Size([1, 1, 10, 10])\n",
      "Output Shape: torch.Size([1, 1, 10, 10])\n"
     ]
    }
   ],
   "source": [
    "import torch\n",
    "import torch.nn as nn\n",
    "\n",
    "# create a sample input tensor (batch_size, channels, height, width)\n",
    "image_tensor_pt = torch.randn(1, 1, 10, 10)\n",
    "\n",
    "# define a convolutional layer\n",
    "conv_layer = nn.Conv2d(\n",
    "    in_channels=1, out_channels=1, kernel_size=3, padding=\"same\", stride=1\n",
    ")\n",
    "\n",
    "# apply convolution\n",
    "output_tensor_pt = conv_layer(image_tensor_pt)\n",
    "\n",
    "print(f\"Original Shape: {image_tensor_pt.shape}\")\n",
    "print(f\"Output Shape: {output_tensor_pt.shape}\")"
   ]
  }
 ],
 "metadata": {
  "kernelspec": {
   "display_name": "venv",
   "language": "python",
   "name": "python3"
  },
  "language_info": {
   "codemirror_mode": {
    "name": "ipython",
    "version": 3
   },
   "file_extension": ".py",
   "mimetype": "text/x-python",
   "name": "python",
   "nbconvert_exporter": "python",
   "pygments_lexer": "ipython3",
   "version": "3.11.9"
  }
 },
 "nbformat": 4,
 "nbformat_minor": 5
}
