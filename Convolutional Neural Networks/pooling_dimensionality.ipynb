{
 "cells": [
  {
   "cell_type": "markdown",
   "id": "78510ebd",
   "metadata": {},
   "source": [
    "### Pooling Layers and Dimensionality Reduction"
   ]
  },
  {
   "cell_type": "markdown",
   "id": "03974128",
   "metadata": {},
   "source": [
    "## Introduction to Pooling Layers\n",
    "\n",
    "Pooling layers are essential components in convolutional neural networks (CNNs). They are used to reduce the spatial dimensions (height and width) of feature maps while retaining the most important information. This process helps make the network more computationally efficient and robust to variations in the input.\n",
    "\n",
    "### Types of Pooling\n",
    "\n",
    "- **Max Pooling:**  \n",
    "    Selects the maximum value from each region (window) of the input feature map.  \n",
    "    - Captures the strongest activations.\n",
    "    - Helps highlight prominent features and edges.\n",
    "    - Commonly used in practice due to its effectiveness in feature extraction.\n",
    "\n",
    "- **Average Pooling:**  \n",
    "    Computes the average value for each region of the input feature map.  \n",
    "    - Provides a more generalized summary of features.\n",
    "    - Can be useful when the presence of a feature is less important than its average effect.\n",
    "\n",
    "### Role of Pooling in Reducing Dimensionality\n",
    "\n",
    "- **Dimensionality Reduction:**  \n",
    "    Pooling reduces the spatial dimensions (height and width) of feature maps, resulting in fewer parameters and faster computations. This helps prevent overfitting and reduces the computational load.\n",
    "\n",
    "- **Robustness:**  \n",
    "    Pooling makes the model invariant to small translations, distortions, or noise in the input image. This means that minor changes in the input do not significantly affect the pooled output, improving the model's generalization.\n",
    "\n",
    "### Combining Convolution and Pooling Layers\n",
    "\n",
    "Pooling layers typically follow convolutional layers to downsample the feature maps. This combination helps extract hierarchical features from the input data:\n",
    "\n",
    "- **Early Layers:** Focus on detecting simple features such as edges, colors, and textures.\n",
    "- **Deeper Layers:** Capture more complex patterns and high-level representations.\n",
    "\n",
    "By alternating convolution and pooling layers, CNNs can learn increasingly abstract and informative features, leading to better performance on tasks such as image classification and object detection."
   ]
  },
  {
   "cell_type": "code",
   "execution_count": 13,
   "id": "07b267c0",
   "metadata": {},
   "outputs": [],
   "source": [
    "import numpy as np\n",
    "import matplotlib.pyplot as plt\n",
    "from scipy.ndimage import maximum_filter, uniform_filter\n"
   ]
  },
  {
   "cell_type": "markdown",
   "id": "a4bce848",
   "metadata": {},
   "source": [
    "creeate a sample feeature map"
   ]
  },
  {
   "cell_type": "code",
   "execution_count": 14,
   "id": "8333a376",
   "metadata": {},
   "outputs": [
    {
     "data": {
      "image/png": "[encoded data removed]",
      "text/plain": [
       "<Figure size 1200x400 with 3 Axes>"
      ]
     },
     "metadata": {},
     "output_type": "display_data"
    }
   ],
   "source": [
    "feature_map = np.array([\n",
    "    [1,2,3,0],\n",
    "    [4,5,6,1],\n",
    "    [7,8,9,2],\n",
    "    [0,1,2,3]\n",
    "])\n",
    "\n",
    "# max pooling (2X2)\n",
    "max_pooled = maximum_filter(feature_map, size =2, mode='constant')\n",
    "\n",
    "# average pooling (2X2)\n",
    "avg_pooled = uniform_filter(feature_map, size=2, mode='constant')\n",
    "\n",
    "# plot \n",
    "fig, axes = plt.subplots(1,3, figsize=(12,4))\n",
    "axes[0].imshow(feature_map, cmap='viridis')\n",
    "axes[0].set_title('Original Feature Map')\n",
    "axes[1].imshow(max_pooled, cmap='viridis')\n",
    "axes[1].set_title('Max Pooling')\n",
    "axes[2].imshow(avg_pooled, cmap='viridis')\n",
    "axes[2].set_title('Average Pooling')\n",
    "plt.show()"
   ]
  },
  {
   "cell_type": "markdown",
   "id": "753cf09e",
   "metadata": {},
   "source": [
    "Do in tensorflow"
   ]
  },
  {
   "cell_type": "code",
   "execution_count": 15,
   "id": "542a9b72",
   "metadata": {},
   "outputs": [
    {
     "name": "stdout",
     "output_type": "stream",
     "text": [
      "Max Pooled Tensor \n",
      " [[5. 6.]\n",
      " [8. 9.]]\n",
      "Average Pooled Tensor \n",
      " [[3.  2.5]\n",
      " [4.  4. ]]\n"
     ]
    }
   ],
   "source": [
    "import tensorflow as tf\n",
    "# create a sample input tensorflow (1x4x4x1 for batch size, height, width, channels)\n",
    "input_tensor = tf.constant(feature_map.reshape(1,4,4,1), dtype=tf.float32)\n",
    "\n",
    "# max pooling\n",
    "max_pool = tf.keras.layers.MaxPooling2D(pool_size=(2,2), strides=2, padding='valid')\n",
    "max_pooled_tensor = max_pool(input_tensor)\n",
    "\n",
    "# average pooling\n",
    "avg_pool = tf.keras.layers.AveragePooling2D(pool_size=(2,2), strides=2, padding='valid')\n",
    "avg_pooled_tensor = avg_pool(input_tensor)\n",
    "\n",
    "print(f\"Max Pooled Tensor \\n {tf.squeeze(max_pooled_tensor).numpy()}\")\n",
    "print(f\"Average Pooled Tensor \\n {tf.squeeze(avg_pooled_tensor).numpy()}\")"
   ]
  },
  {
   "cell_type": "markdown",
   "id": "5ea7272a",
   "metadata": {},
   "source": [
    "Now do in pytorch"
   ]
  },
  {
   "cell_type": "code",
   "execution_count": 16,
   "id": "fb2e54e0",
   "metadata": {},
   "outputs": [
    {
     "name": "stdout",
     "output_type": "stream",
     "text": [
      "Max Pooled Tensor \n",
      " [[5. 6.]\n",
      " [8. 9.]]\n",
      "Average Pooled Tensor \n",
      " [[3.  2.5]\n",
      " [4.  4. ]]\n"
     ]
    }
   ],
   "source": [
    "import torch\n",
    "import torch.nn as nn\n",
    "\n",
    "# create a sample input tensor (batch_size, channels, height, width)\n",
    "input_tensor = torch.tensor(feature_map, dtype=torch.float32).unsqueeze(0).unsqueeze(0)\n",
    "\n",
    "# Max Pooling\n",
    "max_pool = nn.MaxPool2d(kernel_size=2, stride=2)\n",
    "max_pooled_tensor = max_pool(input_tensor)\n",
    "\n",
    "# Average Pooling\n",
    "avg_pool = nn.AvgPool2d(kernel_size=2, stride=2)\n",
    "avg_pooled_tensor = avg_pool(input_tensor)\n",
    "\n",
    "print(f\"Max Pooled Tensor \\n {max_pooled_tensor.squeeze().numpy()}\")\n",
    "print(f\"Average Pooled Tensor \\n {avg_pooled_tensor.squeeze().numpy()}\")"
   ]
  },
  {
   "cell_type": "code",
   "execution_count": null,
   "id": "531ed7f2",
   "metadata": {},
   "outputs": [
    {
     "ename": "NameError",
     "evalue": "name 'torch' is not defined",
     "output_type": "error",
     "traceback": [
      "\u001b[31m---------------------------------------------------------------------------\u001b[39m",
      "\u001b[31mNameError\u001b[39m                                 Traceback (most recent call last)",
      "\u001b[36mCell\u001b[39m\u001b[36m \u001b[39m\u001b[32mIn[2]\u001b[39m\u001b[32m, line 15\u001b[39m\n\u001b[32m      3\u001b[39m model_tf = tf.keras.Sequential(\n\u001b[32m      4\u001b[39m     [\n\u001b[32m      5\u001b[39m         tf.keras.Input(shape=(\u001b[32m32\u001b[39m, \u001b[32m32\u001b[39m, \u001b[32m3\u001b[39m)),\n\u001b[32m   (...)\u001b[39m\u001b[32m     10\u001b[39m     ]\n\u001b[32m     11\u001b[39m )\n\u001b[32m     14\u001b[39m \u001b[38;5;66;03m# pytorch example\u001b[39;00m\n\u001b[32m---> \u001b[39m\u001b[32m15\u001b[39m \u001b[38;5;28;01mclass\u001b[39;00m\u001b[38;5;250m \u001b[39m\u001b[34;01mSimpleCNN\u001b[39;00m(\u001b[43mtorch\u001b[49m.nn.Module):\n\u001b[32m     16\u001b[39m     \u001b[38;5;28;01mdef\u001b[39;00m\u001b[38;5;250m \u001b[39m\u001b[34m__init__\u001b[39m(\u001b[38;5;28mself\u001b[39m):\n\u001b[32m     17\u001b[39m         \u001b[38;5;28msuper\u001b[39m(simpleCNN, \u001b[38;5;28mself\u001b[39m).\u001b[34m__init__\u001b[39m()\n",
      "\u001b[31mNameError\u001b[39m: name 'torch' is not defined"
     ]
    }
   ],
   "source": [
    "# tensorflow example\n",
    "model_tf = tf.keras.Sequential(\n",
    "    [\n",
    "        tf.keras.Input(shape=(32, 32, 3)),\n",
    "        tf.keras.layers.Conv2D(32, (3, 3), activation=\"relu\"),\n",
    "        tf.keras.layers.MaxPooling2D((2, 2)),\n",
    "        tf.keras.layers.Conv2D(64, (3, 3), activation=\"relu\"),\n",
    "        tf.keras.layers.AveragePooling2D((2, 2)),\n",
    "    ]\n",
    ")\n",
    "\n",
    "\n",
    "# pytorch example\n",
    "class SimpleCNN(torch.nn.Module):\n",
    "    def __init__(self):\n",
    "        super(simpleCNN, self).__init__()\n",
    "        self.conv1 = nn.Conv2d(3, 32, kernel_size=3)\n",
    "        self.pool1 = nn.MaxPool2d(2, 2)\n",
    "        self.conv2 = nn.Conv2d(32, 64, kernel_size=3)\n",
    "        self.pool2 = nn.AvgPool2d(2, 2)\n",
    "\n",
    "    def forward(self, x):\n",
    "        x = torch.relu(self.conv1(x))\n",
    "        x = slef.pool1(x)\n",
    "        x = torch.relu(self.conv2(x))\n",
    "        x = self.pool2(x)\n",
    "        return x"
   ]
  }
 ],
 "metadata": {
  "kernelspec": {
   "display_name": "venv",
   "language": "python",
   "name": "python3"
  },
  "language_info": {
   "codemirror_mode": {
    "name": "ipython",
    "version": 3
   },
   "file_extension": ".py",
   "mimetype": "text/x-python",
   "name": "python",
   "nbconvert_exporter": "python",
   "pygments_lexer": "ipython3",
   "version": "3.11.9"
  }
 },
 "nbformat": 4,
 "nbformat_minor": 5
}
