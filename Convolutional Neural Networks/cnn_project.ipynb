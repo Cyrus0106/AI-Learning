{
 "cells": [
  {
   "cell_type": "markdown",
   "id": "13f0e26f",
   "metadata": {},
   "source": [
    "### Image classfication on fashion MNIST or CIFAR-10"
   ]
  },
  {
   "cell_type": "markdown",
   "id": "9a5ee9ba",
   "metadata": {},
   "source": [
    "## Why Use Larger Datasets?\n",
    "\n",
    "Larger datasets like CIFAR-10 or Fashion MNIST present more realistic and diverse challenges compared to toy datasets such as MNIST. They contain a greater variety of images, backgrounds, and object classes, making them better benchmarks for evaluating model performance in real-world scenarios. These datasets require deeper architectures, careful regularization, and data augmentation for optimal performance.\n",
    "\n",
    "---\n",
    "\n",
    "### Key Techniques to Improve Performance\n",
    "\n",
    "#### Architectural Modifications\n",
    "- **Increase Depth:** Add more convolutional layers to enable the model to learn hierarchical and complex features.\n",
    "- **Vary Kernel Sizes:** Experiment with different kernel sizes to capture features at multiple scales.\n",
    "- **More Filters:** Use more filters in deeper layers to capture intricate patterns and details.\n",
    "- **Residual Connections:** Incorporate skip connections (as in ResNet) to help train deeper networks.\n",
    "\n",
    "#### Regularization\n",
    "- **Dropout:** Apply dropout in dense layers to reduce overfitting by randomly deactivating neurons during training.\n",
    "- **Batch Normalization:** Use batch normalization in convolutional layers to stabilize and accelerate training.\n",
    "- **Weight Decay:** Apply L2 regularization to penalize large weights and encourage simpler models.\n",
    "\n",
    "#### Data Augmentation\n",
    "- **Random Flipping:** Horizontally flip images to increase dataset diversity.\n",
    "- **Random Cropping:** Crop images randomly to help the model become invariant to object position.\n",
    "- **Rotation:** Rotate images by small angles to improve robustness to orientation changes.\n",
    "- **Color Jittering:** Randomly change brightness, contrast, or saturation for better generalization.\n",
    "\n",
    "---\n",
    "\n",
    "### Analyzing Model Performance and Tuning\n",
    "\n",
    "#### Evaluation Metrics\n",
    "- **Accuracy:** Measures the overall correctness of classification.\n",
    "- **Loss:** Quantifies the difference between predicted and true labels; lower loss indicates better performance.\n",
    "- **Confusion Matrix:** Visualizes true vs. predicted classes, highlighting which classes are often misclassified.\n",
    "- **Precision & Recall:** Useful for imbalanced datasets to evaluate performance per class.\n",
    "- **F1 Score:** Harmonic mean of precision and recall, providing a balanced metric.\n",
    "\n",
    "#### Model Tuning\n",
    "- **Learning Rate Scheduling:** Adjust the learning rate during training for faster convergence.\n",
    "- **Early Stopping:** Stop training when validation performance stops improving to prevent overfitting.\n",
    "- **Hyperparameter Search:** Experiment with different architectures, optimizers, and regularization strengths.\n",
    "\n",
    "---\n",
    "\n",
    "By leveraging these techniques, you can build robust models that generalize well to complex, real-world image classification tasks."
   ]
  },
  {
   "cell_type": "code",
   "execution_count": 8,
   "id": "1e645e5f",
   "metadata": {},
   "outputs": [],
   "source": [
    "import torch\n",
    "from torchvision import datasets, transforms\n",
    "from torch.utils.data import DataLoader"
   ]
  },
  {
   "cell_type": "markdown",
   "id": "96ddbcac",
   "metadata": {},
   "source": [
    "Load and prepare dataset"
   ]
  },
  {
   "cell_type": "code",
   "execution_count": 9,
   "id": "249b7338",
   "metadata": {},
   "outputs": [
    {
     "name": "stdout",
     "output_type": "stream",
     "text": [
      "Training Data Size: 50000\n",
      "Test Data Size: 10000\n"
     ]
    }
   ],
   "source": [
    "transform_train = transforms.Compose([\n",
    "    transforms.RandomHorizontalFlip(),\n",
    "    transforms.RandomCrop(32, padding=4),\n",
    "    transforms.ToTensor(),\n",
    "    transforms.Normalize((0.5, 0.5, 0.5), (0.5, 0.5, 0.5))\n",
    "])\n",
    "\n",
    "transform_test = transforms.Compose([\n",
    "    transforms.ToTensor(),\n",
    "    transforms.Normalize((0.5, 0.5, 0.5), (0.5, 0.5, 0.5))\n",
    "])\n",
    "\n",
    "# load the CIFAR-10 dataset\n",
    "train_dataset = datasets.CIFAR10(root='./data', train=True, download=True, transform=transform_train)\n",
    "test_dataset = datasets.CIFAR10(root='./data', train=False, download=True, transform=transform_test)\n",
    "\n",
    "train_loader = DataLoader(train_dataset, batch_size = 64, shuffle=True)\n",
    "test_loader = DataLoader(test_dataset, batch_size = 64, shuffle=False)\n",
    "\n",
    "print(f\"Training Data Size: {len(train_dataset)}\")\n",
    "print(f\"Test Data Size: {len(test_dataset)}\")"
   ]
  },
  {
   "cell_type": "markdown",
   "id": "4ae9190b",
   "metadata": {},
   "source": [
    "Create Model"
   ]
  },
  {
   "cell_type": "code",
   "execution_count": 13,
   "id": "4f9eedeb",
   "metadata": {},
   "outputs": [
    {
     "name": "stdout",
     "output_type": "stream",
     "text": [
      "EnhancedCNN(\n",
      "  (conv1): Conv2d(3, 6, kernel_size=(5, 5), stride=(1, 1))\n",
      "  (bn1): BatchNorm2d(6, eps=1e-05, momentum=0.1, affine=True, track_running_stats=True)\n",
      "  (conv2): Conv2d(6, 16, kernel_size=(5, 5), stride=(1, 1))\n",
      "  (bn2): BatchNorm2d(16, eps=1e-05, momentum=0.1, affine=True, track_running_stats=True)\n",
      "  (pool): MaxPool2d(kernel_size=2, stride=2, padding=0, dilation=1, ceil_mode=False)\n",
      "  (dropout): Dropout(p=0.5, inplace=False)\n",
      "  (fc1): Linear(in_features=2304, out_features=120, bias=True)\n",
      "  (fc2): Linear(in_features=120, out_features=84, bias=True)\n",
      "  (fc3): Linear(in_features=84, out_features=10, bias=True)\n",
      ")\n"
     ]
    }
   ],
   "source": [
    "import torch.nn as nn\n",
    "import torch.nn.functional as F\n",
    "\n",
    "\n",
    "class EnhancedCNN(nn.Module):\n",
    "    def __init__(self):\n",
    "        super(EnhancedCNN, self).__init__()\n",
    "        self.conv1 = nn.Conv2d(3, 6, 5)\n",
    "        self.bn1 = nn.BatchNorm2d(6)\n",
    "        self.conv2 = nn.Conv2d(6, 16, 5)\n",
    "        self.bn2 = nn.BatchNorm2d(16)\n",
    "        self.pool = nn.MaxPool2d(2, 2)\n",
    "        self.dropout = nn.Dropout(0.5)\n",
    "\n",
    "        # calculate the size of the output from the convolutional layers dynamically\n",
    "        self._calculate_conv_output()\n",
    "\n",
    "        self.fc1 = nn.Linear(self.conv_output_size, 120)\n",
    "        self.fc2 = nn.Linear(120, 84)\n",
    "        self.fc3 = nn.Linear(84, 10)\n",
    "\n",
    "    def _calculate_conv_output(self):\n",
    "        # dummy input tensor with the same size as the input images\n",
    "        dummy_input = torch.zeros(1, 3, 32, 32)\n",
    "        with torch.no_grad():\n",
    "            output = self.pool(\n",
    "                F.relu(\n",
    "                    self.bn2(\n",
    "                        self.conv2(F.relu(self.bn1(self.bn1(self.conv1(dummy_input)))))\n",
    "                    )\n",
    "                )\n",
    "            )\n",
    "            self.conv_output_size = output.numel()\n",
    "\n",
    "    def forward(self, x):\n",
    "        x = F.relu(self.bn1(self.conv1(x)))\n",
    "        x = self.pool(F.relu(self.bn2(self.conv2(x))))\n",
    "        x = x.view(x.size(0), -1)\n",
    "        x = F.relu(self.fc1(x))\n",
    "        x = self.dropout(x)\n",
    "        x = F.relu(self.fc2(x))\n",
    "        x = self.fc3(x)\n",
    "        return x\n",
    "\n",
    "\n",
    "model = EnhancedCNN()\n",
    "print(model)"
   ]
  },
  {
   "cell_type": "markdown",
   "id": "55663274",
   "metadata": {},
   "source": [
    "train model"
   ]
  },
  {
   "cell_type": "code",
   "execution_count": 14,
   "id": "7fd20630",
   "metadata": {},
   "outputs": [
    {
     "name": "stdout",
     "output_type": "stream",
     "text": [
      "Epoch 1, Loss: 1.7857965778206926\n",
      "Epoch 2, Loss: 1.6027736994616515\n",
      "Epoch 3, Loss: 1.5005790397639165\n",
      "Epoch 4, Loss: 1.4471438331982058\n",
      "Epoch 5, Loss: 1.4055104902028428\n",
      "Epoch 6, Loss: 1.3798044959602453\n",
      "Epoch 7, Loss: 1.3542597238974803\n",
      "Epoch 8, Loss: 1.3371581835362611\n",
      "Epoch 9, Loss: 1.321458347465681\n",
      "Epoch 10, Loss: 1.3157745149281934\n",
      "Epoch 11, Loss: 1.2942797325151352\n",
      "Epoch 12, Loss: 1.2954551761260118\n",
      "Epoch 13, Loss: 1.2889685992847013\n",
      "Epoch 14, Loss: 1.2821330862581883\n",
      "Epoch 15, Loss: 1.2732909452884704\n",
      "Epoch 16, Loss: 1.2696371695879476\n",
      "Epoch 17, Loss: 1.2667204794066642\n",
      "Epoch 18, Loss: 1.262283198897491\n",
      "Epoch 19, Loss: 1.2504058316388094\n",
      "Epoch 20, Loss: 1.2440433114995737\n",
      "Test Accuracy: 58.41%\n"
     ]
    }
   ],
   "source": [
    "import torch.optim as optim\n",
    "\n",
    "# define loss functon and optimizer\n",
    "criterion = nn.CrossEntropyLoss()\n",
    "optimizer = optim.Adam(model.parameters(), lr=0.001)\n",
    "\n",
    "training_loss = []\n",
    "\n",
    "# training loop\n",
    "def train_model(model, train_loader, criterion, optimizer, epochs=20):\n",
    "    model.train()\n",
    "    for epoch in range(epochs):\n",
    "        running_loss = 0.0\n",
    "        for images, labels in train_loader:\n",
    "            optimizer.zero_grad()\n",
    "            outputs = model(images)\n",
    "            loss = criterion(outputs, labels)\n",
    "            loss.backward()\n",
    "            optimizer.step()\n",
    "            running_loss += loss.item()\n",
    "        epcoh_loss = running_loss / len(train_loader)\n",
    "        training_loss.append(epcoh_loss)\n",
    "        print(f\"Epoch {epoch+1}, Loss: {epcoh_loss}\")\n",
    "\n",
    "train_model(model, train_loader, criterion, optimizer)\n",
    "\n",
    "# evaluation loop\n",
    "def evaluate_model(model,test_loader):\n",
    "    model.eval()\n",
    "    correct= 0\n",
    "    total = 0\n",
    "    with torch.no_grad():\n",
    "        for images, labels in test_loader:\n",
    "            outputs = model(images)\n",
    "            _, predicted = torch.max(outputs.data, 1)\n",
    "            total += labels.size(0)\n",
    "            correct += (predicted == labels).sum().item()\n",
    "    print(f\"Test Accuracy: {100 * correct/total}%\")\n",
    "\n",
    "evaluate_model(model, test_loader)\n"
   ]
  },
  {
   "cell_type": "markdown",
   "id": "8e6e8318",
   "metadata": {},
   "source": [
    "plot the model"
   ]
  },
  {
   "cell_type": "code",
   "execution_count": 15,
   "id": "41951c60",
   "metadata": {},
   "outputs": [
    {
     "data": {
      "image/png": "[encoded data removed]",
      "text/plain": [
       "<Figure size 640x480 with 1 Axes>"
      ]
     },
     "metadata": {},
     "output_type": "display_data"
    }
   ],
   "source": [
    "import matplotlib.pyplot as plt\n",
    "\n",
    "plt.plot(training_loss, label = \"Training Loss\")\n",
    "plt.title(\"Loss Curve\")\n",
    "plt.xlabel(\"Epochs\")\n",
    "plt.ylabel(\"Loss\")\n",
    "plt.legend()\n",
    "plt.show()  \n"
   ]
  }
 ],
 "metadata": {
  "kernelspec": {
   "display_name": "venv",
   "language": "python",
   "name": "python3"
  },
  "language_info": {
   "codemirror_mode": {
    "name": "ipython",
    "version": 3
   },
   "file_extension": ".py",
   "mimetype": "text/x-python",
   "name": "python",
   "nbconvert_exporter": "python",
   "pygments_lexer": "ipython3",
   "version": "3.11.9"
  }
 },
 "nbformat": 4,
 "nbformat_minor": 5
}
