{
 "cells": [
  {
   "cell_type": "markdown",
   "id": "3116b992",
   "metadata": {},
   "source": [
    "### Building CNN Architectures with PyTorch"
   ]
  },
  {
   "cell_type": "markdown",
   "id": "b75e5ddb",
   "metadata": {},
   "source": [
    "## Key Steps in Building CNN Architectures with PyTorch\n",
    "\n",
    "1. **Define a Model**\n",
    "    - Create a class that inherits from `torch.nn.Module`.\n",
    "    - Use layers such as convolutional, pooling, and fully connected layers to build your architecture.\n",
    "\n",
    "2. **Build CNN Layers**\n",
    "    - Use modules like `nn.Conv2d`, `nn.MaxPool2d`, and `nn.Linear` to construct the network.\n",
    "    - Stack layers to increase model capacity and capture complex patterns.\n",
    "\n",
    "3. **Forward Pass**\n",
    "    - Implement the `forward()` method to define how input data flows through the layers to produce output.\n",
    "    - Apply activation functions (e.g., ReLU) and flatten outputs as needed for fully connected layers.\n",
    "\n",
    "4. **Model Summary**\n",
    "    - Inspect the structure and learnable parameters using `print(model)` or libraries like `torchsummary`.\n",
    "    - Understand the number of parameters and the shape of outputs at each layer.\n",
    "\n",
    "---\n",
    "\n",
    "## Training and Evaluating CNNs in PyTorch\n",
    "\n",
    "- **Training**\n",
    "  - Perform forward and backward passes.\n",
    "  - Calculate loss using functions like `nn.CrossEntropyLoss`.\n",
    "  - Update weights using optimizers such as `torch.optim.Adam` or `torch.optim.SGD`.\n",
    "  - Iterate over epochs and batches to improve model performance.\n",
    "\n",
    "- **Evaluation**\n",
    "  - Test the model on unseen (validation/test) data.\n",
    "  - Compute metrics such as accuracy, loss, precision, and recall.\n",
    "  - Use `model.eval()` and disable gradient computation with `torch.no_grad()` during evaluation.\n",
    "\n",
    "---\n",
    "\n",
    "## Experimenting with CNN Model Design and Hyperparameter Tuning\n",
    "\n",
    "### Areas for Experimentation\n",
    "\n",
    "- **Layer Depth**\n",
    "  - Add or remove convolutional and pooling layers to observe their impact on learning and generalization.\n",
    "\n",
    "- **Filter Size**\n",
    "  - Experiment with different kernel sizes (e.g., 3x3, 5x5) to capture features at various scales.\n",
    "\n",
    "- **Learning Rate**\n",
    "  - Adjust the learning rate to improve convergence speed and model accuracy.\n",
    "  - Consider using learning rate schedulers for dynamic adjustment during training.\n",
    "\n",
    "- **Batch Size**\n",
    "  - Tune batch size for optimal memory usage and training stability.\n",
    "\n",
    "- **Regularization**\n",
    "  - Apply dropout (`nn.Dropout`) or weight decay to prevent overfitting.\n",
    "\n",
    "- **Data Augmentation**\n",
    "  - Use transforms (e.g., random crop, flip, rotation) to increase dataset diversity and robustness.\n",
    "\n",
    "---\n",
    "\n",
    "> **Tip:** Systematic experimentation and careful tracking of results are key to finding the best model configuration."
   ]
  },
  {
   "cell_type": "code",
   "execution_count": 13,
   "id": "31dbd58b",
   "metadata": {},
   "outputs": [],
   "source": [
    "import torch\n",
    "from torchvision import datasets, transforms\n",
    "from torch.utils.data import DataLoader\n",
    "import torch.nn as nn\n",
    "import torch.nn.functional as F"
   ]
  },
  {
   "cell_type": "markdown",
   "id": "8cf30750",
   "metadata": {},
   "source": [
    "Define transformation"
   ]
  },
  {
   "cell_type": "code",
   "execution_count": 14,
   "id": "6681dcb2",
   "metadata": {},
   "outputs": [],
   "source": [
    "transform = transforms.Compose(\n",
    "    [\n",
    "        transforms.ToTensor(),\n",
    "        transforms.Normalize((0.5,0.5,0.5),(0.5,0.5,0.5))\n",
    "    ]\n",
    ")\n",
    "\n",
    "# load cifar-10 dataset\n",
    "train_dataset = datasets.CIFAR10(\n",
    "    root='./data',\n",
    "    train=True,\n",
    "    transform=transform,\n",
    ")\n",
    "test_dataset = datasets.CIFAR10(\n",
    "    root='./data',\n",
    "    train=False,\n",
    "    transform=transform,\n",
    ")\n",
    "\n"
   ]
  },
  {
   "cell_type": "markdown",
   "id": "fa0e63a5",
   "metadata": {},
   "source": [
    "create data loaders"
   ]
  },
  {
   "cell_type": "code",
   "execution_count": 15,
   "id": "b0c82288",
   "metadata": {},
   "outputs": [
    {
     "name": "stdout",
     "output_type": "stream",
     "text": [
      "Training Data Size 50000\n",
      "Test Data Size 10000\n"
     ]
    }
   ],
   "source": [
    "train_loader = DataLoader(train_dataset, batch_size=64, shuffle=True)\n",
    "test_loader = DataLoader(test_dataset, batch_size=64, shuffle=False)\n",
    "\n",
    "print(f\"Training Data Size {len(train_dataset)}\")\n",
    "print(f\"Test Data Size {len(test_dataset)}\")    \n"
   ]
  },
  {
   "cell_type": "markdown",
   "id": "1ade76b6",
   "metadata": {},
   "source": [
    "Define CNN model"
   ]
  },
  {
   "cell_type": "code",
   "execution_count": 16,
   "id": "1ff06121",
   "metadata": {},
   "outputs": [
    {
     "name": "stdout",
     "output_type": "stream",
     "text": [
      "CNN(\n",
      "  (conv1): Conv2d(3, 6, kernel_size=(5, 5), stride=(1, 1))\n",
      "  (pool): MaxPool2d(kernel_size=2, stride=2, padding=0, dilation=1, ceil_mode=False)\n",
      "  (conv2): Conv2d(6, 16, kernel_size=(5, 5), stride=(1, 1))\n",
      "  (fc1): Linear(in_features=400, out_features=120, bias=True)\n",
      "  (fc2): Linear(in_features=120, out_features=84, bias=True)\n",
      "  (fc3): Linear(in_features=84, out_features=10, bias=True)\n",
      ")\n"
     ]
    }
   ],
   "source": [
    "class CNN(nn.Module):\n",
    "    def __init__(self):\n",
    "        super(CNN, self).__init__()\n",
    "        self.conv1 = nn.Conv2d(3, 6, 5)\n",
    "        self.pool = nn.MaxPool2d(2, 2)\n",
    "        self.conv2 = nn.Conv2d(6, 16, 5)\n",
    "        self.fc1 = nn.Linear(16 * 5 * 5, 120)\n",
    "        self.fc2 = nn.Linear(120, 84)\n",
    "        self.fc3 = nn.Linear(84, 10)\n",
    "\n",
    "    def forward(self, x):\n",
    "        x = self.pool(torch.relu(self.conv1(x)))\n",
    "        x = self.pool(torch.relu(self.conv2(x)))\n",
    "        x = x.view(-1, 16 * 5 * 5)\n",
    "        x = torch.relu(self.fc1(x))\n",
    "        x = torch.relu(self.fc2(x))\n",
    "        x = self.fc3(x)\n",
    "        return x\n",
    "\n",
    "\n",
    "model = CNN()\n",
    "print(model)"
   ]
  },
  {
   "cell_type": "markdown",
   "id": "81e3e252",
   "metadata": {},
   "source": [
    "define loss function and optimse"
   ]
  },
  {
   "cell_type": "code",
   "execution_count": 17,
   "id": "69b37359",
   "metadata": {},
   "outputs": [
    {
     "name": "stdout",
     "output_type": "stream",
     "text": [
      "Epoch 1 loss: 1.6466952153788808\n",
      "Epoch 2 loss: 1.345947896580562\n",
      "Epoch 3 loss: 1.2257301012420898\n",
      "Epoch 4 loss: 1.15537971410605\n",
      "Epoch 5 loss: 1.0939511977650624\n",
      "Epoch 6 loss: 1.038463511811498\n",
      "Epoch 7 loss: 0.9976639953415717\n",
      "Epoch 8 loss: 0.9562068307948539\n",
      "Epoch 9 loss: 0.9150536965836039\n",
      "Epoch 10 loss: 0.880431536289737\n",
      "Accuracy: 62.82%\n"
     ]
    }
   ],
   "source": [
    "import torch.optim as optim\n",
    "\n",
    "criterion = nn.CrossEntropyLoss()\n",
    "optimizer = optim.Adam(model.parameters(), lr=0.001)\n",
    "\n",
    "# training loop\n",
    "def train_model(model, train_loader, criterion, optimizer, epochs=10):\n",
    "    model.train()\n",
    "    for epoch in range(epochs):\n",
    "        running_loss = 0.0\n",
    "        for images, labels in train_loader:\n",
    "            # zero graident\n",
    "            optimizer.zero_grad()\n",
    "\n",
    "            # forward pass\n",
    "            outputs = model(images)\n",
    "            loss = criterion(outputs, labels)\n",
    "\n",
    "            # backward pass and optimise\n",
    "            loss.backward()\n",
    "            optimizer.step()\n",
    "\n",
    "            running_loss += loss.item()\n",
    "\n",
    "        print(f\"Epoch {epoch+1} loss: {running_loss/len(train_loader)}\")\n",
    "\n",
    "train_model(model, train_loader, criterion, optimizer)\n",
    "\n",
    "# evaluation loop\n",
    "def evaluate_model(model, test_loader):\n",
    "    model.eval()\n",
    "    correct= 0\n",
    "    total= 0\n",
    "    with torch.no_grad():\n",
    "        for images, labels in test_loader:\n",
    "            outputs = model(images)\n",
    "            _, predicted = torch.max(outputs.data, 1)\n",
    "            total += labels.size(0)\n",
    "            correct += (predicted == labels).sum().item()\n",
    "    print(f\"Accuracy: {100 * correct/total}%\")\n",
    "\n",
    "evaluate_model(model, test_loader)  \n"
   ]
  }
 ],
 "metadata": {
  "kernelspec": {
   "display_name": "venv",
   "language": "python",
   "name": "python3"
  },
  "language_info": {
   "codemirror_mode": {
    "name": "ipython",
    "version": 3
   },
   "file_extension": ".py",
   "mimetype": "text/x-python",
   "name": "python",
   "nbconvert_exporter": "python",
   "pygments_lexer": "ipython3",
   "version": "3.11.9"
  }
 },
 "nbformat": 4,
 "nbformat_minor": 5
}
