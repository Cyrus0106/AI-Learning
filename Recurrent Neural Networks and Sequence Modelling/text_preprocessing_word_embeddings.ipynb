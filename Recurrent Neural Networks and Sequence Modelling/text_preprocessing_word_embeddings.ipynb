{
 "cells": [
  {
   "cell_type": "markdown",
   "id": "1a7d6269",
   "metadata": {},
   "source": [
    "### Text preprocessing and word embedding for RNNs"
   ]
  },
  {
   "cell_type": "markdown",
   "id": "f1baa6c6",
   "metadata": {},
   "source": [
    "## Importance of Text Preprocessing\n",
    "\n",
    "### What is Text Preprocessing?\n",
    "Text preprocessing involves cleaning and preparing raw text data to make it suitable for machine learning models. It is a critical step for achieving high performance in Natural Language Processing (NLP) tasks.\n",
    "\n",
    "#### Key Steps in Text Preprocessing:\n",
    "- **Tokenization:** Splits text into individual units (e.g., words, sentences), making it easier to analyze.\n",
    "- **Stemming:** Reduces words to their root form by removing suffixes. For example, \"running\" and \"runner\" become \"run\". This helps group similar words together.\n",
    "- **Lemmatization:** Converts words to their base or dictionary form using a vocabulary and morphological analysis. For example, \"better\" becomes \"good\". Lemmatization is generally more accurate than stemming.\n",
    "- **Lowercasing:** Converts all characters to lowercase to ensure uniformity.\n",
    "- **Removing Stopwords:** Eliminates common words (like \"the\", \"is\", \"and\") that do not contribute much meaning.\n",
    "- **Removing Punctuation and Special Characters:** Cleans the text by removing unnecessary symbols.\n",
    "- **Handling Misspellings:** Corrects spelling errors to standardize the text.\n",
    "\n",
    "### Why is Preprocessing Important?\n",
    "- **Reduces Noise:** Cleans irrelevant or redundant information from the data.\n",
    "- **Standardizes Input:** Ensures consistency in the data fed to models.\n",
    "- **Improves Feature Extraction:** Makes it easier to extract meaningful features.\n",
    "- **Boosts Model Accuracy:** Clean and standardized data leads to better model performance.\n",
    "\n",
    "---\n",
    "\n",
    "## Introduction to Word Embedding\n",
    "\n",
    "### What are Word Embeddings?\n",
    "Word embeddings are dense vector representations of words that capture semantic meaning. They represent words in a continuous vector space, where similar words are closer together. Unlike one-hot encoding, embeddings capture relationships and context.\n",
    "\n",
    "### Popular Word Embedding Models\n",
    "- **Word2Vec:** Includes Continuous Bag of Words (CBOW) and Skip-Gram architectures. Learns word relationships based on context in large corpora.\n",
    "- **GloVe (Global Vectors for Word Representation):** Uses word co-occurrence statistics to generate embeddings, capturing global semantic relationships.\n",
    "- **FastText:** Developed by Facebook, it represents words as bags of character n-grams, allowing it to handle out-of-vocabulary (OOV) words.\n",
    "- **Pretrained Embeddings in Frameworks:** Libraries like TensorFlow and PyTorch offer pretrained embeddings for quick integration into NLP models.\n",
    "\n",
    "### Benefits of Word Embeddings\n",
    "- **Reduce Dimensionality:** Represent words in a compact, dense form.\n",
    "- **Capture Semantic Similarity:** Words with similar meanings have similar vector representations.\n",
    "- **Improve Model Generalization:** Help models understand context and relationships between words.\n",
    "\n",
    "---\n",
    "\n",
    "## Using Pretrained Embeddings for NLP Tasks\n",
    "\n",
    "### Why Use Pretrained Embeddings?\n",
    "- **Save Computational Resources:** Avoid training embeddings from scratch.\n",
    "- **Leverage Large, Well-Trained Models:** Benefit from embeddings trained on massive datasets.\n",
    "- **Boost Performance:** Improve results on downstream tasks like text classification, sentiment analysis, and machine translation.\n",
    "\n",
    "### Popular Pretrained Embeddings\n",
    "- **GloVe:** Pretrained on datasets like Wikipedia and Common Crawl.\n",
    "- **FastText:** Handles OOV words through subword embeddings.\n",
    "- **Embedding Layers in Deep Learning Frameworks:** TensorFlow and PyTorch provide easy-to-use embedding layers and access to pretrained vectors.\n",
    "\n",
    "---\n",
    "\n",
    "By combining effective text preprocessing with powerful word embeddings, you can significantly enhance the performance of RNNs and other NLP models."
   ]
  },
  {
   "cell_type": "code",
   "execution_count": 16,
   "id": "871de7f1",
   "metadata": {},
   "outputs": [],
   "source": [
    "from tensorflow.keras.datasets import imdb\n",
    "from tensorflow.keras.preprocessing.text import Tokenizer\n",
    "from tensorflow.keras.preprocessing.sequence import pad_sequences"
   ]
  },
  {
   "cell_type": "markdown",
   "id": "6aab327f",
   "metadata": {},
   "source": [
    "Load dataset"
   ]
  },
  {
   "cell_type": "code",
   "execution_count": 17,
   "id": "a54a7e16",
   "metadata": {},
   "outputs": [
    {
     "name": "stdout",
     "output_type": "stream",
     "text": [
      "Training data shape: (25000, 200), (25000,)\n",
      "Testing data shape: (25000, 200), (25000,)\n"
     ]
    }
   ],
   "source": [
    "vocab_size =1000\n",
    "max_len =200\n",
    "(X_train,y_train),(X_test,y_test) = imdb.load_data(num_words=vocab_size)\n",
    "\n",
    "# decode reviews to text for preprocessing\n",
    "word_index = imdb.get_word_index()\n",
    "reverse_word_index = {value: key for key, value in word_index.items()}\n",
    "decoded_reviews = [\"\".join([reverse_word_index.get(i - 3, \"?\")for i in review]) for review in X_train[:5]]\n",
    "\n",
    "# pad sequences\n",
    "X_train = pad_sequences(X_train, padding=\"post\", maxlen=max_len)\n",
    "X_test = pad_sequences(X_test, padding=\"post\", maxlen=max_len)\n",
    "\n",
    "print(f\"Training data shape: {X_train.shape}, {y_train.shape}\")\n",
    "print(f\"Testing data shape: {X_test.shape}, {y_test.shape}\")"
   ]
  },
  {
   "cell_type": "markdown",
   "id": "a9d65786",
   "metadata": {},
   "source": [
    "load glove embeddings"
   ]
  },
  {
   "cell_type": "code",
   "execution_count": 18,
   "id": "8683750e",
   "metadata": {},
   "outputs": [
    {
     "name": "stdout",
     "output_type": "stream",
     "text": [
      "Loaded 400000 word vectors.\n"
     ]
    }
   ],
   "source": [
    "import numpy as np\n",
    "\n",
    "embedding_index = {}\n",
    "glove_file = \"glove.6B/glove.6B.100d.txt\"\n",
    "\n",
    "with open(glove_file, \"r\", encoding=\"utf-8\") as file:\n",
    "    for line in file:\n",
    "        values = line.split()\n",
    "        words = values[0]\n",
    "        coefs = np.asarray(values[1:], dtype=\"float32\")\n",
    "        embedding_index[words] = coefs\n",
    "\n",
    "print(f\"Loaded {len(embedding_index)} word vectors.\")\n",
    "\n",
    "# prepare embedding matrix\n",
    "embedding_dim = 100\n",
    "embedding_matrix = np.zeros((vocab_size, embedding_dim))\n",
    "for word, i in word_index.items():\n",
    "    if i < vocab_size:\n",
    "        embedding_vector = embedding_index.get(word)\n",
    "        if embedding_vector is not None:\n",
    "            embedding_matrix[i] = embedding_vector"
   ]
  },
  {
   "cell_type": "markdown",
   "id": "94bb92bd",
   "metadata": {},
   "source": [
    "build lstm model"
   ]
  },
  {
   "cell_type": "code",
   "execution_count": 19,
   "id": "1c51a441",
   "metadata": {},
   "outputs": [
    {
     "data": {
      "text/html": [
       "<pre style=\"white-space:pre;overflow-x:auto;line-height:normal;font-family:Menlo,'DejaVu Sans Mono',consolas,'Courier New',monospace\"><span style=\"font-weight: bold\">Model: \"sequential_1\"</span>\n",
       "</pre>\n"
      ],
      "text/plain": [
       "\u001b[1mModel: \"sequential_1\"\u001b[0m\n"
      ]
     },
     "metadata": {},
     "output_type": "display_data"
    },
    {
     "data": {
      "text/html": [
       "<pre style=\"white-space:pre;overflow-x:auto;line-height:normal;font-family:Menlo,'DejaVu Sans Mono',consolas,'Courier New',monospace\">┏━━━━━━━━━━━━━━━━━━━━━━━━━━━━━━━━━┳━━━━━━━━━━━━━━━━━━━━━━━━┳━━━━━━━━━━━━━━━┓\n",
       "┃<span style=\"font-weight: bold\"> Layer (type)                    </span>┃<span style=\"font-weight: bold\"> Output Shape           </span>┃<span style=\"font-weight: bold\">       Param # </span>┃\n",
       "┡━━━━━━━━━━━━━━━━━━━━━━━━━━━━━━━━━╇━━━━━━━━━━━━━━━━━━━━━━━━╇━━━━━━━━━━━━━━━┩\n",
       "│ embedding_1 (<span style=\"color: #0087ff; text-decoration-color: #0087ff\">Embedding</span>)         │ ?                      │       <span style=\"color: #00af00; text-decoration-color: #00af00\">100,000</span> │\n",
       "├─────────────────────────────────┼────────────────────────┼───────────────┤\n",
       "│ lstm_1 (<span style=\"color: #0087ff; text-decoration-color: #0087ff\">LSTM</span>)                   │ ?                      │   <span style=\"color: #00af00; text-decoration-color: #00af00\">0</span> (unbuilt) │\n",
       "├─────────────────────────────────┼────────────────────────┼───────────────┤\n",
       "│ dense_1 (<span style=\"color: #0087ff; text-decoration-color: #0087ff\">Dense</span>)                 │ ?                      │   <span style=\"color: #00af00; text-decoration-color: #00af00\">0</span> (unbuilt) │\n",
       "└─────────────────────────────────┴────────────────────────┴───────────────┘\n",
       "</pre>\n"
      ],
      "text/plain": [
       "┏━━━━━━━━━━━━━━━━━━━━━━━━━━━━━━━━━┳━━━━━━━━━━━━━━━━━━━━━━━━┳━━━━━━━━━━━━━━━┓\n",
       "┃\u001b[1m \u001b[0m\u001b[1mLayer (type)                   \u001b[0m\u001b[1m \u001b[0m┃\u001b[1m \u001b[0m\u001b[1mOutput Shape          \u001b[0m\u001b[1m \u001b[0m┃\u001b[1m \u001b[0m\u001b[1m      Param #\u001b[0m\u001b[1m \u001b[0m┃\n",
       "┡━━━━━━━━━━━━━━━━━━━━━━━━━━━━━━━━━╇━━━━━━━━━━━━━━━━━━━━━━━━╇━━━━━━━━━━━━━━━┩\n",
       "│ embedding_1 (\u001b[38;5;33mEmbedding\u001b[0m)         │ ?                      │       \u001b[38;5;34m100,000\u001b[0m │\n",
       "├─────────────────────────────────┼────────────────────────┼───────────────┤\n",
       "│ lstm_1 (\u001b[38;5;33mLSTM\u001b[0m)                   │ ?                      │   \u001b[38;5;34m0\u001b[0m (unbuilt) │\n",
       "├─────────────────────────────────┼────────────────────────┼───────────────┤\n",
       "│ dense_1 (\u001b[38;5;33mDense\u001b[0m)                 │ ?                      │   \u001b[38;5;34m0\u001b[0m (unbuilt) │\n",
       "└─────────────────────────────────┴────────────────────────┴───────────────┘\n"
      ]
     },
     "metadata": {},
     "output_type": "display_data"
    },
    {
     "data": {
      "text/html": [
       "<pre style=\"white-space:pre;overflow-x:auto;line-height:normal;font-family:Menlo,'DejaVu Sans Mono',consolas,'Courier New',monospace\"><span style=\"font-weight: bold\"> Total params: </span><span style=\"color: #00af00; text-decoration-color: #00af00\">100,000</span> (390.62 KB)\n",
       "</pre>\n"
      ],
      "text/plain": [
       "\u001b[1m Total params: \u001b[0m\u001b[38;5;34m100,000\u001b[0m (390.62 KB)\n"
      ]
     },
     "metadata": {},
     "output_type": "display_data"
    },
    {
     "data": {
      "text/html": [
       "<pre style=\"white-space:pre;overflow-x:auto;line-height:normal;font-family:Menlo,'DejaVu Sans Mono',consolas,'Courier New',monospace\"><span style=\"font-weight: bold\"> Trainable params: </span><span style=\"color: #00af00; text-decoration-color: #00af00\">0</span> (0.00 B)\n",
       "</pre>\n"
      ],
      "text/plain": [
       "\u001b[1m Trainable params: \u001b[0m\u001b[38;5;34m0\u001b[0m (0.00 B)\n"
      ]
     },
     "metadata": {},
     "output_type": "display_data"
    },
    {
     "data": {
      "text/html": [
       "<pre style=\"white-space:pre;overflow-x:auto;line-height:normal;font-family:Menlo,'DejaVu Sans Mono',consolas,'Courier New',monospace\"><span style=\"font-weight: bold\"> Non-trainable params: </span><span style=\"color: #00af00; text-decoration-color: #00af00\">100,000</span> (390.62 KB)\n",
       "</pre>\n"
      ],
      "text/plain": [
       "\u001b[1m Non-trainable params: \u001b[0m\u001b[38;5;34m100,000\u001b[0m (390.62 KB)\n"
      ]
     },
     "metadata": {},
     "output_type": "display_data"
    },
    {
     "name": "stdout",
     "output_type": "stream",
     "text": [
      "Epoch 1/5\n",
      "\u001b[1m313/313\u001b[0m \u001b[32m━━━━━━━━━━━━━━━━━━━━\u001b[0m\u001b[37m\u001b[0m \u001b[1m26s\u001b[0m 81ms/step - accuracy: 0.5033 - loss: 0.6946 - val_accuracy: 0.5264 - val_loss: 0.6858\n",
      "Epoch 2/5\n",
      "\u001b[1m313/313\u001b[0m \u001b[32m━━━━━━━━━━━━━━━━━━━━\u001b[0m\u001b[37m\u001b[0m \u001b[1m25s\u001b[0m 78ms/step - accuracy: 0.5322 - loss: 0.6835 - val_accuracy: 0.5092 - val_loss: 0.6895\n",
      "Epoch 3/5\n",
      "\u001b[1m313/313\u001b[0m \u001b[32m━━━━━━━━━━━━━━━━━━━━\u001b[0m\u001b[37m\u001b[0m \u001b[1m24s\u001b[0m 76ms/step - accuracy: 0.5415 - loss: 0.6810 - val_accuracy: 0.5560 - val_loss: 0.6699\n",
      "Epoch 4/5\n",
      "\u001b[1m313/313\u001b[0m \u001b[32m━━━━━━━━━━━━━━━━━━━━\u001b[0m\u001b[37m\u001b[0m \u001b[1m25s\u001b[0m 79ms/step - accuracy: 0.5625 - loss: 0.6624 - val_accuracy: 0.5446 - val_loss: 0.6725\n",
      "Epoch 5/5\n",
      "\u001b[1m313/313\u001b[0m \u001b[32m━━━━━━━━━━━━━━━━━━━━\u001b[0m\u001b[37m\u001b[0m \u001b[1m25s\u001b[0m 78ms/step - accuracy: 0.5739 - loss: 0.6509 - val_accuracy: 0.6850 - val_loss: 0.6092\n",
      "\u001b[1m782/782\u001b[0m \u001b[32m━━━━━━━━━━━━━━━━━━━━\u001b[0m\u001b[37m\u001b[0m \u001b[1m15s\u001b[0m 19ms/step - accuracy: 0.6715 - loss: 0.6170\n"
     ]
    }
   ],
   "source": [
    "from tensorflow.keras.models import Sequential\n",
    "from tensorflow.keras.layers import Embedding, LSTM, Dense\n",
    "\n",
    "# define lstm model with GloVe embeddings\n",
    "model = Sequential(\n",
    "    [\n",
    "        Embedding(\n",
    "            input_dim=vocab_size,\n",
    "            output_dim=embedding_dim,\n",
    "            weights=[embedding_matrix],\n",
    "            trainable=False,\n",
    "        ),\n",
    "        LSTM(128, activation=\"tanh\", return_sequences=False),\n",
    "        Dense(1, activation=\"sigmoid\"),\n",
    "    ]\n",
    ")\n",
    "\n",
    "# compile model\n",
    "model.compile(loss=\"binary_crossentropy\", optimizer=\"adam\", metrics=[\"accuracy\"])\n",
    "model.summary()\n",
    "\n",
    "# train the model\n",
    "history = model.fit(\n",
    "    X_train, y_train, validation_split=0.2, epochs=5, batch_size=64, verbose=1\n",
    ")\n",
    "\n",
    "glove_loss, glove_accuracy = model.evaluate(X_test, y_test)"
   ]
  },
  {
   "cell_type": "markdown",
   "id": "01ca5aa6",
   "metadata": {},
   "source": [
    "LSTM model without GloVe"
   ]
  },
  {
   "cell_type": "code",
   "execution_count": 20,
   "id": "e9c646d8",
   "metadata": {},
   "outputs": [
    {
     "data": {
      "text/html": [
       "<pre style=\"white-space:pre;overflow-x:auto;line-height:normal;font-family:Menlo,'DejaVu Sans Mono',consolas,'Courier New',monospace\"><span style=\"font-weight: bold\">Model: \"sequential_2\"</span>\n",
       "</pre>\n"
      ],
      "text/plain": [
       "\u001b[1mModel: \"sequential_2\"\u001b[0m\n"
      ]
     },
     "metadata": {},
     "output_type": "display_data"
    },
    {
     "data": {
      "text/html": [
       "<pre style=\"white-space:pre;overflow-x:auto;line-height:normal;font-family:Menlo,'DejaVu Sans Mono',consolas,'Courier New',monospace\">┏━━━━━━━━━━━━━━━━━━━━━━━━━━━━━━━━━┳━━━━━━━━━━━━━━━━━━━━━━━━┳━━━━━━━━━━━━━━━┓\n",
       "┃<span style=\"font-weight: bold\"> Layer (type)                    </span>┃<span style=\"font-weight: bold\"> Output Shape           </span>┃<span style=\"font-weight: bold\">       Param # </span>┃\n",
       "┡━━━━━━━━━━━━━━━━━━━━━━━━━━━━━━━━━╇━━━━━━━━━━━━━━━━━━━━━━━━╇━━━━━━━━━━━━━━━┩\n",
       "│ embedding_2 (<span style=\"color: #0087ff; text-decoration-color: #0087ff\">Embedding</span>)         │ ?                      │   <span style=\"color: #00af00; text-decoration-color: #00af00\">0</span> (unbuilt) │\n",
       "├─────────────────────────────────┼────────────────────────┼───────────────┤\n",
       "│ lstm_2 (<span style=\"color: #0087ff; text-decoration-color: #0087ff\">LSTM</span>)                   │ ?                      │   <span style=\"color: #00af00; text-decoration-color: #00af00\">0</span> (unbuilt) │\n",
       "├─────────────────────────────────┼────────────────────────┼───────────────┤\n",
       "│ dense_2 (<span style=\"color: #0087ff; text-decoration-color: #0087ff\">Dense</span>)                 │ ?                      │   <span style=\"color: #00af00; text-decoration-color: #00af00\">0</span> (unbuilt) │\n",
       "└─────────────────────────────────┴────────────────────────┴───────────────┘\n",
       "</pre>\n"
      ],
      "text/plain": [
       "┏━━━━━━━━━━━━━━━━━━━━━━━━━━━━━━━━━┳━━━━━━━━━━━━━━━━━━━━━━━━┳━━━━━━━━━━━━━━━┓\n",
       "┃\u001b[1m \u001b[0m\u001b[1mLayer (type)                   \u001b[0m\u001b[1m \u001b[0m┃\u001b[1m \u001b[0m\u001b[1mOutput Shape          \u001b[0m\u001b[1m \u001b[0m┃\u001b[1m \u001b[0m\u001b[1m      Param #\u001b[0m\u001b[1m \u001b[0m┃\n",
       "┡━━━━━━━━━━━━━━━━━━━━━━━━━━━━━━━━━╇━━━━━━━━━━━━━━━━━━━━━━━━╇━━━━━━━━━━━━━━━┩\n",
       "│ embedding_2 (\u001b[38;5;33mEmbedding\u001b[0m)         │ ?                      │   \u001b[38;5;34m0\u001b[0m (unbuilt) │\n",
       "├─────────────────────────────────┼────────────────────────┼───────────────┤\n",
       "│ lstm_2 (\u001b[38;5;33mLSTM\u001b[0m)                   │ ?                      │   \u001b[38;5;34m0\u001b[0m (unbuilt) │\n",
       "├─────────────────────────────────┼────────────────────────┼───────────────┤\n",
       "│ dense_2 (\u001b[38;5;33mDense\u001b[0m)                 │ ?                      │   \u001b[38;5;34m0\u001b[0m (unbuilt) │\n",
       "└─────────────────────────────────┴────────────────────────┴───────────────┘\n"
      ]
     },
     "metadata": {},
     "output_type": "display_data"
    },
    {
     "data": {
      "text/html": [
       "<pre style=\"white-space:pre;overflow-x:auto;line-height:normal;font-family:Menlo,'DejaVu Sans Mono',consolas,'Courier New',monospace\"><span style=\"font-weight: bold\"> Total params: </span><span style=\"color: #00af00; text-decoration-color: #00af00\">0</span> (0.00 B)\n",
       "</pre>\n"
      ],
      "text/plain": [
       "\u001b[1m Total params: \u001b[0m\u001b[38;5;34m0\u001b[0m (0.00 B)\n"
      ]
     },
     "metadata": {},
     "output_type": "display_data"
    },
    {
     "data": {
      "text/html": [
       "<pre style=\"white-space:pre;overflow-x:auto;line-height:normal;font-family:Menlo,'DejaVu Sans Mono',consolas,'Courier New',monospace\"><span style=\"font-weight: bold\"> Trainable params: </span><span style=\"color: #00af00; text-decoration-color: #00af00\">0</span> (0.00 B)\n",
       "</pre>\n"
      ],
      "text/plain": [
       "\u001b[1m Trainable params: \u001b[0m\u001b[38;5;34m0\u001b[0m (0.00 B)\n"
      ]
     },
     "metadata": {},
     "output_type": "display_data"
    },
    {
     "data": {
      "text/html": [
       "<pre style=\"white-space:pre;overflow-x:auto;line-height:normal;font-family:Menlo,'DejaVu Sans Mono',consolas,'Courier New',monospace\"><span style=\"font-weight: bold\"> Non-trainable params: </span><span style=\"color: #00af00; text-decoration-color: #00af00\">0</span> (0.00 B)\n",
       "</pre>\n"
      ],
      "text/plain": [
       "\u001b[1m Non-trainable params: \u001b[0m\u001b[38;5;34m0\u001b[0m (0.00 B)\n"
      ]
     },
     "metadata": {},
     "output_type": "display_data"
    },
    {
     "name": "stdout",
     "output_type": "stream",
     "text": [
      "Epoch 1/5\n",
      "\u001b[1m313/313\u001b[0m \u001b[32m━━━━━━━━━━━━━━━━━━━━\u001b[0m\u001b[37m\u001b[0m \u001b[1m27s\u001b[0m 82ms/step - accuracy: 0.5324 - loss: 0.6891 - val_accuracy: 0.5958 - val_loss: 0.6398\n",
      "Epoch 2/5\n",
      "\u001b[1m313/313\u001b[0m \u001b[32m━━━━━━━━━━━━━━━━━━━━\u001b[0m\u001b[37m\u001b[0m \u001b[1m27s\u001b[0m 87ms/step - accuracy: 0.6248 - loss: 0.6366 - val_accuracy: 0.7580 - val_loss: 0.5530\n",
      "Epoch 3/5\n",
      "\u001b[1m313/313\u001b[0m \u001b[32m━━━━━━━━━━━━━━━━━━━━\u001b[0m\u001b[37m\u001b[0m \u001b[1m26s\u001b[0m 84ms/step - accuracy: 0.7180 - loss: 0.5694 - val_accuracy: 0.6776 - val_loss: 0.6093\n",
      "Epoch 4/5\n",
      "\u001b[1m313/313\u001b[0m \u001b[32m━━━━━━━━━━━━━━━━━━━━\u001b[0m\u001b[37m\u001b[0m \u001b[1m27s\u001b[0m 86ms/step - accuracy: 0.7408 - loss: 0.5414 - val_accuracy: 0.7800 - val_loss: 0.5109\n",
      "Epoch 5/5\n",
      "\u001b[1m313/313\u001b[0m \u001b[32m━━━━━━━━━━━━━━━━━━━━\u001b[0m\u001b[37m\u001b[0m \u001b[1m28s\u001b[0m 90ms/step - accuracy: 0.8064 - loss: 0.4495 - val_accuracy: 0.7782 - val_loss: 0.4547\n",
      "\u001b[1m782/782\u001b[0m \u001b[32m━━━━━━━━━━━━━━━━━━━━\u001b[0m\u001b[37m\u001b[0m \u001b[1m15s\u001b[0m 19ms/step - accuracy: 0.7925 - loss: 0.4400\n",
      "LSTM Test Loss: 0.4360848367214203, Test Accuracy: 0.7950400114059448\n",
      "LSTM Model with GloVe Embeddings Test Loss: 0.6173862814903259, Test Accuracy: 0.6734799742698669\n"
     ]
    }
   ],
   "source": [
    "# LSTM Model\n",
    "lstm_model = Sequential(\n",
    "    [\n",
    "        Embedding(input_dim=vocab_size, output_dim=128),\n",
    "        LSTM(128, activation=\"tanh\", return_sequences=False),\n",
    "        Dense(1, activation=\"sigmoid\"),\n",
    "    ]\n",
    ")\n",
    "\n",
    "lstm_model.compile(loss=\"binary_crossentropy\", optimizer=\"adam\", metrics=[\"accuracy\"])\n",
    "lstm_model.summary()\n",
    "\n",
    "lstm_history = lstm_model.fit(\n",
    "    X_train, y_train, epochs=5, batch_size=64, validation_split=0.2\n",
    ")\n",
    "\n",
    "lstm_loss, lstm_accuracy = lstm_model.evaluate(X_test, y_test)\n",
    "print(f\"LSTM Test Loss: {lstm_loss}, Test Accuracy: {lstm_accuracy}\")\n",
    "print(f\"LSTM Model with GloVe Embeddings Test Loss: {glove_loss}, Test Accuracy: {glove_accuracy}\")"
   ]
  },
  {
   "cell_type": "markdown",
   "id": "a7aa1abd",
   "metadata": {},
   "source": [
    "plot accuracy comparisons"
   ]
  },
  {
   "cell_type": "code",
   "execution_count": 21,
   "id": "b04e014f",
   "metadata": {},
   "outputs": [
    {
     "data": {
      "image/png": "[encoded data removed]",
      "text/plain": [
       "<Figure size 640x480 with 1 Axes>"
      ]
     },
     "metadata": {},
     "output_type": "display_data"
    }
   ],
   "source": [
    "import matplotlib.pyplot as plt\n",
    "\n",
    "models = [\"LSTM\", \"LSTM GloVe\"]\n",
    "accuracies = [lstm_accuracy, glove_accuracy]\n",
    "plt.bar(models, accuracies, color=[\"blue\", \"green\"])\n",
    "plt.title(\"Comparison of LSTM with and without word embeddings\")\n",
    "plt.ylabel(\"Accuracy\")\n",
    "plt.show()"
   ]
  }
 ],
 "metadata": {
  "kernelspec": {
   "display_name": "venv",
   "language": "python",
   "name": "python3"
  },
  "language_info": {
   "codemirror_mode": {
    "name": "ipython",
    "version": 3
   },
   "file_extension": ".py",
   "mimetype": "text/x-python",
   "name": "python",
   "nbconvert_exporter": "python",
   "pygments_lexer": "ipython3",
   "version": "3.11.9"
  }
 },
 "nbformat": 4,
 "nbformat_minor": 5
}
