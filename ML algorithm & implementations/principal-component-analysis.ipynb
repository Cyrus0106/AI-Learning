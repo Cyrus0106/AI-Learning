{
 "cells": [
  {
   "cell_type": "markdown",
   "id": "91e47a71",
   "metadata": {},
   "source": [
    "# Principal Component Analysis "
   ]
  },
  {
   "cell_type": "markdown",
   "id": "8fcc1d4a",
   "metadata": {},
   "source": [
    "### Principal Component Analysis (PCA)\n",
    "Principal COmponent Analysis (PCA) is a dimensionality reduction technique used to transform a high dimensional dataset into a lower dimensional one by identifying the directions (principal components) that capture the maximum variance in the data. PCA is widely used for data visualisation noise redcution, and speeding up machine learning algorithms by reducing the number of features."
   ]
  },
  {
   "cell_type": "code",
   "execution_count": null,
   "id": "a3aaa64e",
   "metadata": {},
   "outputs": [
    {
     "name": "stdout",
     "output_type": "stream",
     "text": [
      "Reduced data:\n",
      " [[-7.79422863e+00 -1.18763937e-15]\n",
      " [-6.06217783e+00  4.19168523e-16]\n",
      " [-4.33012702e+00  1.44007236e-16]\n",
      " [-2.59807621e+00  5.01446094e-17]\n",
      " [-8.66025404e-01  4.69313133e-17]\n",
      " [ 8.66025404e-01 -4.69313133e-17]\n",
      " [ 2.59807621e+00 -5.01446094e-17]\n",
      " [ 4.33012702e+00 -1.44007236e-16]\n",
      " [ 6.06217783e+00 -4.19168523e-16]\n",
      " [ 7.79422863e+00 -3.31732489e-16]]\n",
      "Explained variance ratio:\n",
      " [1.00000000e+00 7.76908467e-33]\n"
     ]
    }
   ],
   "source": [
    "# Import necessry libraries\n",
    "from sklearn.decomposition import PCA\n",
    "import numpy as np\n",
    "\n",
    "# sample data (e.g points in a 3D space)\n",
    "X = np.array(\n",
    "    [\n",
    "        [1, 2, 3],\n",
    "        [2, 3, 4],\n",
    "        [3, 4, 5],\n",
    "        [4, 5, 6],\n",
    "        [5, 6, 7],\n",
    "        [6, 7, 8],\n",
    "        [7, 8, 9],\n",
    "        [8, 9, 10],\n",
    "        [9, 10, 11],\n",
    "        [10, 11, 12],\n",
    "    ]\n",
    ")\n",
    "\n",
    "# initialise and fit the model\n",
    "pca = PCA(n_components=2)  # reduce to 2 dimensions\n",
    "X_reduced = pca.fit_transform(X)\n",
    "\n",
    "# print the reduced data\n",
    "print(\"Reduced data:\\n\", X_reduced)\n",
    "\n",
    "# print the explained variance ratio\n",
    "print(\"Explained variance ratio:\\n\", pca.explained_variance_ratio_)"
   ]
  }
 ],
 "metadata": {
  "kernelspec": {
   "display_name": "venv",
   "language": "python",
   "name": "python3"
  },
  "language_info": {
   "codemirror_mode": {
    "name": "ipython",
    "version": 3
   },
   "file_extension": ".py",
   "mimetype": "text/x-python",
   "name": "python",
   "nbconvert_exporter": "python",
   "pygments_lexer": "ipython3",
   "version": "3.11.9"
  }
 },
 "nbformat": 4,
 "nbformat_minor": 5
}
