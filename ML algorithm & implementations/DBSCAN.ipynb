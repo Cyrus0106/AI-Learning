{
 "cells": [
  {
   "cell_type": "markdown",
   "id": "4264e4f5",
   "metadata": {},
   "source": [
    "# DBSCAN(Density-Based Spatial Clustering of APplications with Noise) Implementation in Python"
   ]
  },
  {
   "cell_type": "markdown",
   "id": "43dc1b0d",
   "metadata": {},
   "source": [
    "## DBSCAN\n",
    "DBSCAN is an unsupervised clustering algorithm that groups data points based on density, makign it particularly effective for identifying clusters of arbitrary shapes and for handling noise(outliers). DBSCAN require two parameters: eps (the maximum distance between two points to be considered neighbors) and min_samples (the minimum number of points required to form a dense region)."
   ]
  },
  {
   "cell_type": "code",
   "execution_count": null,
   "id": "6757453a",
   "metadata": {},
   "outputs": [
    {
     "name": "stdout",
     "output_type": "stream",
     "text": [
      "Cluster labels: [ 0  0  0  0  0  0  0  0  0  0 -1]\n"
     ]
    }
   ],
   "source": [
    "# import necessary libraries\n",
    "from sklearn.cluster import DBSCAN\n",
    "import numpy as np\n",
    "\n",
    "# sample data (e.g points in 2D space)\n",
    "X = np.array(\n",
    "    [\n",
    "        [1, 2],\n",
    "        [6, 7],\n",
    "        [2, 1],\n",
    "        [5, 6],\n",
    "        [3, 4],\n",
    "        [4, 5],\n",
    "        [1, 1],\n",
    "        [2, 3],\n",
    "        [4, 2],\n",
    "        [3, 5],\n",
    "        [67, 5],\n",
    "    ]\n",
    ")\n",
    "\n",
    "# initialise and fit the model\n",
    "dbscan = DBSCAN(\n",
    "    eps=3, min_samples=2\n",
    ")  # eps is the maximum distance between two points for them to be considered as in the same cluster, min_samples is the minimum number of points required to form a cluster\n",
    "dbscan.fit(X)\n",
    "\n",
    "# get the labels (-1 indicates noise)\n",
    "labels = dbscan.labels_\n",
    "\n",
    "# print the cluster labels\n",
    "print(\"Cluster labels:\", labels)"
   ]
  }
 ],
 "metadata": {
  "kernelspec": {
   "display_name": "venv",
   "language": "python",
   "name": "python3"
  },
  "language_info": {
   "codemirror_mode": {
    "name": "ipython",
    "version": 3
   },
   "file_extension": ".py",
   "mimetype": "text/x-python",
   "name": "python",
   "nbconvert_exporter": "python",
   "pygments_lexer": "ipython3",
   "version": "3.11.9"
  }
 },
 "nbformat": 4,
 "nbformat_minor": 5
}
