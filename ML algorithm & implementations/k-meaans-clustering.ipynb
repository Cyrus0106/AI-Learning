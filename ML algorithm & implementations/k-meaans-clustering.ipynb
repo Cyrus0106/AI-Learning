{
 "cells": [
  {
   "cell_type": "markdown",
   "id": "b99c9b75",
   "metadata": {},
   "source": [
    "# Implementation of k-means clustering in Python"
   ]
  },
  {
   "cell_type": "markdown",
   "id": "a780576a",
   "metadata": {},
   "source": [
    "## K-Means Clustering\n",
    "This is an unsupervised learning algorithm that partitions data into k clusters. Each cluster is defined by its centroid, and each data point is assigned to the nearest cluster. The algorithm iteratively adjusts centroids to minimise variance within each cluster."
   ]
  },
  {
   "cell_type": "code",
   "execution_count": 1,
   "id": "4ceedc8f",
   "metadata": {},
   "outputs": [
    {
     "name": "stdout",
     "output_type": "stream",
     "text": [
      "Cluster centers\n",
      ": [[2.5 2. ]\n",
      " [7.  2. ]]\n",
      "Cluster labels: [0 0 0 0 0 0 1 1 1]\n"
     ]
    }
   ],
   "source": [
    "# import necessary libraries\n",
    "from sklearn.cluster import KMeans\n",
    "import numpy as np\n",
    "\n",
    "# sample data (e.g, points in 2D space)\n",
    "X = np.array([[1, 2], [1, 4], [1, 0], [4, 2], [4, 4], [4, 0], [7, 2], [7, 4], [7, 0]])\n",
    "\n",
    "# initialise and fit the model\n",
    "kmeans = KMeans(n_clusters = 2, random_state = 42)\n",
    "kmeans.fit(X)\n",
    "\n",
    "# get the cluster centers and labels\n",
    "centroids = kmeans.cluster_centers_\n",
    "labels = kmeans.labels_\n",
    "\n",
    "print(f\"Cluster centers\\n: {centroids}\")\n",
    "print(f\"Cluster labels: {labels}\")\n",
    "\n"
   ]
  }
 ],
 "metadata": {
  "kernelspec": {
   "display_name": "venv",
   "language": "python",
   "name": "python3"
  },
  "language_info": {
   "codemirror_mode": {
    "name": "ipython",
    "version": 3
   },
   "file_extension": ".py",
   "mimetype": "text/x-python",
   "name": "python",
   "nbconvert_exporter": "python",
   "pygments_lexer": "ipython3",
   "version": "3.11.9"
  }
 },
 "nbformat": 4,
 "nbformat_minor": 5
}
