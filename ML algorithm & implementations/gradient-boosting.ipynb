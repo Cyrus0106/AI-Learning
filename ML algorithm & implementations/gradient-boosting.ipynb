{
 "cells": [
  {
   "cell_type": "markdown",
   "id": "1cb0d89e",
   "metadata": {},
   "source": [
    "# Gradient Boosting Implementation in Python"
   ]
  },
  {
   "cell_type": "markdown",
   "id": "a55b2363",
   "metadata": {},
   "source": [
    "#### Gradient Boosting\n",
    "Gradient Boosting is an ensemble technique that builds a series of **decision trees**, where each tree corrects the errors of the previous ones, By combining the predictions of these trees, Gradient Boosting models create a **more accurate final prediction**. Popular implementations include XGBoost, LightGBM, and CatBoost, which are optimised for speed and accuracy."
   ]
  },
  {
   "cell_type": "code",
   "execution_count": null,
   "id": "585b4e6a",
   "metadata": {},
   "outputs": [
    {
     "name": "stdout",
     "output_type": "stream",
     "text": [
      "Accuracy: 1.0\n",
      "Confusion Matrix:\n",
      " [[1 0]\n",
      " [0 1]]\n"
     ]
    }
   ],
   "source": [
    "# import necssary libraries\n",
    "from sklearn.ensemble import GradientBoostingClassifier\n",
    "from sklearn.model_selection import train_test_split\n",
    "from sklearn.metrics import accuracy_score, confusion_matrix\n",
    "import numpy as np\n",
    "\n",
    "# sample data (e.g hours studied and prior grade vs pass/fail)\n",
    "X = np.array([[1,50],[2,60],[3,55],[4,65],[5,70],[6,75],[7,80],[8,85],[9,90],[10,95]])\n",
    "y = np.array([0,0,0,0,1,1,1,1,1,1]) # 0 = fail, 1 = pass\n",
    "\n",
    "# split data into training and testing sets\n",
    "X_train, X_test, y_train, y_test = train_test_split(X, y, test_size=0.2, random_state=42)\n",
    "\n",
    "# create gradient boosting classifier\n",
    "gb = GradientBoostingClassifier(n_estimators=100, learning_rate=0.1, max_depth=1, random_state=42) # n_estimators = number of trees, learning_rate = learning rate, max_depth = maximum depth of each tree\n",
    "\n",
    "# train model\n",
    "gb.fit(X_train, y_train)\n",
    "\n",
    "# make predictions\n",
    "y_pred = gb.predict(X_test)\n",
    "\n",
    "# evaluate model\n",
    "print(\"Accuracy:\", accuracy_score(y_test, y_pred))\n",
    "print(\"Confusion Matrix:\\n\", confusion_matrix(y_test, y_pred))\n"
   ]
  }
 ],
 "metadata": {
  "kernelspec": {
   "display_name": "Python 3",
   "language": "python",
   "name": "python3"
  },
  "language_info": {
   "codemirror_mode": {
    "name": "ipython",
    "version": 3
   },
   "file_extension": ".py",
   "mimetype": "text/x-python",
   "name": "python",
   "nbconvert_exporter": "python",
   "pygments_lexer": "ipython3",
   "version": "3.11.9"
  }
 },
 "nbformat": 4,
 "nbformat_minor": 5
}
