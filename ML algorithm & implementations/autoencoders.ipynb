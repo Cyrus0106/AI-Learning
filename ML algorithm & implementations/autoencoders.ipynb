{
 "cells": [
  {
   "cell_type": "markdown",
   "id": "2228eae0",
   "metadata": {},
   "source": [
    "# Autoencoders Implementation in Python"
   ]
  },
  {
   "cell_type": "markdown",
   "id": "a4dc635e",
   "metadata": {},
   "source": [
    "#### Autoencoders\n",
    "Autoencoders are neural networks used for unsupervised learning, specifically for dimensionality reduction and feature extraction. They work by encoding input data into a compressed (latent) representation and then reconstructing the original input from this representation. Autoencoders are useful for tasks like denoising, anomaly detection and pretraiing for other neural networks."
   ]
  },
  {
   "cell_type": "code",
   "execution_count": 4,
   "id": "9ae95849",
   "metadata": {},
   "outputs": [
    {
     "name": "stdout",
     "output_type": "stream",
     "text": [
      "\u001b[1m32/32\u001b[0m \u001b[32m━━━━━━━━━━━━━━━━━━━━\u001b[0m\u001b[37m\u001b[0m \u001b[1m0s\u001b[0m 2ms/step \n",
      "Compressed Representation (1000, 2)\n"
     ]
    },
    {
     "data": {
      "image/png": "[encoded data removed]",
      "text/plain": [
       "<Figure size 640x480 with 1 Axes>"
      ]
     },
     "metadata": {},
     "output_type": "display_data"
    }
   ],
   "source": [
    "# import necessary libraires\n",
    "from tensorflow.keras.models import Model\n",
    "from tensorflow.keras.layers import Input, Dense\n",
    "import numpy as np\n",
    "\n",
    "# sample data (e.g points in 5 dimensional space)\n",
    "X = np.random.rand(1000, 5)\n",
    "\n",
    "# Define the auto encoder model\n",
    "input_dim = X.shape[1]\n",
    "encoding_dim = 2 # compressing to 2 dimensions\n",
    "\n",
    "# encoder\n",
    "input_layer = Input(shape=(input_dim,))\n",
    "encoded = Dense(encoding_dim, activation='relu')(input_layer)\n",
    "\n",
    "# decoder\n",
    "decoded = Dense(input_dim, activation='sigmoid')(encoded)\n",
    "\n",
    "# autoencoder model\n",
    "autoencoder = Model(inputs=input_layer, outputs=decoded)\n",
    "\n",
    "# compile the model\n",
    "autoencoder.compile(optimizer='adam', loss='binary_crossentropy')\n",
    "\n",
    "# train the model\n",
    "autoencoder.fit(X,X, epochs=100, batch_size=2, verbose=0)\n",
    "\n",
    "# get the encoded representation\n",
    "encoder = Model(inputs=input_layer, outputs=encoded)\n",
    "X_compressed = encoder.predict(X)\n",
    "print(\"Compressed Representation\", X_compressed.shape)\n",
    "\n",
    "# visualise the compressed representation\n",
    "import matplotlib.pyplot as plt\n",
    "plt.scatter(X_compressed[:, 0], X_compressed[:, 1])\n",
    "plt.show()"
   ]
  }
 ],
 "metadata": {
  "kernelspec": {
   "display_name": "venv",
   "language": "python",
   "name": "python3"
  },
  "language_info": {
   "codemirror_mode": {
    "name": "ipython",
    "version": 3
   },
   "file_extension": ".py",
   "mimetype": "text/x-python",
   "name": "python",
   "nbconvert_exporter": "python",
   "pygments_lexer": "ipython3",
   "version": "3.11.9"
  }
 },
 "nbformat": 4,
 "nbformat_minor": 5
}
