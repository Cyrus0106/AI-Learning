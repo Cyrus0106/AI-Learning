{
 "cells": [
  {
   "cell_type": "markdown",
   "id": "d7d296a2",
   "metadata": {},
   "source": [
    "# t-Distributed Stochastiic Neighbour Embedding (t-SNE)"
   ]
  },
  {
   "cell_type": "markdown",
   "id": "b0e46481",
   "metadata": {},
   "source": [
    "#### t-Distributed Stochastic Neighbour Embedding (t-SNE)\n",
    "t-SNE is a dimensionality reduction technique primarily used for visualising high dimensional data in 2D or 3D space. Unlike PCA, t-SNE is non-linear and focuses on preserving the local structure of data, making it highly effective for visualising clusters. However, it is computationally intensive and best suited for small to medium sized datasets."
   ]
  },
  {
   "cell_type": "code",
   "execution_count": 4,
   "id": "65ee63bc",
   "metadata": {},
   "outputs": [
    {
     "name": "stdout",
     "output_type": "stream",
     "text": [
      "Reduced data:\n",
      " [[-310.3724      0.      ]\n",
      " [ 145.37753     0.      ]\n",
      " [ 218.62318     0.      ]\n",
      " [ -76.64567     0.      ]\n",
      " [-136.45131     0.      ]\n",
      " [-200.45328     0.      ]\n",
      " [  -8.522606    0.      ]\n",
      " [  54.93313     0.      ]]\n"
     ]
    },
    {
     "data": {
      "image/png": "[encoded data removed]",
      "text/plain": [
       "<Figure size 640x480 with 1 Axes>"
      ]
     },
     "metadata": {},
     "output_type": "display_data"
    }
   ],
   "source": [
    "# Import necessary libraries\n",
    "from sklearn.manifold import TSNE\n",
    "import numpy as np\n",
    "\n",
    "# sample data (e.g points in high-dimensional space)\n",
    "X = np.array(\n",
    "    [[1,2,3],\n",
    "     [2,3,4],\n",
    "     [3,4,5],\n",
    "     [4,5,6],\n",
    "     [5,6,7],    \n",
    "     [6,7,8],    \n",
    "     [7,8,9],    \n",
    "     [8,9,10]]\n",
    ")\n",
    "\n",
    "# initialise and fit the model\n",
    "tsne = TSNE(n_components=2, random_state=42, perplexity=5) # reducing to 2d for visualisation\n",
    "X_reduced = tsne.fit_transform(X)\n",
    "\n",
    "# print the reduced data\n",
    "print(\"Reduced data:\\n\", X_reduced)\n",
    "\n",
    "# visualise the reduced data\n",
    "import matplotlib.pyplot as plt\n",
    "plt.scatter(X_reduced[:,0], X_reduced[:,1])\n",
    "plt.show()\n"
   ]
  }
 ],
 "metadata": {
  "kernelspec": {
   "display_name": "venv",
   "language": "python",
   "name": "python3"
  },
  "language_info": {
   "codemirror_mode": {
    "name": "ipython",
    "version": 3
   },
   "file_extension": ".py",
   "mimetype": "text/x-python",
   "name": "python",
   "nbconvert_exporter": "python",
   "pygments_lexer": "ipython3",
   "version": "3.11.9"
  }
 },
 "nbformat": 4,
 "nbformat_minor": 5
}
