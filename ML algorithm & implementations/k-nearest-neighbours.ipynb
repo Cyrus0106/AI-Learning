{
 "cells": [
  {
   "cell_type": "markdown",
   "id": "21beb214",
   "metadata": {},
   "source": [
    "### KNN Implementation in Python"
   ]
  },
  {
   "cell_type": "markdown",
   "id": "15f62f8c",
   "metadata": {},
   "source": [
    "## K-Nearest Neighbors (KNN)\n",
    "\n",
    "K-Nearest Neighbors (KNN) is a simple, non-parametric algorithm used for both classification and regression tasks. It works by identifying the **k** closest data points (neighbors) in the feature space to a new, unseen data point and making predictions based on the majority class (for classification) or the average value (for regression) of those neighbors.\n",
    "\n",
    "**Key Characteristics:**\n",
    "- **Instance-based learning:** KNN does not explicitly learn a model; instead, it memorizes the training dataset and makes predictions at runtime.\n",
    "- **Distance metric:** The algorithm relies on a distance metric (commonly Euclidean distance) to determine the closeness of data points.\n",
    "- **Parameter k:** The choice of k (number of neighbors) significantly affects the performance of the algorithm. A small k can be sensitive to noise, while a large k may smooth out class boundaries.\n",
    "\n",
    "**Advantages:**\n",
    "- Simple to implement and understand.\n",
    "- No assumptions about data distribution (non-parametric).\n",
    "- Naturally handles multi-class problems.\n",
    "\n",
    "**Disadvantages:**\n",
    "- Computationally expensive for large datasets, as it requires calculating the distance to every training point.\n",
    "- Sensitive to the scale of features and irrelevant features.\n",
    "- Performance can degrade with high-dimensional data (curse of dimensionality).\n",
    "\n",
    "KNN is particularly useful for smaller datasets where the relationships among data points can be easily visualized and interpreted."
   ]
  },
  {
   "cell_type": "code",
   "execution_count": null,
   "id": "c348243b",
   "metadata": {},
   "outputs": [
    {
     "name": "stdout",
     "output_type": "stream",
     "text": [
      "Accuracy: 1.0\n",
      "Confusion Matrix:\n",
      " [[1 0]\n",
      " [0 1]]\n"
     ]
    },
    {
     "data": {
      "image/png": "[encoded data removed]",
      "text/plain": [
       "<Figure size 640x480 with 1 Axes>"
      ]
     },
     "metadata": {},
     "output_type": "display_data"
    }
   ],
   "source": [
    "# import necessary libraries\n",
    "from sklearn.neighbors import KNeighborsClassifier\n",
    "from sklearn.model_selection import train_test_split\n",
    "from sklearn.metrics import accuracy_score, confusion_matrix\n",
    "import numpy as np\n",
    "import matplotlib.pyplot as plt\n",
    "\n",
    "# sample data (e.g hours studied and prior grade vs pass/fail)\n",
    "X = np.array([[1,50],[2,60],[3,55],[4,65],[5,70],[6,75],[7,80],[8,85],[9,90],[10,95]])\n",
    "y = np.array([0,0,0,0,1,1,1,1,1,1]) # 0 = fail, 1 = pass\n",
    "\n",
    "# split data into training and testing sets\n",
    "X_train, X_test, y_train, y_test = train_test_split(X, y, test_size=0.2, random_state=42)\n",
    "\n",
    "# create KNN classifier\n",
    "knn = KNeighborsClassifier(n_neighbors=3) # k = 3\n",
    "\n",
    "# train the model\n",
    "knn.fit(X_train, y_train)\n",
    "\n",
    "# make predictions\n",
    "y_pred = knn.predict(X_test)\n",
    "\n",
    "# evaluate the model\n",
    "accuracy = accuracy_score(y_test, y_pred)\n",
    "confusion = confusion_matrix(y_test, y_pred)\n",
    "\n",
    "print(\"Accuracy:\", accuracy)\n",
    "print(\"Confusion Matrix:\\n\", confusion)\n",
    "\n",
    "# visualise the decision boundary\n",
    "x_min, x_max = X[:, 0].min() - 1, X[:, 0].max() + 1\n",
    "y_min, y_max = X[:, 1].min() - 1, X[:, 1].max() + 1\n",
    "xx, yy = np.meshgrid(np.arange(x_min, x_max, 0.1),\n",
    "    np.arange(y_min, y_max, 0.1))\n",
    "Z = knn.predict(np.c_[xx.ravel(), yy.ravel()])\n",
    "Z = Z.reshape(xx.shape)\n",
    "plt.contourf(xx, yy, Z, cmap=plt.cm.Spectral)\n",
    "plt.scatter(X[:, 0], X[:, 1], c=y, cmap=plt.cm.Spectral)\n",
    "plt.xlabel(\"Hours Studied\")\n",
    "plt.ylabel(\"Prior Grade\")\n",
    "plt.show()"
   ]
  }
 ],
 "metadata": {
  "kernelspec": {
   "display_name": "venv",
   "language": "python",
   "name": "python3"
  },
  "language_info": {
   "codemirror_mode": {
    "name": "ipython",
    "version": 3
   },
   "file_extension": ".py",
   "mimetype": "text/x-python",
   "name": "python",
   "nbconvert_exporter": "python",
   "pygments_lexer": "ipython3",
   "version": "3.11.9"
  }
 },
 "nbformat": 4,
 "nbformat_minor": 5
}
