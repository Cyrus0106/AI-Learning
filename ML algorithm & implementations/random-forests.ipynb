{
 "cells": [
  {
   "cell_type": "markdown",
   "id": "db66342a",
   "metadata": {},
   "source": [
    "### Random Forests Implementation in Python"
   ]
  },
  {
   "cell_type": "markdown",
   "id": "c4004392",
   "metadata": {},
   "source": [
    "Random Forests\n",
    "=============================================\n",
    "\n",
    "Random Forests are an ensemble learning method that combines multiple decision trees to make a more accurate and stable prediction. Each tree in the forest is trained on a random subset of the data, and the final prediction is made by averaging (for regression) or voting (for classification) the predictions of individual trees. This helps to reduce overfitting and improve generalisation.\n",
    "random forests are an ensemble learning method that combines multiple decision trees to make a more accurate and stable prediction. Each treee in the forest is trained on a random subset of the data, and the final prediction is made by averaging(for regression) or voting(for classification) the predictions of individual trees this helps to reduce overfitting and improve generalisation\n"
   ]
  },
  {
   "cell_type": "code",
   "execution_count": 4,
   "id": "4fa8af3f",
   "metadata": {},
   "outputs": [
    {
     "name": "stdout",
     "output_type": "stream",
     "text": [
      "Accuracy: 1.0\n",
      "Confusion Matrix:\n",
      " [[1 0]\n",
      " [0 1]]\n"
     ]
    }
   ],
   "source": [
    "# import necessary libraries\n",
    "from sklearn.ensemble import RandomForestClassifier\n",
    "from sklearn.model_selection import train_test_split\n",
    "from sklearn.metrics import accuracy_score, confusion_matrix\n",
    "import numpy as np\n",
    "\n",
    "# sample data (e.g hours studied and prior grade vs pass/fail)\n",
    "X = np.array([[1,50],[2,60],[3,55],[4,65],[5,70],[6,75],[7,80],[8,85],[9,90],[10,95]])\n",
    "y = np.array([0,0,0,0,1,1,1,1,1,1]) # 0 = fail, 1 = pass\n",
    "\n",
    "# split data into training and testing sets\n",
    "X_train, X_test, y_train, y_test = train_test_split(X, y, test_size=0.2, random_state=42)\n",
    "\n",
    "# create and train random forest classifier\n",
    "rf = RandomForestClassifier(n_estimators=10, random_state=42)\n",
    "rf.fit(X_train, y_train)\n",
    "\n",
    "# make predictions on test set\n",
    "y_pred = rf.predict(X_test)\n",
    "\n",
    "# evaluate performance\n",
    "accuracy = accuracy_score(y_test, y_pred)\n",
    "confusion_mat = confusion_matrix(y_test, y_pred)\n",
    "\n",
    "print(\"Accuracy:\", accuracy)\n",
    "print(\"Confusion Matrix:\\n\", confusion_mat)"
   ]
  }
 ],
 "metadata": {
  "kernelspec": {
   "display_name": "venv",
   "language": "python",
   "name": "python3"
  },
  "language_info": {
   "codemirror_mode": {
    "name": "ipython",
    "version": 3
   },
   "file_extension": ".py",
   "mimetype": "text/x-python",
   "name": "python",
   "nbconvert_exporter": "python",
   "pygments_lexer": "ipython3",
   "version": "3.11.9"
  }
 },
 "nbformat": 4,
 "nbformat_minor": 5
}
