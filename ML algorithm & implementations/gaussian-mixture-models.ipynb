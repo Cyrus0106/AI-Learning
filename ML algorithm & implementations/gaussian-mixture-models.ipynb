{
 "cells": [
  {
   "cell_type": "markdown",
   "id": "851270fc",
   "metadata": {},
   "source": [
    "# Gaussian Mixture Models (GMM)"
   ]
  },
  {
   "cell_type": "markdown",
   "id": "ae4a4d89",
   "metadata": {},
   "source": [
    "### Gausian Mixture Models\n",
    "Gaussian Mixture Moels (GMM) is a probabilistic clustering algorithm that assumes data points are generated from a mixture of serveeral Gaussian distributions with unknown parameters. GMM assigns a probability to each data point for belonging to each cluster, making it a soft clustering technique. It is particularly useful when clusters have different shapes or densities."
   ]
  },
  {
   "cell_type": "code",
   "execution_count": 4,
   "id": "309dbf00",
   "metadata": {},
   "outputs": [
    {
     "name": "stdout",
     "output_type": "stream",
     "text": [
      "Cluster labels: [0 0 0 0 0 0 0 0 0 0 1]\n",
      "Cluster probabilities: [[1. 0.]\n",
      " [1. 0.]\n",
      " [1. 0.]\n",
      " [1. 0.]\n",
      " [1. 0.]\n",
      " [1. 0.]\n",
      " [1. 0.]\n",
      " [1. 0.]\n",
      " [1. 0.]\n",
      " [1. 0.]\n",
      " [0. 1.]]\n"
     ]
    }
   ],
   "source": [
    "# import necessary libraries\n",
    "from sklearn.mixture import GaussianMixture  # fixed import typo\n",
    "import numpy as np\n",
    "\n",
    "# sample data (e.g points in 2D space)\n",
    "X = np.array(\n",
    "    [\n",
    "        [1, 2],\n",
    "        [6, 7],\n",
    "        [2, 1],\n",
    "        [5, 6],\n",
    "        [3, 4],\n",
    "        [4, 5],\n",
    "        [1, 1],\n",
    "        [2, 3],\n",
    "        [4, 2],\n",
    "        [3, 5],\n",
    "        [67, 5],\n",
    "    ]\n",
    ")\n",
    "\n",
    "# intiialise and fit the model\n",
    "gmm = GaussianMixture(n_components=2, random_state=42) # n_components is the number of clusters\n",
    "gmm.fit(X)\n",
    "\n",
    "# get the cluster labels and probabilities\n",
    "labels = gmm.predict(X)\n",
    "probabilities = gmm.predict_proba(X)\n",
    "\n",
    "print(\"Cluster labels:\", labels)\n",
    "print(\"Cluster probabilities:\", probabilities)"
   ]
  }
 ],
 "metadata": {
  "kernelspec": {
   "display_name": "venv",
   "language": "python",
   "name": "python3"
  },
  "language_info": {
   "codemirror_mode": {
    "name": "ipython",
    "version": 3
   },
   "file_extension": ".py",
   "mimetype": "text/x-python",
   "name": "python",
   "nbconvert_exporter": "python",
   "pygments_lexer": "ipython3",
   "version": "3.11.9"
  }
 },
 "nbformat": 4,
 "nbformat_minor": 5
}
